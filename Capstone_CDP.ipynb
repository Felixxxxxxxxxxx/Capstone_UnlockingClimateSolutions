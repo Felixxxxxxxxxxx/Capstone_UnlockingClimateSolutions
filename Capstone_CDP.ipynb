{
  "cells":[
    {
      "cell_type":"code",
      "source":[
        "import pandas as pd\n",
        "import numpy as np\n",
        "import glob\n",
        "import os"
      ],
      "execution_count":12,
      "outputs":[
        
      ],
      "metadata":{
        
      }
    },
    {
      "cell_type":"markdown",
      "source":[
        "# Import data frames"
      ],
      "metadata":{
        
      }
    },
    {
      "cell_type":"markdown",
      "source":[
        "First, we start by importing the different csv files and continue by concatenating the files into one dataframe."
      ],
      "metadata":{
        
      }
    },
    {
      "cell_type":"code",
      "source":[
        "def get_data(path, filename_start):\n",
        "    '''a function to store the content of a directory into a pd dataframe'''\n",
        "    \n",
        "    # checking the contents of the directory using the os-module. \n",
        "    files = [\n",
        "        file for file in os.listdir(path) \n",
        "        if file.startswith(filename_start)\n",
        "        ]\n",
        "    \n",
        "    print(files)  \n",
        "    \n",
        "    # iterate through files and add to the data frame\n",
        "    all_data = pd.DataFrame()\n",
        "    for file in files:\n",
        "        current_data = pd.read_csv(path+\"\/\"+file)\n",
        "        all_data = pd.concat([all_data, current_data], ignore_index=True)\n",
        "\n",
        "    # remove whitespaces from column names\n",
        "    all_data.columns = all_data.columns.str.replace(' ', '')\n",
        "        \n",
        "    print(f'''A dataframe with {all_data.shape[0]} rows and {all_data.shape[1]} columns has been created!\\nAll whitespace in column names has been removed.''')\n",
        "    \n",
        "    return all_data"
      ],
      "execution_count":4,
      "outputs":[
        
      ],
      "metadata":{
        
      }
    },
    {
      "cell_type":"markdown",
      "source":[
        "## Cities Disclosing \/ Responses"
      ],
      "metadata":{
        
      }
    },
    {
      "cell_type":"code",
      "source":[
        "# add all cities disclosers to a dateframe\n",
        "df_cities_disc = get_data(\n",
        "    path='data\/Cities\/Disclosing',\n",
        "    filename_start='20'\n",
        "    )"
      ],
      "execution_count":0,
      "outputs":[
        
      ],
      "metadata":{
        
      }
    },
    {
      "cell_type":"code",
      "source":[
        "# add all cities responses to a dateframe\n",
        "df_cities_resp = get_data(\n",
        "    path='data\/Cities\/Responses',\n",
        "    filename_start='20'\n",
        "    )"
      ],
      "execution_count":5,
      "outputs":[
        {
          "name":"stdout",
          "text":[
            "['2019_Full_Cities_Dataset.csv', '2018_Full_Cities_Dataset.csv', '2020_Full_Cities_Dataset.csv']\n",
            "A dataframe with 1542496 rows and 18 columns has been created!\n",
            "All whitespace in column names has been removed.\n"
          ],
          "output_type":"stream"
        }
      ],
      "metadata":{
        
      }
    },
    {
      "cell_type":"markdown",
      "source":[
        "## Corporates Disclosing \/ Responses"
      ],
      "metadata":{
        
      }
    },
    {
      "cell_type":"code",
      "source":[
        "# add all corporates disclosings to a dateframe\n",
        "df_corp_disc = get_data(\n",
        "    path='data\/Corporations\/Disclosing',\n",
        "    filename_start='20'\n",
        "    )"
      ],
      "execution_count":0,
      "outputs":[
        
      ],
      "metadata":{
        
      }
    },
    {
      "cell_type":"code",
      "source":[
        "# add all corporates  responses to a dateframe\n",
        "df_corp_resp = get_data(\n",
        "    path='data\/Corporations\/Responses',\n",
        "    filename_start='20'\n",
        "    )"
      ],
      "execution_count":0,
      "outputs":[
        
      ],
      "metadata":{
        
      }
    },
    {
      "cell_type":"markdown",
      "source":[
        "# Dataframe Description"
      ],
      "metadata":{
        
      }
    },
    {
      "cell_type":"markdown",
      "source":[
        "## Cities"
      ],
      "metadata":{
        
      }
    },
    {
      "cell_type":"markdown",
      "source":[
        "Below is a description of the columns for the **City Disclosures**:\n",
        "\n",
        "**Year Reported to CDP** : Cities Disclosure cycle survey year  \n",
        "\n",
        "**Account Number** : The unique identifier given to every city organisation that receives a request to complete a CDP questionnaire  \n",
        "\n",
        "**Organization**: Name of the City organisation disclosing  \n",
        "\n",
        "**City**: Name of the City the city organisation is disclosing on behalf of  \n",
        "\n",
        "**Country**: Country of city  \n",
        "\n",
        "**CDP Region**: CDP operation region City is located within  \n",
        "\n",
        "**Reporting Authority**: \"CDP collects information on behalf of a number of additional initiatives. Other than CDP Cities, organisations can indicate the additional initiatve they are have answered questions for \",\"C40,CDP Cities,ICLEI - Local Governments for Sustainability\",\"Includes Global Covenant of Mayors for Climate and Energy, ICLEI Green Climate Cities, ICLEI Ecomobility \/ Ecologistics, C40 Cities Climate Leadership Group\"  \n",
        "\n",
        "**Access**: Cities can submit CDP response in public status or in non public status. Non public responses can only be shared within CDP and between signatory partners. Public responses can be shared beyond CDP City organisations,public  \n",
        "\n",
        "**First Time Discloser**: Is the City disclosing for the first time to CDP  \n",
        "\n",
        "**Population**: Citiy population estimate  \n",
        "\n",
        "**Population Year**: City population estimate year  \n",
        "\n",
        "**City Location**: \"Citty location cordinates by longitude, latitide\"  \n",
        "\n",
        "**Last update**: Resonse record last update  "
      ],
      "metadata":{
        
      }
    },
    {
      "cell_type":"markdown",
      "source":[
        "*Below is a description of the column types for **City Responses**:*  \n",
        "\n",
        "\n",
        "**Questionnaire** : Questionnaire and questionnaire year the company's response relates to\n",
        "\n",
        "**Year Reported to CDP** : Cities Disclosure cycle survey year  \n",
        "\n",
        "**Account Number** : The unique identifier given to every city organisation that receives a request to complete a CDP questionnaire  \n",
        "\n",
        "**Organization** : Name of the City organisation disclosing  \n",
        "\n",
        "**Country** : Country of city    \n",
        "\n",
        "**CDP Region** : CDP operation region City is located within  \n",
        "\n",
        "**Parent Section** : Module ('Parent Section') of the CDP questionnaire the question belongs to (e.g. Emissions Reduction)  \n",
        "\n",
        "**Section** : Section of the CDP questionnaire the question belongs to (e.g.Mitigation Actions)  \n",
        "\n",
        "**Question Number** : Question number of response (e.g. 5.4) \n",
        " \n",
        "**Question Name** : Describes the anticipated outcomes of the most impactful mitigation actions your city is currently undertaking; the total cost of the action and how much is being funded by the local government \n",
        "\n",
        "**Column Number** : Column number of matrix set (Table) or matrix dynamic (Add Rows Table) column in question  reponse table  \n",
        "\n",
        "**Column Name** : Column name of matrix set (Table) or matrix dynamic (Add Rows Table) column in question  reponse table,Co-benefit area \n",
        "\n",
        "**Row Number** : \"Row number of matrix set (Table) or matrix dynamic (Add Rows Table) row in question  reponse table. If originally submitted in a table format, this will indicate the number of rows of response data has been entered in response to a question. \",  \n",
        "\n",
        "**Row Name** : Row name of matrix set (Table) or matrix dynamic (Add Rows Table) row in question  reponse table. Description of data type for RowNumber where applicable, Population that is food insecure)  \n",
        "\n",
        "**Response Answer** : Question response submitted by company,Greening the economy,\"Can range from string, integar and double data types. Question not applicable = This question was not presented to the company to be answered due to conditional logic in the questionnaire. NA = The company was presented with this question but did not respond\"  "
      ],
      "metadata":{
        
      }
    },
    {
      "cell_type":"markdown",
      "source":[
        "## Corporates"
      ],
      "metadata":{
        
      }
    },
    {
      "cell_type":"markdown",
      "source":[
        "No description so far!"
      ],
      "metadata":{
        
      }
    },
    {
      "cell_type":"markdown",
      "source":[
        "# Data Content"
      ],
      "metadata":{
        
      }
    },
    {
      "cell_type":"code",
      "source":[
        "df_cities_resp.value_counts('Questionnaire')"
      ],
      "execution_count":9,
      "outputs":[
        {
          "data":{
            "text\/plain":[
              "Questionnaire\n",
              "Cities 2020        869313\n",
              "Cities 2019        486349\n",
              "CDP Cities 2018    186834\n",
              "dtype: int64"
            ]
          },
          "metadata":{
            
          },
          "output_type":"display_data"
        }
      ],
      "metadata":{
        
      }
    },
    {
      "cell_type":"code",
      "source":[
        "df_cities_resp.query('QuestionNumber == \"14.4\" & Questionnaire == \"Cities 2020\"')"
      ],
      "execution_count":10,
      "outputs":[
        {
          "data":{
            "text\/html":[
              "<div>\n",
              "<style scoped>\n",
              "    .dataframe tbody tr th:only-of-type {\n",
              "        vertical-align: middle;\n",
              "    }\n",
              "\n",
              "    .dataframe tbody tr th {\n",
              "        vertical-align: top;\n",
              "    }\n",
              "\n",
              "    .dataframe thead th {\n",
              "        text-align: right;\n",
              "    }\n",
              "<\/style>\n",
              "<table border=\"1\" class=\"dataframe\">\n",
              "  <thead>\n",
              "    <tr style=\"text-align: right;\">\n",
              "      <th><\/th>\n",
              "      <th>Questionnaire<\/th>\n",
              "      <th>YearReportedtoCDP<\/th>\n",
              "      <th>AccountNumber<\/th>\n",
              "      <th>Organization<\/th>\n",
              "      <th>Country<\/th>\n",
              "      <th>CDPRegion<\/th>\n",
              "      <th>ParentSection<\/th>\n",
              "      <th>Section<\/th>\n",
              "      <th>QuestionNumber<\/th>\n",
              "      <th>QuestionName<\/th>\n",
              "      <th>ColumnNumber<\/th>\n",
              "      <th>ColumnName<\/th>\n",
              "      <th>RowNumber<\/th>\n",
              "      <th>RowName<\/th>\n",
              "      <th>ResponseAnswer<\/th>\n",
              "      <th>Comments<\/th>\n",
              "      <th>FileName<\/th>\n",
              "      <th>Lastupdate<\/th>\n",
              "    <\/tr>\n",
              "  <\/thead>\n",
              "  <tbody>\n",
              "    <tr>\n",
              "      <th>2300<\/th>\n",
              "      <td>Cities 2020<\/td>\n",
              "      <td>2020<\/td>\n",
              "      <td>49342<\/td>\n",
              "      <td>City of Rochester<\/td>\n",
              "      <td>United States of America<\/td>\n",
              "      <td>North America<\/td>\n",
              "      <td>Water Security<\/td>\n",
              "      <td>Water Supply Management<\/td>\n",
              "      <td>14.4<\/td>\n",
              "      <td>Does your city have a publicly available Water...<\/td>\n",
              "      <td>0<\/td>\n",
              "      <td>NaN<\/td>\n",
              "      <td>0<\/td>\n",
              "      <td>NaN<\/td>\n",
              "      <td>Yes<\/td>\n",
              "      <td>NaN<\/td>\n",
              "      <td>NaN<\/td>\n",
              "      <td>09\/07\/2020 09:45:36 AM<\/td>\n",
              "    <\/tr>\n",
              "    <tr>\n",
              "      <th>2820<\/th>\n",
              "      <td>Cities 2020<\/td>\n",
              "      <td>2020<\/td>\n",
              "      <td>50551<\/td>\n",
              "      <td>City of Long Beach<\/td>\n",
              "      <td>United States of America<\/td>\n",
              "      <td>North America<\/td>\n",
              "      <td>Water Security<\/td>\n",
              "      <td>Water Supply Management<\/td>\n",
              "      <td>14.4<\/td>\n",
              "      <td>Does your city have a publicly available Water...<\/td>\n",
              "      <td>0<\/td>\n",
              "      <td>NaN<\/td>\n",
              "      <td>0<\/td>\n",
              "      <td>NaN<\/td>\n",
              "      <td>Yes<\/td>\n",
              "      <td>NaN<\/td>\n",
              "      <td>NaN<\/td>\n",
              "      <td>09\/07\/2020 09:45:36 AM<\/td>\n",
              "    <\/tr>\n",
              "    <tr>\n",
              "      <th>5426<\/th>\n",
              "      <td>Cities 2020<\/td>\n",
              "      <td>2020<\/td>\n",
              "      <td>54290<\/td>\n",
              "      <td>Qingdao Municipal Government<\/td>\n",
              "      <td>China<\/td>\n",
              "      <td>East Asia<\/td>\n",
              "      <td>Water Security<\/td>\n",
              "      <td>Water Supply Management<\/td>\n",
              "      <td>14.4<\/td>\n",
              "      <td>Does your city have a publicly available Water...<\/td>\n",
              "      <td>0<\/td>\n",
              "      <td>NaN<\/td>\n",
              "      <td>0<\/td>\n",
              "      <td>NaN<\/td>\n",
              "      <td>Yes<\/td>\n",
              "      <td>NaN<\/td>\n",
              "      <td>NaN<\/td>\n",
              "      <td>09\/07\/2020 09:45:36 AM<\/td>\n",
              "    <\/tr>\n",
              "    <tr>\n",
              "      <th>5949<\/th>\n",
              "      <td>Cities 2020<\/td>\n",
              "      <td>2020<\/td>\n",
              "      <td>42388<\/td>\n",
              "      <td>Intendencia de Montevideo<\/td>\n",
              "      <td>Uruguay<\/td>\n",
              "      <td>Latin America<\/td>\n",
              "      <td>Water Security<\/td>\n",
              "      <td>Water Supply Management<\/td>\n",
              "      <td>14.4<\/td>\n",
              "      <td>Does your city have a publicly available Water...<\/td>\n",
              "      <td>0<\/td>\n",
              "      <td>NaN<\/td>\n",
              "      <td>0<\/td>\n",
              "      <td>NaN<\/td>\n",
              "      <td>Intending to undertake in next 2 years<\/td>\n",
              "      <td>NaN<\/td>\n",
              "      <td>NaN<\/td>\n",
              "      <td>09\/07\/2020 09:45:36 AM<\/td>\n",
              "    <\/tr>\n",
              "    <tr>\n",
              "      <th>5988<\/th>\n",
              "      <td>Cities 2020<\/td>\n",
              "      <td>2020<\/td>\n",
              "      <td>60369<\/td>\n",
              "      <td>Alcaldía Municipal de Armenia<\/td>\n",
              "      <td>Colombia<\/td>\n",
              "      <td>Latin America<\/td>\n",
              "      <td>Water Security<\/td>\n",
              "      <td>Water Supply Management<\/td>\n",
              "      <td>14.4<\/td>\n",
              "      <td>Does your city have a publicly available Water...<\/td>\n",
              "      <td>0<\/td>\n",
              "      <td>NaN<\/td>\n",
              "      <td>0<\/td>\n",
              "      <td>NaN<\/td>\n",
              "      <td>Intending to undertake in next 2 years<\/td>\n",
              "      <td>NaN<\/td>\n",
              "      <td>NaN<\/td>\n",
              "      <td>09\/07\/2020 09:45:36 AM<\/td>\n",
              "    <\/tr>\n",
              "    <tr>\n",
              "      <th>...<\/th>\n",
              "      <td>...<\/td>\n",
              "      <td>...<\/td>\n",
              "      <td>...<\/td>\n",
              "      <td>...<\/td>\n",
              "      <td>...<\/td>\n",
              "      <td>...<\/td>\n",
              "      <td>...<\/td>\n",
              "      <td>...<\/td>\n",
              "      <td>...<\/td>\n",
              "      <td>...<\/td>\n",
              "      <td>...<\/td>\n",
              "      <td>...<\/td>\n",
              "      <td>...<\/td>\n",
              "      <td>...<\/td>\n",
              "      <td>...<\/td>\n",
              "      <td>...<\/td>\n",
              "      <td>...<\/td>\n",
              "      <td>...<\/td>\n",
              "    <\/tr>\n",
              "    <tr>\n",
              "      <th>864416<\/th>\n",
              "      <td>Cities 2020<\/td>\n",
              "      <td>2020<\/td>\n",
              "      <td>58668<\/td>\n",
              "      <td>City of New Bedford, MA<\/td>\n",
              "      <td>United States of America<\/td>\n",
              "      <td>North America<\/td>\n",
              "      <td>Water Security<\/td>\n",
              "      <td>Water Supply Management<\/td>\n",
              "      <td>14.4<\/td>\n",
              "      <td>Does your city have a publicly available Water...<\/td>\n",
              "      <td>0<\/td>\n",
              "      <td>NaN<\/td>\n",
              "      <td>0<\/td>\n",
              "      <td>NaN<\/td>\n",
              "      <td>Intending to undertake in next 2 years<\/td>\n",
              "      <td>NaN<\/td>\n",
              "      <td>NaN<\/td>\n",
              "      <td>09\/07\/2020 09:45:36 AM<\/td>\n",
              "    <\/tr>\n",
              "    <tr>\n",
              "      <th>865810<\/th>\n",
              "      <td>Cities 2020<\/td>\n",
              "      <td>2020<\/td>\n",
              "      <td>43930<\/td>\n",
              "      <td>The Hague<\/td>\n",
              "      <td>Netherlands<\/td>\n",
              "      <td>Europe<\/td>\n",
              "      <td>Water Security<\/td>\n",
              "      <td>Water Supply Management<\/td>\n",
              "      <td>14.4<\/td>\n",
              "      <td>Does your city have a publicly available Water...<\/td>\n",
              "      <td>0<\/td>\n",
              "      <td>NaN<\/td>\n",
              "      <td>0<\/td>\n",
              "      <td>NaN<\/td>\n",
              "      <td>Yes<\/td>\n",
              "      <td>NaN<\/td>\n",
              "      <td>NaN<\/td>\n",
              "      <td>09\/07\/2020 09:45:36 AM<\/td>\n",
              "    <\/tr>\n",
              "    <tr>\n",
              "      <th>867912<\/th>\n",
              "      <td>Cities 2020<\/td>\n",
              "      <td>2020<\/td>\n",
              "      <td>2185<\/td>\n",
              "      <td>Bristol City Council<\/td>\n",
              "      <td>United Kingdom of Great Britain and Northern I...<\/td>\n",
              "      <td>Europe<\/td>\n",
              "      <td>Water Security<\/td>\n",
              "      <td>Water Supply Management<\/td>\n",
              "      <td>14.4<\/td>\n",
              "      <td>Does your city have a publicly available Water...<\/td>\n",
              "      <td>0<\/td>\n",
              "      <td>NaN<\/td>\n",
              "      <td>0<\/td>\n",
              "      <td>NaN<\/td>\n",
              "      <td>Yes<\/td>\n",
              "      <td>NaN<\/td>\n",
              "      <td>NaN<\/td>\n",
              "      <td>09\/07\/2020 09:45:36 AM<\/td>\n",
              "    <\/tr>\n",
              "    <tr>\n",
              "      <th>868284<\/th>\n",
              "      <td>Cities 2020<\/td>\n",
              "      <td>2020<\/td>\n",
              "      <td>69995<\/td>\n",
              "      <td>Kemi<\/td>\n",
              "      <td>Finland<\/td>\n",
              "      <td>Europe<\/td>\n",
              "      <td>Water Security<\/td>\n",
              "      <td>Water Supply Management<\/td>\n",
              "      <td>14.4<\/td>\n",
              "      <td>Does your city have a publicly available Water...<\/td>\n",
              "      <td>0<\/td>\n",
              "      <td>NaN<\/td>\n",
              "      <td>0<\/td>\n",
              "      <td>NaN<\/td>\n",
              "      <td>Not intending to undertake<\/td>\n",
              "      <td>NaN<\/td>\n",
              "      <td>NaN<\/td>\n",
              "      <td>09\/07\/2020 09:45:36 AM<\/td>\n",
              "    <\/tr>\n",
              "    <tr>\n",
              "      <th>868725<\/th>\n",
              "      <td>Cities 2020<\/td>\n",
              "      <td>2020<\/td>\n",
              "      <td>54070<\/td>\n",
              "      <td>City of Eugene<\/td>\n",
              "      <td>United States of America<\/td>\n",
              "      <td>North America<\/td>\n",
              "      <td>Water Security<\/td>\n",
              "      <td>Water Supply Management<\/td>\n",
              "      <td>14.4<\/td>\n",
              "      <td>Does your city have a publicly available Water...<\/td>\n",
              "      <td>0<\/td>\n",
              "      <td>NaN<\/td>\n",
              "      <td>0<\/td>\n",
              "      <td>NaN<\/td>\n",
              "      <td>Yes<\/td>\n",
              "      <td>NaN<\/td>\n",
              "      <td>NaN<\/td>\n",
              "      <td>09\/07\/2020 09:45:36 AM<\/td>\n",
              "    <\/tr>\n",
              "  <\/tbody>\n",
              "<\/table>\n",
              "<p>566 rows × 18 columns<\/p>\n",
              "<\/div>"
            ]
          },
          "metadata":{
            
          },
          "output_type":"display_data"
        }
      ],
      "metadata":{
        
      }
    },
    {
      "cell_type":"code",
      "source":[
        "def question_to_col(data, QuestionNumber, ColumnNumber):\n",
        "    '''A simple function to create a new dataframe with all responses to one question.'''\n",
        "    small_df = pd.DataFrame(columns=[QuestionNumber])\n",
        "    small_df[QuestionNumber] = data['ResponseAnswer'].loc[(data['QuestionNumber'] == QuestionNumber) & (data['ColumnNumber'] == int(ColumnNumber))]\n",
        "    return small_df"
      ],
      "execution_count":7,
      "outputs":[
        
      ],
      "metadata":{
        
      }
    },
    {
      "cell_type":"code",
      "source":[
        "question_to_col(data=df_cities_resp, QuestionNumber='2.1', ColumnNumber='1')"
      ],
      "execution_count":11,
      "outputs":[
        {
          "data":{
            "text\/html":[
              "<div>\n",
              "<style scoped>\n",
              "    .dataframe tbody tr th:only-of-type {\n",
              "        vertical-align: middle;\n",
              "    }\n",
              "\n",
              "    .dataframe tbody tr th {\n",
              "        vertical-align: top;\n",
              "    }\n",
              "\n",
              "    .dataframe thead th {\n",
              "        text-align: right;\n",
              "    }\n",
              "<\/style>\n",
              "<table border=\"1\" class=\"dataframe\">\n",
              "  <thead>\n",
              "    <tr style=\"text-align: right;\">\n",
              "      <th><\/th>\n",
              "      <th>2.1<\/th>\n",
              "    <\/tr>\n",
              "  <\/thead>\n",
              "  <tbody>\n",
              "    <tr>\n",
              "      <th>81<\/th>\n",
              "      <td>Flood and sea level rise &gt; Permanent inundation<\/td>\n",
              "    <\/tr>\n",
              "    <tr>\n",
              "      <th>457<\/th>\n",
              "      <td>Water Scarcity &gt; Drought<\/td>\n",
              "    <\/tr>\n",
              "    <tr>\n",
              "      <th>598<\/th>\n",
              "      <td>Extreme Precipitation &gt; Fog<\/td>\n",
              "    <\/tr>\n",
              "    <tr>\n",
              "      <th>634<\/th>\n",
              "      <td>Extreme hot temperature &gt; Heat wave<\/td>\n",
              "    <\/tr>\n",
              "    <tr>\n",
              "      <th>640<\/th>\n",
              "      <td>Extreme hot temperature &gt; Extreme hot days<\/td>\n",
              "    <\/tr>\n",
              "    <tr>\n",
              "      <th>...<\/th>\n",
              "      <td>...<\/td>\n",
              "    <\/tr>\n",
              "    <tr>\n",
              "      <th>867990<\/th>\n",
              "      <td>NaN<\/td>\n",
              "    <\/tr>\n",
              "    <tr>\n",
              "      <th>867999<\/th>\n",
              "      <td>Water Scarcity &gt; Drought<\/td>\n",
              "    <\/tr>\n",
              "    <tr>\n",
              "      <th>868373<\/th>\n",
              "      <td>Storm and wind &gt; Severe wind<\/td>\n",
              "    <\/tr>\n",
              "    <tr>\n",
              "      <th>868679<\/th>\n",
              "      <td>Wild fire &gt; Forest fire<\/td>\n",
              "    <\/tr>\n",
              "    <tr>\n",
              "      <th>868746<\/th>\n",
              "      <td>Extreme Precipitation &gt; Hail<\/td>\n",
              "    <\/tr>\n",
              "  <\/tbody>\n",
              "<\/table>\n",
              "<p>6568 rows × 1 columns<\/p>\n",
              "<\/div>"
            ]
          },
          "metadata":{
            
          },
          "output_type":"display_data"
        }
      ],
      "metadata":{
        
      }
    }
  ],
  "metadata":{
    
  },
  "nbformat":4,
  "nbformat_minor":0
}