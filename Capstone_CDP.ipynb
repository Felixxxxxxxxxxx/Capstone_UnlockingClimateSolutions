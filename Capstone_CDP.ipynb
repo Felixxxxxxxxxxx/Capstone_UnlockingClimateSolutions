{
 "cells": [
  {
   "cell_type": "code",
   "execution_count": null,
   "metadata": {},
   "outputs": [],
   "source": [
    "import pandas as pd\n",
    "import numpy as np\n",
    "import glob\n",
    "import os"
   ]
  },
  {
   "cell_type": "markdown",
   "metadata": {},
   "source": [
    "# Import data frames"
   ]
  },
  {
   "cell_type": "markdown",
   "metadata": {},
   "source": [
    "First, we start by importing the different csv files and continue by concatenating the files into one dataframe."
   ]
  },
  {
   "cell_type": "code",
   "execution_count": null,
   "metadata": {},
   "outputs": [],
   "source": [
    "def get_data(path, filename_start):\n",
    "    '''a function to store the content of a directory into a pd dataframe'''\n",
    "    \n",
    "    # checking the contents of the directory using the os-module. \n",
    "    files = [\n",
    "        file for file in os.listdir(path) \n",
    "        if file.startswith(filename_start)\n",
    "        ]\n",
    "    \n",
    "    print(files)  \n",
    "    \n",
    "    # iterate through files and add to the data frame\n",
    "    all_data = pd.DataFrame()\n",
    "    for file in files:\n",
    "        current_data = pd.read_csv(path+\"/\"+file)\n",
    "        all_data = pd.concat([all_data, current_data], ignore_index=True)\n",
    "\n",
    "    # remove whitespaces from column names\n",
    "    all_data.columns = all_data.columns.str.replace(' ', '')\n",
    "        \n",
    "    print(f'''A dataframe with {all_data.shape[0]} rows and {all_data.shape[1]} columns has been created!\\nAll whitespace in column names has been removed.''')\n",
    "    \n",
    "    return all_data"
   ]
  },
  {
   "cell_type": "markdown",
   "metadata": {},
   "source": [
    "## Cities Disclosing / Responses"
   ]
  },
  {
   "cell_type": "code",
   "execution_count": null,
   "metadata": {},
   "outputs": [],
   "source": [
    "# add all cities disclosers to a dateframe\n",
    "df_cities_disc = get_data(\n",
    "    path='data/Cities/Disclosing',\n",
    "    filename_start='20'\n",
    "    )"
   ]
  },
  {
   "cell_type": "code",
   "execution_count": null,
   "metadata": {},
   "outputs": [],
   "source": [
    "# add all cities responses to a dateframe\n",
    "df_cities_resp = get_data(\n",
    "    path='data/Cities/Responses',\n",
    "    filename_start='20'\n",
    "    )"
   ]
  },
  {
   "cell_type": "markdown",
   "metadata": {},
   "source": [
    "## Corporates Disclosing / Responses"
   ]
  },
  {
   "cell_type": "code",
   "execution_count": null,
   "metadata": {},
   "outputs": [],
   "source": [
    "# add all corporates disclosings to a dateframe\n",
    "df_corp_disc = get_data(\n",
    "    path='data/Corporations/Disclosing',\n",
    "    filename_start='20'\n",
    "    )"
   ]
  },
  {
   "cell_type": "code",
   "execution_count": null,
   "metadata": {},
   "outputs": [],
   "source": [
    "# add all corporates  responses to a dateframe\n",
    "df_corp_resp = get_data(\n",
    "    path='data/Corporations/Responses',\n",
    "    filename_start='20'\n",
    "    )"
   ]
  },
  {
   "cell_type": "markdown",
   "metadata": {},
   "source": [
    "# Dataframe Description"
   ]
  },
  {
   "cell_type": "markdown",
   "metadata": {},
   "source": [
    "## Cities"
   ]
  },
  {
   "cell_type": "markdown",
   "metadata": {},
   "source": [
    "Below is a description of the columns for the **City Disclosures**:\n",
    "\n",
    "**Year Reported to CDP** : Cities Disclosure cycle survey year  \n",
    "\n",
    "**Account Number** : The unique identifier given to every city organisation that receives a request to complete a CDP questionnaire  \n",
    "\n",
    "**Organization**: Name of the City organisation disclosing  \n",
    "\n",
    "**City**: Name of the City the city organisation is disclosing on behalf of  \n",
    "\n",
    "**Country**: Country of city  \n",
    "\n",
    "**CDP Region**: CDP operation region City is located within  \n",
    "\n",
    "**Reporting Authority**: \"CDP collects information on behalf of a number of additional initiatives. Other than CDP Cities, organisations can indicate the additional initiatve they are have answered questions for \",\"C40,CDP Cities,ICLEI - Local Governments for Sustainability\",\"Includes Global Covenant of Mayors for Climate and Energy, ICLEI Green Climate Cities, ICLEI Ecomobility / Ecologistics, C40 Cities Climate Leadership Group\"  \n",
    "\n",
    "**Access**: Cities can submit CDP response in public status or in non public status. Non public responses can only be shared within CDP and between signatory partners. Public responses can be shared beyond CDP City organisations,public  \n",
    "\n",
    "**First Time Discloser**: Is the City disclosing for the first time to CDP  \n",
    "\n",
    "**Population**: Citiy population estimate  \n",
    "\n",
    "**Population Year**: City population estimate year  \n",
    "\n",
    "**City Location**: \"Citty location cordinates by longitude, latitide\"  \n",
    "\n",
    "**Last update**: Resonse record last update  "
   ]
  },
  {
   "cell_type": "markdown",
   "metadata": {},
   "source": [
    "*Below is a description of the column types for **City Responses**:*  \n",
    "\n",
    "\n",
    "**Questionnaire** : Questionnaire and questionnaire year the company's response relates to\n",
    "\n",
    "**Year Reported to CDP** : Cities Disclosure cycle survey year  \n",
    "\n",
    "**Account Number** : The unique identifier given to every city organisation that receives a request to complete a CDP questionnaire  \n",
    "\n",
    "**Organization** : Name of the City organisation disclosing  \n",
    "\n",
    "**Country** : Country of city    \n",
    "\n",
    "**CDP Region** : CDP operation region City is located within  \n",
    "\n",
    "**Parent Section** : Module ('Parent Section') of the CDP questionnaire the question belongs to (e.g. Emissions Reduction)  \n",
    "\n",
    "**Section** : Section of the CDP questionnaire the question belongs to (e.g.Mitigation Actions)  \n",
    "\n",
    "**Question Number** : Question number of response (e.g. 5.4) \n",
    " \n",
    "**Question Name** : Describes the anticipated outcomes of the most impactful mitigation actions your city is currently undertaking; the total cost of the action and how much is being funded by the local government \n",
    "\n",
    "**Column Number** : Column number of matrix set (Table) or matrix dynamic (Add Rows Table) column in question  reponse table  \n",
    "\n",
    "**Column Name** : Column name of matrix set (Table) or matrix dynamic (Add Rows Table) column in question  reponse table,Co-benefit area \n",
    "\n",
    "**Row Number** : \"Row number of matrix set (Table) or matrix dynamic (Add Rows Table) row in question  reponse table. If originally submitted in a table format, this will indicate the number of rows of response data has been entered in response to a question. \",  \n",
    "\n",
    "**Row Name** : Row name of matrix set (Table) or matrix dynamic (Add Rows Table) row in question  reponse table. Description of data type for RowNumber where applicable, Population that is food insecure)  \n",
    "\n",
    "**Response Answer** : Question response submitted by company,Greening the economy,\"Can range from string, integar and double data types. Question not applicable = This question was not presented to the company to be answered due to conditional logic in the questionnaire. NA = The company was presented with this question but did not respond\"  "
   ]
  },
  {
   "cell_type": "markdown",
   "metadata": {},
   "source": [
    "## Corporates"
   ]
  },
  {
   "cell_type": "markdown",
   "metadata": {},
   "source": [
    "No description so far!"
   ]
  },
  {
   "cell_type": "markdown",
   "metadata": {},
   "source": [
    "# Data Content"
   ]
  },
  {
   "cell_type": "code",
   "execution_count": null,
   "metadata": {},
   "outputs": [],
   "source": [
    "df_cities_resp.value_counts('Questionnaire')"
   ]
  },
  {
   "cell_type": "code",
   "execution_count": null,
   "metadata": {},
   "outputs": [],
   "source": [
    "df_cities_resp.query('QuestionNumber == \"14.4\" & Questionnaire == \"Cities 2020\"')"
   ]
  },
  {
   "cell_type": "code",
   "execution_count": null,
   "metadata": {},
   "outputs": [],
   "source": [
    "def question_to_col(data, QuestionNumber, ColumnNumber):\n",
    "    '''A simple function to create a new dataframe with all responses to one question.'''\n",
    "    small_df = pd.DataFrame(columns=[QuestionNumber])\n",
    "    small_df[QuestionNumber] = data['ResponseAnswer'].loc[(data['QuestionNumber'] == QuestionNumber) & (data['ColumnNumber'] == int(ColumnNumber))]\n",
    "    return small_df"
   ]
  },
  {
   "cell_type": "code",
   "execution_count": null,
   "metadata": {},
   "outputs": [],
   "source": [
    "question_to_col(data=df_cities_resp, QuestionNumber='2.1', ColumnNumber='1')"
   ]
  }
 ],
 "metadata": {
  "kernelspec": {
   "display_name": "Python 3",
   "language": "python",
   "name": "python3"
  },
  "language_info": {
   "codemirror_mode": {
    "name": "ipython",
    "version": 3
   },
   "file_extension": ".py",
   "mimetype": "text/x-python",
   "name": "python",
   "nbconvert_exporter": "python",
   "pygments_lexer": "ipython3",
   "version": "3.6.10"
  },
  "toc": {
   "base_numbering": 1,
   "nav_menu": {},
   "number_sections": true,
   "sideBar": true,
   "skip_h1_title": false,
   "title_cell": "Table of Contents",
   "title_sidebar": "Contents",
   "toc_cell": false,
   "toc_position": {},
   "toc_section_display": true,
   "toc_window_display": true
  },
  "varInspector": {
   "cols": {
    "lenName": 16,
    "lenType": 16,
    "lenVar": 40
   },
   "kernels_config": {
    "python": {
     "delete_cmd_postfix": "",
     "delete_cmd_prefix": "del ",
     "library": "var_list.py",
     "varRefreshCmd": "print(var_dic_list())"
    },
    "r": {
     "delete_cmd_postfix": ") ",
     "delete_cmd_prefix": "rm(",
     "library": "var_list.r",
     "varRefreshCmd": "cat(var_dic_list()) "
    }
   },
   "types_to_exclude": [
    "module",
    "function",
    "builtin_function_or_method",
    "instance",
    "_Feature"
   ],
   "window_display": false
  }
 },
 "nbformat": 4,
 "nbformat_minor": 1
}
