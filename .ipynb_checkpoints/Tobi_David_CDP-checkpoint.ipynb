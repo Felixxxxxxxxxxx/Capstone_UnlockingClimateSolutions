{
  "cells":[
    {
      "cell_type":"code",
      "source":[
        "import pandas as pd\n",
        "import numpy as np\n",
        "import glob\n",
        "import os"
      ],
      "execution_count":1,
      "outputs":[
        
      ],
      "metadata":{
        
      }
    },
    {
      "cell_type":"markdown",
      "source":[
        "## Import the Datasets"
      ],
      "metadata":{
        
      }
    },
    {
      "cell_type":"markdown",
      "source":[
        "First, we start by importing the different csv files and continue by concatenating the files into one dataframe."
      ],
      "metadata":{
        
      }
    },
    {
      "cell_type":"code",
      "source":[
        "def get_data(path, filename_start):\n",
        "    '''a function to store the content of a directory into a pd dataframe'''\n",
        "    \n",
        "    # checking the contents of the directory using the os-module. \n",
        "    files = [\n",
        "        file for file in os.listdir(path) \n",
        "        if file.startswith(filename_start)\n",
        "        ]\n",
        "    \n",
        "    print(files)  \n",
        "    \n",
        "    # iterate through files and add to the data frame\n",
        "    all_data = pd.DataFrame()\n",
        "    for file in files:\n",
        "        current_data = pd.read_csv(path+\"\/\"+file)\n",
        "        all_data = pd.concat([all_data, current_data], ignore_index=True)\n",
        "\n",
        "    # remove whitespaces from column names\n",
        "    all_data.columns = all_data.columns.str.replace(' ', '')\n",
        "        \n",
        "    print(f'''A dataframe with {all_data.shape[0]} rows and {all_data.shape[1]} columns has been created!\\nAll whitespace in column names has been removed.''')\n",
        "    \n",
        "    return all_data"
      ],
      "execution_count":2,
      "outputs":[
        
      ],
      "metadata":{
        
      }
    },
    {
      "cell_type":"markdown",
      "source":[
        "## City Responses"
      ],
      "metadata":{
        
      }
    },
    {
      "cell_type":"code",
      "source":[
        "# add all cities responses to a dateframe\n",
        "df_cities_resp = get_data(\n",
        "    path='data\/Cities\/Responses',\n",
        "    filename_start='20'\n",
        "    )"
      ],
      "execution_count":3,
      "outputs":[
        {
          "name":"stdout",
          "text":[
            "['2019_Full_Cities_Dataset.csv', '2018_Full_Cities_Dataset.csv', '2020_Full_Cities_Dataset.csv']\n",
            "A dataframe with 1542496 rows and 18 columns has been created!\n",
            "All whitespace in column names has been removed.\n"
          ],
          "output_type":"stream"
        }
      ],
      "metadata":{
        
      }
    },
    {
      "cell_type":"code",
      "source":[
        "df_cities_resp.head()"
      ],
      "execution_count":4,
      "outputs":[
        {
          "data":{
            "text\/html":[
              "<div>\n",
              "<style scoped>\n",
              "    .dataframe tbody tr th:only-of-type {\n",
              "        vertical-align: middle;\n",
              "    }\n",
              "\n",
              "    .dataframe tbody tr th {\n",
              "        vertical-align: top;\n",
              "    }\n",
              "\n",
              "    .dataframe thead th {\n",
              "        text-align: right;\n",
              "    }\n",
              "<\/style>\n",
              "<table border=\"1\" class=\"dataframe\">\n",
              "  <thead>\n",
              "    <tr style=\"text-align: right;\">\n",
              "      <th><\/th>\n",
              "      <th>Questionnaire<\/th>\n",
              "      <th>YearReportedtoCDP<\/th>\n",
              "      <th>AccountNumber<\/th>\n",
              "      <th>Organization<\/th>\n",
              "      <th>Country<\/th>\n",
              "      <th>CDPRegion<\/th>\n",
              "      <th>ParentSection<\/th>\n",
              "      <th>Section<\/th>\n",
              "      <th>QuestionNumber<\/th>\n",
              "      <th>QuestionName<\/th>\n",
              "      <th>ColumnNumber<\/th>\n",
              "      <th>ColumnName<\/th>\n",
              "      <th>RowNumber<\/th>\n",
              "      <th>RowName<\/th>\n",
              "      <th>ResponseAnswer<\/th>\n",
              "      <th>Comments<\/th>\n",
              "      <th>FileName<\/th>\n",
              "      <th>Lastupdate<\/th>\n",
              "    <\/tr>\n",
              "  <\/thead>\n",
              "  <tbody>\n",
              "    <tr>\n",
              "      <th>0<\/th>\n",
              "      <td>Cities 2019<\/td>\n",
              "      <td>2019<\/td>\n",
              "      <td>54113<\/td>\n",
              "      <td>City of Flagstaff<\/td>\n",
              "      <td>United States of America<\/td>\n",
              "      <td>North America<\/td>\n",
              "      <td>NaN<\/td>\n",
              "      <td>Energy<\/td>\n",
              "      <td>8.0a<\/td>\n",
              "      <td>Please provide details of your renewable energ...<\/td>\n",
              "      <td>2<\/td>\n",
              "      <td>Energy \/ electricity types covered by target<\/td>\n",
              "      <td>3<\/td>\n",
              "      <td>NaN<\/td>\n",
              "      <td>Other: Proportion of community electricity use...<\/td>\n",
              "      <td>NaN<\/td>\n",
              "      <td>NaN<\/td>\n",
              "      <td>24\/06\/2020 05:30:36 AM<\/td>\n",
              "    <\/tr>\n",
              "    <tr>\n",
              "      <th>1<\/th>\n",
              "      <td>Cities 2019<\/td>\n",
              "      <td>2019<\/td>\n",
              "      <td>35894<\/td>\n",
              "      <td>Ville de Montreal<\/td>\n",
              "      <td>Canada<\/td>\n",
              "      <td>North America<\/td>\n",
              "      <td>Emissions Reduction<\/td>\n",
              "      <td>Mitigation Actions<\/td>\n",
              "      <td>5.4<\/td>\n",
              "      <td>Describe the anticipated outcomes of the most ...<\/td>\n",
              "      <td>9<\/td>\n",
              "      <td>Co-benefit area<\/td>\n",
              "      <td>1<\/td>\n",
              "      <td>NaN<\/td>\n",
              "      <td>NaN<\/td>\n",
              "      <td>source: http:\/\/ville.montreal.qc.ca\/pls\/portal...<\/td>\n",
              "      <td>NaN<\/td>\n",
              "      <td>24\/06\/2020 05:30:36 AM<\/td>\n",
              "    <\/tr>\n",
              "    <tr>\n",
              "      <th>2<\/th>\n",
              "      <td>Cities 2019<\/td>\n",
              "      <td>2019<\/td>\n",
              "      <td>44185<\/td>\n",
              "      <td>Suwon City<\/td>\n",
              "      <td>Republic of Korea<\/td>\n",
              "      <td>East Asia<\/td>\n",
              "      <td>Emissions Reduction<\/td>\n",
              "      <td>Mitigation Target setting<\/td>\n",
              "      <td>5.0a<\/td>\n",
              "      <td>Please provide details of your total city-wide...<\/td>\n",
              "      <td>3<\/td>\n",
              "      <td>Boundary of target relative to city boundary (...<\/td>\n",
              "      <td>1<\/td>\n",
              "      <td>NaN<\/td>\n",
              "      <td>Same – covers entire city and nothing else<\/td>\n",
              "      <td>NaN<\/td>\n",
              "      <td>NaN<\/td>\n",
              "      <td>24\/06\/2020 05:30:36 AM<\/td>\n",
              "    <\/tr>\n",
              "    <tr>\n",
              "      <th>3<\/th>\n",
              "      <td>Cities 2019<\/td>\n",
              "      <td>2019<\/td>\n",
              "      <td>59165<\/td>\n",
              "      <td>Gladsaxe Kommune<\/td>\n",
              "      <td>Denmark<\/td>\n",
              "      <td>Europe<\/td>\n",
              "      <td>NaN<\/td>\n",
              "      <td>Transport<\/td>\n",
              "      <td>10.1<\/td>\n",
              "      <td>What is the mode share of each transport mode ...<\/td>\n",
              "      <td>7<\/td>\n",
              "      <td>Taxis or For Hire Vehicles<\/td>\n",
              "      <td>1<\/td>\n",
              "      <td>Please complete<\/td>\n",
              "      <td>3<\/td>\n",
              "      <td>NaN<\/td>\n",
              "      <td>NaN<\/td>\n",
              "      <td>24\/06\/2020 05:30:36 AM<\/td>\n",
              "    <\/tr>\n",
              "    <tr>\n",
              "      <th>4<\/th>\n",
              "      <td>Cities 2019<\/td>\n",
              "      <td>2019<\/td>\n",
              "      <td>36263<\/td>\n",
              "      <td>Comune di Ravenna<\/td>\n",
              "      <td>Italy<\/td>\n",
              "      <td>Europe<\/td>\n",
              "      <td>Water Security<\/td>\n",
              "      <td>Water Supply Management<\/td>\n",
              "      <td>14.4<\/td>\n",
              "      <td>Please select the actions you are taking to re...<\/td>\n",
              "      <td>2<\/td>\n",
              "      <td>Adaptation action<\/td>\n",
              "      <td>1<\/td>\n",
              "      <td>NaN<\/td>\n",
              "      <td>Water use restrictions<\/td>\n",
              "      <td>NaN<\/td>\n",
              "      <td>NaN<\/td>\n",
              "      <td>24\/06\/2020 05:30:36 AM<\/td>\n",
              "    <\/tr>\n",
              "  <\/tbody>\n",
              "<\/table>\n",
              "<\/div>"
            ]
          },
          "metadata":{
            
          },
          "output_type":"display_data"
        }
      ],
      "metadata":{
        
      }
    },
    {
      "cell_type":"markdown",
      "source":[
        "*Below is a description of the column types for **City Responses**:*  \n",
        "\n",
        "\n",
        "**Questionnaire** : Questionnaire and questionnaire year the company's response relates to\n",
        "\n",
        "**Year Reported to CDP** : Cities Disclosure cycle survey year  \n",
        "\n",
        "**Account Number** : The unique identifier given to every city organisation that receives a request to complete a CDP questionnaire  \n",
        "\n",
        "**Organization** : Name of the City organisation disclosing  \n",
        "\n",
        "**Country** : Country of city    \n",
        "\n",
        "**CDP Region** : CDP operation region City is located within  \n",
        "\n",
        "**Parent Section** : Module ('Parent Section') of the CDP questionnaire the question belongs to (e.g. Emissions Reduction)  \n",
        "\n",
        "**Section** : Section of the CDP questionnaire the question belongs to (e.g.Mitigation Actions)  \n",
        "\n",
        "**Question Number** : Question number of response (e.g. 5.4) \n",
        " \n",
        "**Question Name** : Describes the anticipated outcomes of the most impactful mitigation actions your city is currently undertaking; the total cost of the action and how much is being funded by the local government \n",
        "\n",
        "**Column Number** : Column number of matrix set (Table) or matrix dynamic (Add Rows Table) column in question  reponse table  \n",
        "\n",
        "**Column Name** : Column name of matrix set (Table) or matrix dynamic (Add Rows Table) column in question  reponse table,Co-benefit area \n",
        "\n",
        "**Row Number** : \"Row number of matrix set (Table) or matrix dynamic (Add Rows Table) row in question  reponse table. If originally submitted in a table format, this will indicate the number of rows of response data has been entered in response to a question. \",  \n",
        "\n",
        "**Row Name** : Row name of matrix set (Table) or matrix dynamic (Add Rows Table) row in question  reponse table. Description of data type for RowNumber where applicable, Population that is food insecure)  \n",
        "\n",
        "**Response Answer** : Question response submitted by company,Greening the economy,\"Can range from string, integar and double data types. Question not applicable = This question was not presented to the company to be answered due to conditional logic in the questionnaire. NA = The company was presented with this question but did not respond\"  "
      ],
      "metadata":{
        
      }
    },
    {
      "cell_type":"markdown",
      "source":[
        "## City Disclosures"
      ],
      "metadata":{
        
      }
    },
    {
      "cell_type":"code",
      "source":[
        "# add all cities disclosers to a dateframe\n",
        "df_cities_disc = get_data(\n",
        "    path='data\/Cities\/Disclosing',\n",
        "    filename_start='20'\n",
        "    )"
      ],
      "execution_count":5,
      "outputs":[
        {
          "name":"stdout",
          "text":[
            "['2020_Cities_Disclosing_to_CDP.csv', '2018_Cities_Disclosing_to_CDP.csv', '2019_Cities_Disclosing_to_CDP.csv']\n",
            "A dataframe with 2068 rows and 13 columns has been created!\n",
            "All whitespace in column names has been removed.\n"
          ],
          "output_type":"stream"
        }
      ],
      "metadata":{
        
      }
    },
    {
      "cell_type":"markdown",
      "source":[
        "Below is a description of the columns for the **City Disclosures**:\n",
        "\n",
        "**Year Reported to CDP** : Cities Disclosure cycle survey year  \n",
        "\n",
        "**Account Number** : The unique identifier given to every city organisation that receives a request to complete a CDP questionnaire  \n",
        "\n",
        "**Organization**: Name of the City organisation disclosing  \n",
        "\n",
        "**City**: Name of the City the city organisation is disclosing on behalf of  \n",
        "\n",
        "**Country**: Country of city  \n",
        "\n",
        "**CDP Region**: CDP operation region City is located within  \n",
        "\n",
        "**Reporting Authority**: \"CDP collects information on behalf of a number of additional initiatives. Other than CDP Cities, organisations can indicate the additional initiatve they are have answered questions for \",\"C40,CDP Cities,ICLEI - Local Governments for Sustainability\",\"Includes Global Covenant of Mayors for Climate and Energy, ICLEI Green Climate Cities, ICLEI Ecomobility \/ Ecologistics, C40 Cities Climate Leadership Group\"  \n",
        "\n",
        "**Access**: Cities can submit CDP response in public status or in non public status. Non public responses can only be shared within CDP and between signatory partners. Public responses can be shared beyond CDP City organisations,public  \n",
        "\n",
        "**First Time Discloser**: Is the City disclosing for the first time to CDP  \n",
        "\n",
        "**Population**: Citiy population estimate  \n",
        "\n",
        "**Population Year**: City population estimate year  \n",
        "\n",
        "**City Location**: \"Citty location cordinates by longitude, latitide\"  \n",
        "\n",
        "**Last update**: Resonse record last update  "
      ],
      "metadata":{
        
      }
    },
    {
      "cell_type":"markdown",
      "source":[
        "## Descriptive Statistics for City Dataset"
      ],
      "metadata":{
        
      }
    },
    {
      "cell_type":"code",
      "source":[
        "df_cities_disc.head()"
      ],
      "execution_count":6,
      "outputs":[
        {
          "data":{
            "text\/html":[
              "<div>\n",
              "<style scoped>\n",
              "    .dataframe tbody tr th:only-of-type {\n",
              "        vertical-align: middle;\n",
              "    }\n",
              "\n",
              "    .dataframe tbody tr th {\n",
              "        vertical-align: top;\n",
              "    }\n",
              "\n",
              "    .dataframe thead th {\n",
              "        text-align: right;\n",
              "    }\n",
              "<\/style>\n",
              "<table border=\"1\" class=\"dataframe\">\n",
              "  <thead>\n",
              "    <tr style=\"text-align: right;\">\n",
              "      <th><\/th>\n",
              "      <th>YearReportedtoCDP<\/th>\n",
              "      <th>AccountNumber<\/th>\n",
              "      <th>Organization<\/th>\n",
              "      <th>City<\/th>\n",
              "      <th>Country<\/th>\n",
              "      <th>CDPRegion<\/th>\n",
              "      <th>ReportingAuthority<\/th>\n",
              "      <th>Access<\/th>\n",
              "      <th>FirstTimeDiscloser<\/th>\n",
              "      <th>Population<\/th>\n",
              "      <th>PopulationYear<\/th>\n",
              "      <th>CityLocation<\/th>\n",
              "      <th>Lastupdate<\/th>\n",
              "    <\/tr>\n",
              "  <\/thead>\n",
              "  <tbody>\n",
              "    <tr>\n",
              "      <th>0<\/th>\n",
              "      <td>2020<\/td>\n",
              "      <td>49335<\/td>\n",
              "      <td>Metropolitan Government of Nashville and David...<\/td>\n",
              "      <td>Nashville<\/td>\n",
              "      <td>United States of America<\/td>\n",
              "      <td>North America<\/td>\n",
              "      <td>CDP Cities,ICLEI - Local Governments for Susta...<\/td>\n",
              "      <td>public<\/td>\n",
              "      <td>No<\/td>\n",
              "      <td>692587.0<\/td>\n",
              "      <td>2018<\/td>\n",
              "      <td>POINT (-86.7816 36.1627)<\/td>\n",
              "      <td>2020-09-07T09:45:19.793<\/td>\n",
              "    <\/tr>\n",
              "    <tr>\n",
              "      <th>1<\/th>\n",
              "      <td>2020<\/td>\n",
              "      <td>60278<\/td>\n",
              "      <td>Prefeitura de Fernandópolis<\/td>\n",
              "      <td>Fernandópolis<\/td>\n",
              "      <td>Brazil<\/td>\n",
              "      <td>Latin America<\/td>\n",
              "      <td>CDP Cities,ICLEI - Local Governments for Susta...<\/td>\n",
              "      <td>public<\/td>\n",
              "      <td>No<\/td>\n",
              "      <td>68823.0<\/td>\n",
              "      <td>2018<\/td>\n",
              "      <td>POINT (-50.2475 -20.2858)<\/td>\n",
              "      <td>2020-09-07T09:45:19.793<\/td>\n",
              "    <\/tr>\n",
              "    <tr>\n",
              "      <th>2<\/th>\n",
              "      <td>2020<\/td>\n",
              "      <td>57509<\/td>\n",
              "      <td>Prefeitura Niterói<\/td>\n",
              "      <td>Niterói<\/td>\n",
              "      <td>Brazil<\/td>\n",
              "      <td>Latin America<\/td>\n",
              "      <td>CDP Cities,ICLEI - Local Governments for Susta...<\/td>\n",
              "      <td>public<\/td>\n",
              "      <td>No<\/td>\n",
              "      <td>513584.0<\/td>\n",
              "      <td>2019<\/td>\n",
              "      <td>POINT (-43.1184 -22.8928)<\/td>\n",
              "      <td>2020-09-07T09:45:19.793<\/td>\n",
              "    <\/tr>\n",
              "    <tr>\n",
              "      <th>3<\/th>\n",
              "      <td>2020<\/td>\n",
              "      <td>60114<\/td>\n",
              "      <td>City of Gdynia<\/td>\n",
              "      <td>Gdynia<\/td>\n",
              "      <td>Poland<\/td>\n",
              "      <td>Europe<\/td>\n",
              "      <td>CDP Cities,ICLEI - Local Governments for Susta...<\/td>\n",
              "      <td>public<\/td>\n",
              "      <td>No<\/td>\n",
              "      <td>246348.0<\/td>\n",
              "      <td>2019<\/td>\n",
              "      <td>POINT (18.5305 54.5189)<\/td>\n",
              "      <td>2020-09-07T09:45:19.793<\/td>\n",
              "    <\/tr>\n",
              "    <tr>\n",
              "      <th>4<\/th>\n",
              "      <td>2020<\/td>\n",
              "      <td>32550<\/td>\n",
              "      <td>City of Denver<\/td>\n",
              "      <td>Denver<\/td>\n",
              "      <td>United States of America<\/td>\n",
              "      <td>North America<\/td>\n",
              "      <td>CDP Cities,ICLEI - Local Governments for Susta...<\/td>\n",
              "      <td>public<\/td>\n",
              "      <td>No<\/td>\n",
              "      <td>716492.0<\/td>\n",
              "      <td>2018<\/td>\n",
              "      <td>POINT (-104.985 39.7376)<\/td>\n",
              "      <td>2020-09-07T09:45:19.793<\/td>\n",
              "    <\/tr>\n",
              "  <\/tbody>\n",
              "<\/table>\n",
              "<\/div>"
            ]
          },
          "metadata":{
            
          },
          "output_type":"display_data"
        }
      ],
      "metadata":{
        
      }
    },
    {
      "cell_type":"code",
      "source":[
        "df_cities_disc.info()"
      ],
      "execution_count":7,
      "outputs":[
        {
          "name":"stdout",
          "text":[
            "<class 'pandas.core.frame.DataFrame'>\n",
            "RangeIndex: 2068 entries, 0 to 2067\n",
            "Data columns (total 13 columns):\n",
            " #   Column              Non-Null Count  Dtype  \n",
            "---  ------              --------------  -----  \n",
            " 0   YearReportedtoCDP   2068 non-null   int64  \n",
            " 1   AccountNumber       2068 non-null   int64  \n",
            " 2   Organization        2068 non-null   object \n",
            " 3   City                1716 non-null   object \n",
            " 4   Country             2068 non-null   object \n",
            " 5   CDPRegion           2068 non-null   object \n",
            " 6   ReportingAuthority  2068 non-null   object \n",
            " 7   Access              2068 non-null   object \n",
            " 8   FirstTimeDiscloser  2068 non-null   object \n",
            " 9   Population          1784 non-null   float64\n",
            " 10  PopulationYear      2068 non-null   int64  \n",
            " 11  CityLocation        1630 non-null   object \n",
            " 12  Lastupdate          2068 non-null   object \n",
            "dtypes: float64(1), int64(3), object(9)\n",
            "memory usage: 210.2+ KB\n"
          ],
          "output_type":"stream"
        }
      ],
      "metadata":{
        
      }
    },
    {
      "cell_type":"code",
      "source":[
        "df_cities_disc.describe()"
      ],
      "execution_count":8,
      "outputs":[
        {
          "data":{
            "text\/html":[
              "<div>\n",
              "<style scoped>\n",
              "    .dataframe tbody tr th:only-of-type {\n",
              "        vertical-align: middle;\n",
              "    }\n",
              "\n",
              "    .dataframe tbody tr th {\n",
              "        vertical-align: top;\n",
              "    }\n",
              "\n",
              "    .dataframe thead th {\n",
              "        text-align: right;\n",
              "    }\n",
              "<\/style>\n",
              "<table border=\"1\" class=\"dataframe\">\n",
              "  <thead>\n",
              "    <tr style=\"text-align: right;\">\n",
              "      <th><\/th>\n",
              "      <th>YearReportedtoCDP<\/th>\n",
              "      <th>AccountNumber<\/th>\n",
              "      <th>Population<\/th>\n",
              "      <th>PopulationYear<\/th>\n",
              "    <\/tr>\n",
              "  <\/thead>\n",
              "  <tbody>\n",
              "    <tr>\n",
              "      <th>count<\/th>\n",
              "      <td>2068.000000<\/td>\n",
              "      <td>2068.000000<\/td>\n",
              "      <td>1.784000e+03<\/td>\n",
              "      <td>2068.000000<\/td>\n",
              "    <\/tr>\n",
              "    <tr>\n",
              "      <th>mean<\/th>\n",
              "      <td>2018.963733<\/td>\n",
              "      <td>160540.618956<\/td>\n",
              "      <td>3.514012e+06<\/td>\n",
              "      <td>1713.299323<\/td>\n",
              "    <\/tr>\n",
              "    <tr>\n",
              "      <th>std<\/th>\n",
              "      <td>0.763297<\/td>\n",
              "      <td>271775.631219<\/td>\n",
              "      <td>5.553894e+07<\/td>\n",
              "      <td>718.160460<\/td>\n",
              "    <\/tr>\n",
              "    <tr>\n",
              "      <th>min<\/th>\n",
              "      <td>2018.000000<\/td>\n",
              "      <td>1093.000000<\/td>\n",
              "      <td>7.000000e+00<\/td>\n",
              "      <td>0.000000<\/td>\n",
              "    <\/tr>\n",
              "    <tr>\n",
              "      <th>25%<\/th>\n",
              "      <td>2018.000000<\/td>\n",
              "      <td>49327.000000<\/td>\n",
              "      <td>5.778900e+04<\/td>\n",
              "      <td>2010.000000<\/td>\n",
              "    <\/tr>\n",
              "    <tr>\n",
              "      <th>50%<\/th>\n",
              "      <td>2019.000000<\/td>\n",
              "      <td>54681.000000<\/td>\n",
              "      <td>2.090940e+05<\/td>\n",
              "      <td>2017.000000<\/td>\n",
              "    <\/tr>\n",
              "    <tr>\n",
              "      <th>75%<\/th>\n",
              "      <td>2020.000000<\/td>\n",
              "      <td>63616.000000<\/td>\n",
              "      <td>6.748122e+05<\/td>\n",
              "      <td>2018.000000<\/td>\n",
              "    <\/tr>\n",
              "    <tr>\n",
              "      <th>max<\/th>\n",
              "      <td>2020.000000<\/td>\n",
              "      <td>848478.000000<\/td>\n",
              "      <td>1.495705e+09<\/td>\n",
              "      <td>2020.000000<\/td>\n",
              "    <\/tr>\n",
              "  <\/tbody>\n",
              "<\/table>\n",
              "<\/div>"
            ]
          },
          "metadata":{
            
          },
          "output_type":"display_data"
        }
      ],
      "metadata":{
        
      }
    },
    {
      "cell_type":"code",
      "source":[
        "df_cities_disc.query('Population < 50').City"
      ],
      "execution_count":35,
      "outputs":[
        {
          "ename":"ValueError",
          "evalue":"ValueError: Can only compare identically-labeled Series objects",
          "traceback":[
            "\u001b[0;31m---------------------------------------------------------------------------",
            "Traceback (most recent call last)",
            "    at line 1 in <module>",
            "ValueError: Can only compare identically-labeled Series objects"
          ],
          "output_type":"error"
        }
      ],
      "metadata":{
        
      }
    },
    {
      "cell_type":"code",
      "source":[
        "df_cities_disc.loc[36, \"Population\"]"
      ],
      "execution_count":23,
      "outputs":[
        {
          "data":{
            "text\/plain":[
              "43354.0"
            ]
          },
          "metadata":{
            
          },
          "output_type":"display_data"
        }
      ],
      "metadata":{
        
      }
    },
    {
      "cell_type":"code",
      "source":[
        "pip install sweetviz"
      ],
      "execution_count":10,
      "outputs":[
        {
          "name":"stdout",
          "text":[
            "Collecting sweetviz\r\n",
            "  Downloading sweetviz-1.1.1-py3-none-any.whl (15.1 MB)\r\n",
            "\u001b[?25l\r\u001b[K     |                                | 10 kB 1.5 MB\/s eta 0:00:10\r\u001b[K     |                                | 20 kB 2.7 MB\/s eta 0:00:06\r\u001b[K     |                                | 30 kB 3.6 MB\/s eta 0:00:05\r\u001b[K     |                                | 40 kB 4.3 MB\/s eta 0:00:04\r\u001b[K     |                                | 51 kB 5.0 MB\/s eta 0:00:03\r\u001b[K     |▏                               | 61 kB 5.4 MB\/s eta 0:00:03\r\u001b[K     |▏                               | 71 kB 4.6 MB\/s eta 0:00:04\r\u001b[K     |▏                               | 81 kB 5.2 MB\/s eta 0:00:03\r\u001b[K     |▏                               | 92 kB 5.7 MB\/s eta 0:00:03\r\u001b[K     |▏                               | 102 kB 6.2 MB\/s eta 0:00:03\r\u001b[K     |▎                               | 112 kB 6.2 MB\/s eta 0:00:03\r\u001b[K     |▎                               | 122 kB 6.2 MB\/s eta 0:00:03\r\u001b[K     |▎                               | 133 kB 6.2 MB\/s eta 0:00:03\r\u001b[K     |▎                               | 143 kB 6.2 MB\/s eta 0:00:03\r\u001b[K     |▎                               | 153 kB 6.2 MB\/s eta 0:00:03\r\u001b[K     |▍                               | 163 kB 6.2 MB\/s eta 0:00:03\r\u001b[K     |▍                               | 174 kB 6.2 MB\/s eta 0:00:03\r\u001b[K     |▍                               | 184 kB 6.2 MB\/s eta 0:00:03\r\u001b[K     |▍                               | 194 kB 6.2 MB\/s eta 0:00:03\r\u001b[K     |▍                               | 204 kB 6.2 MB\/s eta 0:00:03\r\u001b[K     |▌                               | 215 kB 6.2 MB\/s eta 0:00:03\r\u001b[K     |▌                               | 225 kB 6.2 MB\/s eta 0:00:03\r\u001b[K     |▌                               | 235 kB 6.2 MB\/s eta 0:00:03\r\u001b[K     |▌                               | 245 kB 6.2 MB\/s eta 0:00:03\r\u001b[K     |▌                               | 256 kB 6.2 MB\/s eta 0:00:03\r\u001b[K     |▋                               | 266 kB 6.2 MB\/s eta 0:00:03\r\u001b[K     |▋                               | 276 kB 6.2 MB\/s eta 0:00:03\r\u001b[K     |▋                               | 286 kB 6.2 MB\/s eta 0:00:03\r\u001b[K     |▋                               | 296 kB 6.2 MB\/s eta 0:00:03\r\u001b[K     |▋                               | 307 kB 6.2 MB\/s eta 0:00:03\r\u001b[K     |▊                               | 317 kB 6.2 MB\/s eta 0:00:03\r\u001b[K     |▊                               | 327 kB 6.2 MB\/s eta 0:00:03\r\u001b[K     |▊                               | 337 kB 6.2 MB\/s eta 0:00:03\r\u001b[K     |▊                               | 348 kB 6.2 MB\/s eta 0:00:03\r\u001b[K     |▊                               | 358 kB 6.2 MB\/s eta 0:00:03\r\u001b[K     |▉                               | 368 kB 6.2 MB\/s eta 0:00:03\r\u001b[K     |▉                               | 378 kB 6.2 MB\/s eta 0:00:03\r\u001b[K     |▉                               | 389 kB 6.2 MB\/s eta 0:00:03\r\u001b[K     |▉                               | 399 kB 6.2 MB\/s eta 0:00:03\r\u001b[K     |▉                               | 409 kB 6.2 MB\/s eta 0:00:03\r\u001b[K     |█                               | 419 kB 6.2 MB\/s eta 0:00:03\r\u001b[K     |█                               | 430 kB 6.2 MB\/s eta 0:00:03\r\u001b[K     |█                               | 440 kB 6.2 MB\/s eta 0:00:03\r\u001b[K     |█                               | 450 kB 6.2 MB\/s eta 0:00:03\r\u001b[K     |█                               | 460 kB 6.2 MB\/s eta 0:00:03\r\u001b[K     |█                               | 471 kB 6.2 MB\/s eta 0:00:03\r\u001b[K     |█                               | 481 kB 6.2 MB\/s eta 0:00:03\r\u001b[K     |█                               | 491 kB 6.2 MB\/s eta 0:00:03\r\u001b[K     |█                               | 501 kB 6.2 MB\/s eta 0:00:03\r\u001b[K     |█                               | 512 kB 6.2 MB\/s eta 0:00:03\r\u001b[K     |█                               | 522 kB 6.2 MB\/s eta 0:00:03\r\u001b[K     |█▏                              | 532 kB 6.2 MB\/s eta 0:00:03\r\u001b[K     |█▏                              | 542 kB 6.2 MB\/s eta 0:00:03\r\u001b[K     |█▏                              | 552 kB 6.2 MB\/s eta 0:00:03\r\u001b[K     |█▏                              | 563 kB 6.2 MB\/s eta 0:00:03\r\u001b[K     |█▏                              | 573 kB 6.2 MB\/s eta 0:00:03\r\u001b[K     |█▎                              | 583 kB 6.2 MB\/s eta 0:00:03\r\u001b[K     |█▎                              | 593 kB 6.2 MB\/s eta 0:00:03\r\u001b[K     |█▎                              | 604 kB 6.2 MB\/s eta 0:00:03\r\u001b[K     |█▎                              | 614 kB 6.2 MB\/s eta 0:00:03\r\u001b[K     |█▎                              | 624 kB 6.2 MB\/s eta 0:00:03\r\u001b[K     |█▍                              | 634 kB 6.2 MB\/s eta 0:00:03\r\u001b[K     |█▍                              | 645 kB 6.2 MB\/s eta 0:00:03\r\u001b[K     |█▍                              | 655 kB 6.2 MB\/s eta 0:00:03\r\u001b[K     |█▍                              | 665 kB 6.2 MB\/s eta 0:00:03\r\u001b[K     |█▍                              | 675 kB 6.2 MB\/s eta 0:00:03\r\u001b[K     |█▌                              | 686 kB 6.2 MB\/s eta 0:00:03\r\u001b[K     |█▌                              | 696 kB 6.2 MB\/s eta 0:00:03\r\u001b[K     |█▌                              | 706 kB 6.2 MB\/s eta 0:00:03\r\u001b[K     |█▌                              | 716 kB 6.2 MB\/s eta 0:00:03\r\u001b[K     |█▌                              | 727 kB 6.2 MB\/s eta 0:00:03\r\u001b[K     |█▋                              | 737 kB 6.2 MB\/s eta 0:00:03\r\u001b[K     |█▋                              | 747 kB 6.2 MB\/s eta 0:00:03\r\u001b[K     |█▋                              | 757 kB 6.2 MB\/s eta 0:00:03\r\u001b[K     |█▋                              | 768 kB 6.2 MB\/s eta 0:00:03\r\u001b[K     |█▋                              | 778 kB 6.2 MB\/s eta 0:00:03\r\u001b[K     |█▊                              | 788 kB 6.2 MB\/s eta 0:00:03\r\u001b[K     |█▊                              | 798 kB 6.2 MB\/s eta 0:00:03\r\u001b[K     |█▊                              | 808 kB 6.2 MB\/s eta 0:00:03\r\u001b[K     |█▊                              | 819 kB 6.2 MB\/s eta 0:00:03\r\u001b[K     |█▊                              | 829 kB 6.2 MB\/s eta 0:00:03\r\u001b[K     |█▉                              | 839 kB 6.2 MB\/s eta 0:00:03\r\u001b[K     |█▉                              | 849 kB 6.2 MB\/s eta 0:00:03\r\u001b[K     |█▉                              | 860 kB 6.2 MB\/s eta 0:00:03\r\u001b[K     |█▉                              | 870 kB 6.2 MB\/s eta 0:00:03\r\u001b[K     |█▉                              | 880 kB 6.2 MB\/s eta 0:00:03\r\u001b[K     |█▉                              | 890 kB 6.2 MB\/s eta 0:00:03\r\u001b[K     |██                              | 901 kB 6.2 MB\/s eta 0:00:03\r\u001b[K     |██                              | 911 kB 6.2 MB\/s eta 0:00:03\r\u001b[K     |██                              | 921 kB 6.2 MB\/s eta 0:00:03\r\u001b[K     |██                              | 931 kB 6.2 MB\/s eta 0:00:03\r\u001b[K     |██                              | 942 kB 6.2 MB\/s eta 0:00:03\r\u001b[K     |██                              | 952 kB 6.2 MB\/s eta 0:00:03\r\u001b[K     |██                              | 962 kB 6.2 MB\/s eta 0:00:03\r\u001b[K     |██                              | 972 kB 6.2 MB\/s eta 0:00:03\r\u001b[K     |██                              | 983 kB 6.2 MB\/s eta 0:00:03\r\u001b[K     |██                              | 993 kB 6.2 MB\/s eta 0:00:03\r\u001b[K     |██▏                             | 1.0 MB 6.2 MB\/s eta 0:00:03\r\u001b[K     |██▏                             | 1.0 MB 6.2 MB\/s eta 0:00:03\r\u001b[K     |██▏                             | 1.0 MB 6.2 MB\/s eta 0:00:03\r\u001b[K     |██▏                             | 1.0 MB 6.2 MB\/s eta 0:00:03\r\u001b[K     |██▏                             | 1.0 MB 6.2 MB\/s eta 0:00:03\r\u001b[K     |██▎                             | 1.1 MB 6.2 MB\/s eta 0:00:03\r\u001b[K     |██▎                             | 1.1 MB 6.2 MB\/s eta 0:00:03\r\u001b[K     |██▎                             | 1.1 MB 6.2 MB\/s eta 0:00:03\r\u001b[K     |██▎                             | 1.1 MB 6.2 MB\/s eta 0:00:03\r\u001b[K     |██▎                             | 1.1 MB 6.2 MB\/s eta 0:00:03\r\u001b[K     |██▍                             | 1.1 MB 6.2 MB\/s eta 0:00:03\r\u001b[K     |██▍                             | 1.1 MB 6.2 MB\/s eta 0:00:03\r\u001b[K     |██▍                             | 1.1 MB 6.2 MB\/s eta 0:00:03\r\u001b[K     |██▍                             | 1.1 MB 6.2 MB\/s eta 0:00:03\r\u001b[K     |██▍                             | 1.1 MB 6.2 MB\/s eta 0:00:03\r\u001b[K     |██▌                             | 1.2 MB 6.2 MB\/s eta 0:00:03\r\u001b[K     |██▌                             | 1.2 MB 6.2 MB\/s eta 0:00:03\r\u001b[K     |██▌                             | 1.2 MB 6.2 MB\/s eta 0:00:03\r\u001b[K     |██▌                             | 1.2 MB 6.2 MB\/s eta 0:00:03\r\u001b[K     |██▌                             | 1.2 MB 6.2 MB\/s eta 0:00:03\r\u001b[K     |██▋                             | 1.2 MB 6.2 MB\/s eta 0:00:03\r\u001b[K     |██▋                             | 1.2 MB 6.2 MB\/s eta 0:00:03\r\u001b[K     |██▋                             | 1.2 MB 6.2 MB\/s eta 0:00:03\r\u001b[K     |██▋                             | 1.2 MB 6.2 MB\/s eta 0:00:03\r\u001b[K     |██▋                             | 1.2 MB 6.2 MB\/s eta 0:00:03\r\u001b[K     |██▊                             | 1.3 MB 6.2 MB\/s eta 0:00:03\r\u001b[K     |██▊                             | 1.3 MB 6.2 MB\/s eta 0:00:03\r\u001b[K     |██▊                             | 1.3 MB 6.2 MB\/s eta 0:00:03\r\u001b[K     |██▊                             | 1.3 MB 6.2 MB\/s eta 0:00:03\r\u001b[K     |██▊                             | 1.3 MB 6.2 MB\/s eta 0:00:03\r\u001b[K     |██▉                             | 1.3 MB 6.2 MB\/s eta 0:00:03\r\u001b[K     |██▉                             | 1.3 MB 6.2 MB\/s eta 0:00:03\r\u001b[K     |██▉                             | 1.3 MB 6.2 MB\/s eta 0:00:03\r\u001b[K     |██▉                             | 1.3 MB 6.2 MB\/s eta 0:00:03\r\u001b[K     |██▉                             | 1.4 MB 6.2 MB\/s eta 0:00:03\r\u001b[K     |██▉                             | 1.4 MB 6.2 MB\/s eta 0:00:03\r\u001b[K     |███                             | 1.4 MB 6.2 MB\/s eta 0:00:03\r\u001b[K     |███                             | 1.4 MB 6.2 MB\/s eta 0:00:03\r\u001b[K     |███                             | 1.4 MB 6.2 MB\/s eta 0:00:03\r\u001b[K     |███                             | 1.4 MB 6.2 MB\/s eta 0:00:03\r\u001b[K     |███                             | 1.4 MB 6.2 MB\/s eta 0:00:03\r\u001b[K     |███                             | 1.4 MB 6.2 MB\/s eta 0:00:03\r\u001b[K     |███                             | 1.4 MB 6.2 MB\/s eta 0:00:03\r\u001b[K     |███                             | 1.4 MB 6.2 MB\/s eta 0:00:03\r\u001b[K     |███                             | 1.5 MB 6.2 MB\/s eta 0:00:03\r\u001b[K     |███                             | 1.5 MB 6.2 MB\/s eta 0:00:03\r\u001b[K     |███▏                            | 1.5 MB 6.2 MB\/s eta 0:00:03\r\u001b[K     |███▏                            | 1.5 MB 6.2 MB\/s eta 0:00:03\r\u001b[K     |███▏                            | 1.5 MB 6.2 MB\/s eta 0:00:03\r\u001b[K     |███▏                            | 1.5 MB 6.2 MB\/s eta 0:00:03\r\u001b[K     |███▏                            | 1.5 MB 6.2 MB\/s eta 0:00:03\r\u001b[K     |███▎                            | 1.5 MB 6.2 MB\/s eta 0:00:03\r\u001b[K     |███▎                            | 1.5 MB 6.2 MB\/s eta 0:00:03\r\u001b[K     |███▎                            | 1.5 MB 6.2 MB\/s eta 0:00:03\r\u001b[K     |███▎                            | 1.6 MB 6.2 MB\/s eta 0:00:03\r\u001b[K     |███▎                            | 1.6 MB 6.2 MB\/s eta 0:00:03\r\u001b[K     |███▍                            | 1.6 MB 6.2 MB\/s eta 0:00:03\r\u001b[K     |███▍                            | 1.6 MB 6.2 MB\/s eta 0:00:03\r\u001b[K     |███▍                            | 1.6 MB 6.2 MB\/s eta 0:00:03\r\u001b[K     |███▍                            | 1.6 MB 6.2 MB\/s eta 0:00:03\r\u001b[K     |███▍                            | 1.6 MB 6.2 MB\/s eta 0:00:03\r\u001b[K     |███▌                            | 1.6 MB 6.2 MB\/s eta 0:00:03\r\u001b[K     |███▌                            | 1.6 MB 6.2 MB\/s eta 0:00:03\r\u001b[K     |███▌                            | 1.6 MB 6.2 MB\/s eta 0:00:03\r\u001b[K     |███▌                            | 1.7 MB 6.2 MB\/s eta 0:00:03\r\u001b[K     |███▌                            | 1.7 MB 6.2 MB\/s eta 0:00:03\r\u001b[K     |███▋                            | 1.7 MB 6.2 MB\/s eta 0:00:03\r\u001b[K     |███▋                            | 1.7 MB 6.2 MB\/s eta 0:00:03\r\u001b[K     |███▋                            | 1.7 MB 6.2 MB\/s eta 0:00:03\r\u001b[K     |███▋                            | 1.7 MB 6.2 MB\/s eta 0:00:03\r\u001b[K     |███▋                            | 1.7 MB 6.2 MB\/s eta 0:00:03\r\u001b[K     |███▊                            | 1.7 MB 6.2 MB\/s eta 0:00:03\r\u001b[K     |███▊                            | 1.7 MB 6.2 MB\/s eta 0:00:03\r\u001b[K     |███▊                            | 1.8 MB 6.2 MB\/s eta 0:00:03\r\u001b[K     |███▊                            | 1.8 MB 6.2 MB\/s eta 0:00:03\r\u001b[K     |███▊                            | 1.8 MB 6.2 MB\/s eta 0:00:03\r\u001b[K     |███▊                            | 1.8 MB 6.2 MB\/s eta 0:00:03\r\u001b[K     |███▉                            | 1.8 MB 6.2 MB\/s eta 0:00:03\r\u001b[K     |███▉                            | 1.8 MB 6.2 MB\/s eta 0:00:03\r\u001b[K     |███▉                            | 1.8 MB 6.2 MB\/s eta 0:00:03\r\u001b[K     |███▉                            | 1.8 MB 6.2 MB\/s eta 0:00:03\r\u001b[K     |███▉                            | 1.8 MB 6.2 MB\/s eta 0:00:03\r\u001b[K     |████                            | 1.8 MB 6.2 MB\/s eta 0:00:03\r\u001b[K     |████                            | 1.9 MB 6.2 MB\/s eta 0:00:03\r\u001b[K     |████                            | 1.9 MB 6.2 MB\/s eta 0:00:03\r\u001b[K     |████                            | 1.9 MB 6.2 MB\/s eta 0:00:03\r\u001b[K     |████                            | 1.9 MB 6.2 MB\/s eta 0:00:03\r\u001b[K     |████                            | 1.9 MB 6.2 MB\/s eta 0:00:03\r\u001b[K     |████                            | 1.9 MB 6.2 MB\/s eta 0:00:03\r\u001b[K     |████                            | 1.9 MB 6.2 MB\/s eta 0:00:03\r\u001b[K     |████                            | 1.9 MB 6.2 MB\/s eta 0:00:03\r\u001b[K     |████                            | 1.9 MB 6.2 MB\/s eta 0:00:03\r\u001b[K     |████▏                           | 1.9 MB 6.2 MB\/s eta 0:00:03\r\u001b[K     |████▏                           | 2.0 MB 6.2 MB\/s eta 0:00:03\r\u001b[K     |████▏                           | 2.0 MB 6.2 MB\/s eta 0:00:03\r\u001b[K     |████▏                           | 2.0 MB 6.2 MB\/s eta 0:00:03\r\u001b[K     |████▏                           | 2.0 MB 6.2 MB\/s eta 0:00:03\r\u001b[K     |████▎                           | 2.0 MB 6.2 MB\/s eta 0:00:03\r\u001b[K     |████▎                           | 2.0 MB 6.2 MB\/s eta 0:00:03\r\u001b[K     |████▎                           | 2.0 MB 6.2 MB\/s eta 0:00:03\r\u001b[K     |████▎                           | 2.0 MB 6.2 MB\/s eta 0:00:03\r\u001b[K     |████▎                           | 2.0 MB 6.2 MB\/s eta 0:00:03\r\u001b[K     |████▍                           | 2.0 MB 6.2 MB\/s eta 0:00:03\r\u001b[K     |████▍                           | 2.1 MB 6.2 MB\/s eta 0:00:03\r\u001b[K     |████▍                           | 2.1 MB 6.2 MB\/s eta 0:00:03\r\u001b[K     |████▍                           | 2.1 MB 6.2 MB\/s eta 0:00:03\r\u001b[K     |████▍                           | 2.1 MB 6.2 MB\/s eta 0:00:03\r\u001b[K     |████▌                           | 2.1 MB 6.2 MB\/s eta 0:00:03\r\u001b[K     |████▌                           | 2.1 MB 6.2 MB\/s eta 0:00:03\r\u001b[K     |████▌                           | 2.1 MB 6.2 MB\/s eta 0:00:03\r\u001b[K     |████▌                           | 2.1 MB 6.2 MB\/s eta 0:00:03\r\u001b[K     |████▌                           | 2.1 MB 6.2 MB\/s eta 0:00:03\r\u001b[K     |████▋                           | 2.2 MB 6.2 MB\/s eta 0:00:03\r\u001b[K     |████▋                           | 2.2 MB 6.2 MB\/s eta 0:00:03\r\u001b[K     |████▋                           | 2.2 MB 6.2 MB\/s eta 0:00:03\r\u001b[K     |████▋                           | 2.2 MB 6.2 MB\/s eta 0:00:03\r\u001b[K     |████▋                           | 2.2 MB 6.2 MB\/s eta 0:00:03\r\u001b[K     |████▊                           | 2.2 MB 6.2 MB\/s eta 0:00:03\r\u001b[K     |████▊                           | 2.2 MB 6.2 MB\/s eta 0:00:03\r\u001b[K     |████▊                           | 2.2 MB 6.2 MB\/s eta 0:00:03\r\u001b[K     |████▊                           | 2.2 MB 6.2 MB\/s eta 0:00:03\r\u001b[K     |████▊                           | 2.2 MB 6.2 MB\/s eta 0:00:03\r\u001b[K     |████▊                           | 2.3 MB 6.2 MB\/s eta 0:00:03\r\u001b[K     |████▉                           | 2.3 MB 6.2 MB\/s eta 0:00:03\r\u001b[K     |████▉                           | 2.3 MB 6.2 MB\/s eta 0:00:03\r\u001b[K     |████▉                           | 2.3 MB 6.2 MB\/s eta 0:00:03\r\u001b[K     |████▉                           | 2.3 MB 6.2 MB\/s eta 0:00:03\r\u001b[K     |████▉                           | 2.3 MB 6.2 MB\/s eta 0:00:03\r\u001b[K     |█████                           | 2.3 MB 6.2 MB\/s eta 0:00:03\r\u001b[K     |█████                           | 2.3 MB 6.2 MB\/s eta 0:00:03\r\u001b[K     |█████                           | 2.3 MB 6.2 MB\/s eta 0:00:03\r\u001b[K     |█████                           | 2.3 MB 6.2 MB\/s eta 0:00:03\r\u001b[K     |█████                           | 2.4 MB 6.2 MB\/s eta 0:00:03\r\u001b[K     |█████                           | 2.4 MB 6.2 MB\/s eta 0:00:03\r\u001b[K     |█████                           | 2.4 MB 6.2 MB\/s eta 0:00:03\r\u001b[K     |█████                           | 2.4 MB 6.2 MB\/s eta 0:00:03\r\u001b[K     |█████                           | 2.4 MB 6.2 MB\/s eta 0:00:03\r\u001b[K     |█████                           | 2.4 MB 6.2 MB\/s eta 0:00:03\r\u001b[K     |█████▏                          | 2.4 MB 6.2 MB\/s eta 0:00:03\r\u001b[K     |█████▏                          | 2.4 MB 6.2 MB\/s eta 0:00:03\r\u001b[K     |█████▏                          | 2.4 MB 6.2 MB\/s eta 0:00:03\r\u001b[K     |█████▏                          | 2.4 MB 6.2 MB\/s eta 0:00:03\r\u001b[K     |█████▏                          | 2.5 MB 6.2 MB\/s eta 0:00:03\r\u001b[K     |█████▎                          | 2.5 MB 6.2 MB\/s eta 0:00:03\r\u001b[K     |█████▎                          | 2.5 MB 6.2 MB\/s eta 0:00:03\r\u001b[K     |█████▎                          | 2.5 MB 6.2 MB\/s eta 0:00:03\r\u001b[K     |█████▎                          | 2.5 MB 6.2 MB\/s eta 0:00:03\r\u001b[K     |█████▎                          | 2.5 MB 6.2 MB\/s eta 0:00:03\r\u001b[K     |█████▍                          | 2.5 MB 6.2 MB\/s eta 0:00:03\r\u001b[K     |█████▍                          | 2.5 MB 6.2 MB\/s eta 0:00:03\r\u001b[K     |█████▍                          | 2.5 MB 6.2 MB\/s eta 0:00:03\r\u001b[K     |█████▍                          | 2.5 MB 6.2 MB\/s eta 0:00:03\r\u001b[K     |█████▍                          | 2.6 MB 6.2 MB\/s eta 0:00:03\r\u001b[K     |█████▌                          | 2.6 MB 6.2 MB\/s eta 0:00:03\r\u001b[K     |█████▌                          | 2.6 MB 6.2 MB\/s eta 0:00:03\r\u001b[K     |█████▌                          | 2.6 MB 6.2 MB\/s eta 0:00:03\r\u001b[K     |█████▌                          | 2.6 MB 6.2 MB\/s eta 0:00:03\r\u001b[K     |█████▌                          | 2.6 MB 6.2 MB\/s eta 0:00:02\r\u001b[K     |█████▋                          | 2.6 MB 6.2 MB\/s eta 0:00:02\r\u001b[K     |█████▋                          | 2.6 MB 6.2 MB\/s eta 0:00:02\r\u001b[K     |█████▋                          | 2.6 MB 6.2 MB\/s eta 0:00:02\r\u001b[K     |█████▋                          | 2.7 MB 6.2 MB\/s eta 0:00:02\r\u001b[K     |█████▋                          | 2.7 MB 6.2 MB\/s eta 0:00:02\r\u001b[K     |█████▋                          | 2.7 MB 6.2 MB\/s eta 0:00:02\r\u001b[K     |█████▊                          | 2.7 MB 6.2 MB\/s eta 0:00:02\r\u001b[K     |█████▊                          | 2.7 MB 6.2 MB\/s eta 0:00:02\r\u001b[K     |█████▊                          | 2.7 MB 6.2 MB\/s eta 0:00:02\r\u001b[K     |█████▊                          | 2.7 MB 6.2 MB\/s eta 0:00:02\r\u001b[K     |█████▊                          | 2.7 MB 6.2 MB\/s eta 0:00:02\r\u001b[K     |█████▉                          | 2.7 MB 6.2 MB\/s eta 0:00:02\r\u001b[K     |█████▉                          | 2.7 MB 6.2 MB\/s eta 0:00:02\r\u001b[K     |█████▉                          | 2.8 MB 6.2 MB\/s eta 0:00:02\r\u001b[K     |█████▉                          | 2.8 MB 6.2 MB\/s eta 0:00:02\r\u001b[K     |█████▉                          | 2.8 MB 6.2 MB\/s eta 0:00:02\r\u001b[K     |██████                          | 2.8 MB 6.2 MB\/s eta 0:00:02\r\u001b[K     |██████                          | 2.8 MB 6.2 MB\/s eta 0:00:02\r\u001b[K     |██████                          | 2.8 MB 6.2 MB\/s eta 0:00:02\r\u001b[K     |██████                          | 2.8 MB 6.2 MB\/s eta 0:00:02\r\u001b[K     |██████                          | 2.8 MB 6.2 MB\/s eta 0:00:02\r\u001b[K     |██████                          | 2.8 MB 6.2 MB\/s eta 0:00:02\r\u001b[K     |██████                          | 2.8 MB 6.2 MB\/s eta 0:00:02\r\u001b[K     |██████                          | 2.9 MB 6.2 MB\/s eta 0:00:02\r\u001b[K     |██████                          | 2.9 MB 6.2 MB\/s eta 0:00:02\r\u001b[K     |██████                          | 2.9 MB 6.2 MB\/s eta 0:00:02\r\u001b[K     |██████▏                         | 2.9 MB 6.2 MB\/s eta 0:00:02\r\u001b[K     |██████▏                         | 2.9 MB 6.2 MB\/s eta 0:00:02\r\u001b[K     |██████▏                         | 2.9 MB 6.2 MB\/s eta 0:00:02\r\u001b[K     |██████▏                         | 2.9 MB 6.2 MB\/s eta 0:00:02\r\u001b[K     |██████▏                         | 2.9 MB 6.2 MB\/s eta 0:00:02\r\u001b[K     |██████▎                         | 2.9 MB 6.2 MB\/s eta 0:00:02\r\u001b[K     |██████▎                         | 2.9 MB 6.2 MB\/s eta 0:00:02\r\u001b[K     |██████▎                         | 3.0 MB 6.2 MB\/s eta 0:00:02\r\u001b[K     |██████▎                         | 3.0 MB 6.2 MB\/s eta 0:00:02\r\u001b[K     |██████▎                         | 3.0 MB 6.2 MB\/s eta 0:00:02\r\u001b[K     |██████▍                         | 3.0 MB 6.2 MB\/s eta 0:00:02\r\u001b[K     |██████▍                         | 3.0 MB 6.2 MB\/s eta 0:00:02\r\u001b[K     |██████▍                         | 3.0 MB 6.2 MB\/s eta 0:00:02\r\u001b[K     |██████▍                         | 3.0 MB 6.2 MB\/s eta 0:00:02\r\u001b[K     |██████▍                         | 3.0 MB 6.2 MB\/s eta 0:00:02\r\u001b[K     |██████▌                         | 3.0 MB 6.2 MB\/s eta 0:00:02\r\u001b[K     |██████▌                         | 3.1 MB 6.2 MB\/s eta 0:00:02\r\u001b[K     |██████▌                         | 3.1 MB 6.2 MB\/s eta 0:00:02\r\u001b[K     |██████▌                         | 3.1 MB 6.2 MB\/s eta 0:00:02\r\u001b[K     |██████▌                         | 3.1 MB 6.2 MB\/s eta 0:00:02\r\u001b[K     |██████▋                         | 3.1 MB 6.2 MB\/s eta 0:00:02\r\u001b[K     |██████▋                         | 3.1 MB 6.2 MB\/s eta 0:00:02\r\u001b[K     |██████▋                         | 3.1 MB 6.2 MB\/s eta 0:00:02\r\u001b[K     |██████▋                         | 3.1 MB 6.2 MB\/s eta 0:00:02\r\u001b[K     |██████▋                         | 3.1 MB 6.2 MB\/s eta 0:00:02\r\u001b[K     |██████▋                         | 3.1 MB 6.2 MB\/s eta 0:00:02\r\u001b[K     |██████▊                         | 3.2 MB 6.2 MB\/s eta 0:00:02\r\u001b[K     |██████▊                         | 3.2 MB 6.2 MB\/s eta 0:00:02\r\u001b[K     |██████▊                         | 3.2 MB 6.2 MB\/s eta 0:00:02\r\u001b[K     |██████▊                         | 3.2 MB 6.2 MB\/s eta 0:00:02\r\u001b[K     |██████▊                         | 3.2 MB 6.2 MB\/s eta 0:00:02\r\u001b[K     |██████▉                         | 3.2 MB 6.2 MB\/s eta 0:00:02\r\u001b[K     |██████▉                         | 3.2 MB 6.2 MB\/s eta 0:00:02\r\u001b[K     |██████▉                         | 3.2 MB 6.2 MB\/s eta 0:00:02\r\u001b[K     |██████▉                         | 3.2 MB 6.2 MB\/s eta 0:00:02\r\u001b[K     |██████▉                         | 3.2 MB 6.2 MB\/s eta 0:00:02\r\u001b[K     |███████                         | 3.3 MB 6.2 MB\/s eta 0:00:02\r\u001b[K     |███████                         | 3.3 MB 6.2 MB\/s eta 0:00:02\r\u001b[K     |███████                         | 3.3 MB 6.2 MB\/s eta 0:00:02\r\u001b[K     |███████                         | 3.3 MB 6.2 MB\/s eta 0:00:02\r\u001b[K     |███████                         | 3.3 MB 6.2 MB\/s eta 0:00:02\r\u001b[K     |███████                         | 3.3 MB 6.2 MB\/s eta 0:00:02\r\u001b[K     |███████                         | 3.3 MB 6.2 MB\/s eta 0:00:02\r\u001b[K     |███████                         | 3.3 MB 6.2 MB\/s eta 0:00:02\r\u001b[K     |███████                         | 3.3 MB 6.2 MB\/s eta 0:00:02\r\u001b[K     |███████                         | 3.3 MB 6.2 MB\/s eta 0:00:02\r\u001b[K     |███████▏                        | 3.4 MB 6.2 MB\/s eta 0:00:02\r\u001b[K     |███████▏                        | 3.4 MB 6.2 MB\/s eta 0:00:02\r\u001b[K     |███████▏                        | 3.4 MB 6.2 MB\/s eta 0:00:02\r\u001b[K     |███████▏                        | 3.4 MB 6.2 MB\/s eta 0:00:02\r\u001b[K     |███████▏                        | 3.4 MB 6.2 MB\/s eta 0:00:02\r\u001b[K     |███████▎                        | 3.4 MB 6.2 MB\/s eta 0:00:02\r\u001b[K     |███████▎                        | 3.4 MB 6.2 MB\/s eta 0:00:02\r\u001b[K     |███████▎                        | 3.4 MB 6.2 MB\/s eta 0:00:02\r\u001b[K     |███████▎                        | 3.4 MB 6.2 MB\/s eta 0:00:02\r\u001b[K     |███████▎                        | 3.5 MB 6.2 MB\/s eta 0:00:02\r\u001b[K     |███████▍                        | 3.5 MB 6.2 MB\/s eta 0:00:02\r\u001b[K     |███████▍                        | 3.5 MB 6.2 MB\/s eta 0:00:02\r\u001b[K     |███████▍                        | 3.5 MB 6.2 MB\/s eta 0:00:02\r\u001b[K     |███████▍                        | 3.5 MB 6.2 MB\/s eta 0:00:02\r\u001b[K     |███████▍                        | 3.5 MB 6.2 MB\/s eta 0:00:02\r\u001b[K     |███████▌                        | 3.5 MB 6.2 MB\/s eta 0:00:02\r\u001b[K     |███████▌                        | 3.5 MB 6.2 MB\/s eta 0:00:02\r\u001b[K     |███████▌                        | 3.5 MB 6.2 MB\/s eta 0:00:02\r\u001b[K     |███████▌                        | 3.5 MB 6.2 MB\/s eta 0:00:02\r\u001b[K     |███████▌                        | 3.6 MB 6.2 MB\/s eta 0:00:02\r\u001b[K     |███████▌                        | 3.6 MB 6.2 MB\/s eta 0:00:02\r\u001b[K     |███████▋                        | 3.6 MB 6.2 MB\/s eta 0:00:02\r\u001b[K     |███████▋                        | 3.6 MB 6.2 MB\/s eta 0:00:02\r\u001b[K     |███████▋                        | 3.6 MB 6.2 MB\/s eta 0:00:02\r\u001b[K     |███████▋                        | 3.6 MB 6.2 MB\/s eta 0:00:02\r\u001b[K     |███████▋                        | 3.6 MB 6.2 MB\/s eta 0:00:02\r\u001b[K     |███████▊                        | 3.6 MB 6.2 MB\/s eta 0:00:02\r\u001b[K     |███████▊                        | 3.6 MB 6.2 MB\/s eta 0:00:02\r\u001b[K     |███████▊                        | 3.6 MB 6.2 MB\/s eta 0:00:02\r\u001b[K     |███████▊                        | 3.7 MB 6.2 MB\/s eta 0:00:02\r\u001b[K     |███████▊                        | 3.7 MB 6.2 MB\/s eta 0:00:02\r\u001b[K     |███████▉                        | 3.7 MB 6.2 MB\/s eta 0:00:02\r\u001b[K     |███████▉                        | 3.7 MB 6.2 MB\/s eta 0:00:02\r\u001b[K     |███████▉                        | 3.7 MB 6.2 MB\/s eta 0:00:02\r\u001b[K     |███████▉                        | 3.7 MB 6.2 MB\/s eta 0:00:02\r\u001b[K     |███████▉                        | 3.7 MB 6.2 MB\/s eta 0:00:02\r\u001b[K     |████████                        | 3.7 MB 6.2 MB\/s eta 0:00:02\r\u001b[K     |████████                        | 3.7 MB 6.2 MB\/s eta 0:00:02\r\u001b[K     |████████                        | 3.7 MB 6.2 MB\/s eta 0:00:02\r\u001b[K     |████████                        | 3.8 MB 6.2 MB\/s eta 0:00:02\r\u001b[K     |████████                        | 3.8 MB 6.2 MB\/s eta 0:00:02\r\u001b[K     |████████                        | 3.8 MB 6.2 MB\/s eta 0:00:02\r\u001b[K     |████████                        | 3.8 MB 6.2 MB\/s eta 0:00:02\r\u001b[K     |████████                        | 3.8 MB 6.2 MB\/s eta 0:00:02\r\u001b[K     |████████                        | 3.8 MB 6.2 MB\/s eta 0:00:02\r\u001b[K     |████████                        | 3.8 MB 6.2 MB\/s eta 0:00:02\r\u001b[K     |████████▏                       | 3.8 MB 6.2 MB\/s eta 0:00:02\r\u001b[K     |████████▏                       | 3.8 MB 6.2 MB\/s eta 0:00:02\r\u001b[K     |████████▏                       | 3.9 MB 6.2 MB\/s eta 0:00:02\r\u001b[K     |████████▏                       | 3.9 MB 6.2 MB\/s eta 0:00:02\r\u001b[K     |████████▏                       | 3.9 MB 6.2 MB\/s eta 0:00:02\r\u001b[K     |████████▎                       | 3.9 MB 6.2 MB\/s eta 0:00:02\r\u001b[K     |████████▎                       | 3.9 MB 6.2 MB\/s eta 0:00:02\r\u001b[K     |████████▎                       | 3.9 MB 6.2 MB\/s eta 0:00:02\r\u001b[K     |████████▎                       | 3.9 MB 6.2 MB\/s eta 0:00:02\r\u001b[K     |████████▎                       | 3.9 MB 6.2 MB\/s eta 0:00:02\r\u001b[K     |████████▍                       | 3.9 MB 6.2 MB\/s eta 0:00:02\r\u001b[K     |████████▍                       | 3.9 MB 6.2 MB\/s eta 0:00:02\r\u001b[K     |████████▍                       | 4.0 MB 6.2 MB\/s eta 0:00:02\r\u001b[K     |████████▍                       | 4.0 MB 6.2 MB\/s eta 0:00:02\r\u001b[K     |████████▍                       | 4.0 MB 6.2 MB\/s eta 0:00:02\r\u001b[K     |████████▌                       | 4.0 MB 6.2 MB\/s eta 0:00:02\r\u001b[K     |████████▌                       | 4.0 MB 6.2 MB\/s eta 0:00:02\r\u001b[K     |████████▌                       | 4.0 MB 6.2 MB\/s eta 0:00:02\r\u001b[K     |████████▌                       | 4.0 MB 6.2 MB\/s eta 0:00:02\r\u001b[K     |████████▌                       | 4.0 MB 6.2 MB\/s eta 0:00:02\r\u001b[K     |████████▌                       | 4.0 MB 6.2 MB\/s eta 0:00:02\r\u001b[K     |████████▋                       | 4.0 MB 6.2 MB\/s eta 0:00:02\r\u001b[K     |████████▋                       | 4.1 MB 6.2 MB\/s eta 0:00:02\r\u001b[K     |████████▋                       | 4.1 MB 6.2 MB\/s eta 0:00:02\r\u001b[K     |████████▋                       | 4.1 MB 6.2 MB\/s eta 0:00:02\r\u001b[K     |████████▋                       | 4.1 MB 6.2 MB\/s eta 0:00:02\r\u001b[K     |████████▊                       | 4.1 MB 6.2 MB\/s eta 0:00:02\r\u001b[K     |████████▊                       | 4.1 MB 6.2 MB\/s eta 0:00:02\r\u001b[K     |████████▊                       | 4.1 MB 6.2 MB\/s eta 0:00:02\r\u001b[K     |████████▊                       | 4.1 MB 6.2 MB\/s eta 0:00:02\r\u001b[K     |████████▊                       | 4.1 MB 6.2 MB\/s eta 0:00:02\r\u001b[K     |████████▉                       | 4.1 MB 6.2 MB\/s eta 0:00:02\r\u001b[K     |████████▉                       | 4.2 MB 6.2 MB\/s eta 0:00:02\r\u001b[K     |████████▉                       | 4.2 MB 6.2 MB\/s eta 0:00:02\r\u001b[K     |████████▉                       | 4.2 MB 6.2 MB\/s eta 0:00:02\r\u001b[K     |████████▉                       | 4.2 MB 6.2 MB\/s eta 0:00:02\r\u001b[K     |█████████                       | 4.2 MB 6.2 MB\/s eta 0:00:02\r\u001b[K     |█████████                       | 4.2 MB 6.2 MB\/s eta 0:00:02\r\u001b[K     |█████████                       | 4.2 MB 6.2 MB\/s eta 0:00:02\r\u001b[K     |█████████                       | 4.2 MB 6.2 MB\/s eta 0:00:02\r\u001b[K     |█████████                       | 4.2 MB 6.2 MB\/s eta 0:00:02\r\u001b[K     |█████████                       | 4.2 MB 6.2 MB\/s eta 0:00:02\r\u001b[K     |█████████                       | 4.3 MB 6.2 MB\/s eta 0:00:02\r\u001b[K     |█████████                       | 4.3 MB 6.2 MB\/s eta 0:00:02\r\u001b[K     |█████████                       | 4.3 MB 6.2 MB\/s eta 0:00:02\r\u001b[K     |█████████                       | 4.3 MB 6.2 MB\/s eta 0:00:02\r\u001b[K     |█████████▏                      | 4.3 MB 6.2 MB\/s eta 0:00:02\r\u001b[K     |█████████▏                      | 4.3 MB 6.2 MB\/s eta 0:00:02\r\u001b[K     |█████████▏                      | 4.3 MB 6.2 MB\/s eta 0:00:02\r\u001b[K     |█████████▏                      | 4.3 MB 6.2 MB\/s eta 0:00:02\r\u001b[K     |█████████▏                      | 4.3 MB 6.2 MB\/s eta 0:00:02\r\u001b[K     |█████████▎                      | 4.4 MB 6.2 MB\/s eta 0:00:02\r\u001b[K     |█████████▎                      | 4.4 MB 6.2 MB\/s eta 0:00:02\r\u001b[K     |█████████▎                      | 4.4 MB 6.2 MB\/s eta 0:00:02\r\u001b[K     |█████████▎                      | 4.4 MB 6.2 MB\/s eta 0:00:02\r\u001b[K     |█████████▎                      | 4.4 MB 6.2 MB\/s eta 0:00:02\r\u001b[K     |█████████▍                      | 4.4 MB 6.2 MB\/s eta 0:00:02\r\u001b[K     |█████████▍                      | 4.4 MB 6.2 MB\/s eta 0:00:02\r\u001b[K     |█████████▍                      | 4.4 MB 6.2 MB\/s eta 0:00:02\r\u001b[K     |█████████▍                      | 4.4 MB 6.2 MB\/s eta 0:00:02\r\u001b[K     |█████████▍                      | 4.4 MB 6.2 MB\/s eta 0:00:02\r\u001b[K     |█████████▍                      | 4.5 MB 6.2 MB\/s eta 0:00:02\r\u001b[K     |█████████▌                      | 4.5 MB 6.2 MB\/s eta 0:00:02\r\u001b[K     |█████████▌                      | 4.5 MB 6.2 MB\/s eta 0:00:02\r\u001b[K     |█████████▌                      | 4.5 MB 6.2 MB\/s eta 0:00:02\r\u001b[K     |█████████▌                      | 4.5 MB 6.2 MB\/s eta 0:00:02\r\u001b[K     |█████████▌                      | 4.5 MB 6.2 MB\/s eta 0:00:02\r\u001b[K     |█████████▋                      | 4.5 MB 6.2 MB\/s eta 0:00:02\r\u001b[K     |█████████▋                      | 4.5 MB 6.2 MB\/s eta 0:00:02\r\u001b[K     |█████████▋                      | 4.5 MB 6.2 MB\/s eta 0:00:02\r\u001b[K     |█████████▋                      | 4.5 MB 6.2 MB\/s eta 0:00:02\r\u001b[K     |█████████▋                      | 4.6 MB 6.2 MB\/s eta 0:00:02\r\u001b[K     |█████████▊                      | 4.6 MB 6.2 MB\/s eta 0:00:02\r\u001b[K     |█████████▊                      | 4.6 MB 6.2 MB\/s eta 0:00:02\r\u001b[K     |█████████▊                      | 4.6 MB 6.2 MB\/s eta 0:00:02\r\u001b[K     |█████████▊                      | 4.6 MB 6.2 MB\/s eta 0:00:02\r\u001b[K     |█████████▊                      | 4.6 MB 6.2 MB\/s eta 0:00:02\r\u001b[K     |█████████▉                      | 4.6 MB 6.2 MB\/s eta 0:00:02\r\u001b[K     |█████████▉                      | 4.6 MB 6.2 MB\/s eta 0:00:02\r\u001b[K     |█████████▉                      | 4.6 MB 6.2 MB\/s eta 0:00:02\r\u001b[K     |█████████▉                      | 4.6 MB 6.2 MB\/s eta 0:00:02\r\u001b[K     |█████████▉                      | 4.7 MB 6.2 MB\/s eta 0:00:02\r\u001b[K     |██████████                      | 4.7 MB 6.2 MB\/s eta 0:00:02\r\u001b[K     |██████████                      | 4.7 MB 6.2 MB\/s eta 0:00:02\r\u001b[K     |██████████                      | 4.7 MB 6.2 MB\/s eta 0:00:02\r\u001b[K     |██████████                      | 4.7 MB 6.2 MB\/s eta 0:00:02\r\u001b[K     |██████████                      | 4.7 MB 6.2 MB\/s eta 0:00:02\r\u001b[K     |██████████                      | 4.7 MB 6.2 MB\/s eta 0:00:02\r\u001b[K     |██████████                      | 4.7 MB 6.2 MB\/s eta 0:00:02\r\u001b[K     |██████████                      | 4.7 MB 6.2 MB\/s eta 0:00:02\r\u001b[K     |██████████                      | 4.8 MB 6.2 MB\/s eta 0:00:02\r\u001b[K     |██████████                      | 4.8 MB 6.2 MB\/s eta 0:00:02\r\u001b[K     |██████████▏                     | 4.8 MB 6.2 MB\/s eta 0:00:02\r\u001b[K     |██████████▏                     | 4.8 MB 6.2 MB\/s eta 0:00:02\r\u001b[K     |██████████▏                     | 4.8 MB 6.2 MB\/s eta 0:00:02\r\u001b[K     |██████████▏                     | 4.8 MB 6.2 MB\/s eta 0:00:02\r\u001b[K     |██████████▏                     | 4.8 MB 6.2 MB\/s eta 0:00:02\r\u001b[K     |██████████▎                     | 4.8 MB 6.2 MB\/s eta 0:00:02\r\u001b[K     |██████████▎                     | 4.8 MB 6.2 MB\/s eta 0:00:02\r\u001b[K     |██████████▎                     | 4.8 MB 6.2 MB\/s eta 0:00:02\r\u001b[K     |██████████▎                     | 4.9 MB 6.2 MB\/s eta 0:00:02\r\u001b[K     |██████████▎                     | 4.9 MB 6.2 MB\/s eta 0:00:02\r\u001b[K     |██████████▎                     | 4.9 MB 6.2 MB\/s eta 0:00:02\r\u001b[K     |██████████▍                     | 4.9 MB 6.2 MB\/s eta 0:00:02\r\u001b[K     |██████████▍                     | 4.9 MB 6.2 MB\/s eta 0:00:02\r\u001b[K     |██████████▍                     | 4.9 MB 6.2 MB\/s eta 0:00:02\r\u001b[K     |██████████▍                     | 4.9 MB 6.2 MB\/s eta 0:00:02\r\u001b[K     |██████████▍                     | 4.9 MB 6.2 MB\/s eta 0:00:02\r\u001b[K     |██████████▌                     | 4.9 MB 6.2 MB\/s eta 0:00:02\r\u001b[K     |██████████▌                     | 4.9 MB 6.2 MB\/s eta 0:00:02\r\u001b[K     |██████████▌                     | 5.0 MB 6.2 MB\/s eta 0:00:02\r\u001b[K     |██████████▌                     | 5.0 MB 6.2 MB\/s eta 0:00:02\r\u001b[K     |██████████▌                     | 5.0 MB 6.2 MB\/s eta 0:00:02\r\u001b[K     |██████████▋                     | 5.0 MB 6.2 MB\/s eta 0:00:02\r\u001b[K     |██████████▋                     | 5.0 MB 6.2 MB\/s eta 0:00:02\r\u001b[K     |██████████▋                     | 5.0 MB 6.2 MB\/s eta 0:00:02\r\u001b[K     |██████████▋                     | 5.0 MB 6.2 MB\/s eta 0:00:02\r\u001b[K     |██████████▋                     | 5.0 MB 6.2 MB\/s eta 0:00:02\r\u001b[K     |██████████▊                     | 5.0 MB 6.2 MB\/s eta 0:00:02\r\u001b[K     |██████████▊                     | 5.0 MB 6.2 MB\/s eta 0:00:02\r\u001b[K     |██████████▊                     | 5.1 MB 6.2 MB\/s eta 0:00:02\r\u001b[K     |██████████▊                     | 5.1 MB 6.2 MB\/s eta 0:00:02\r\u001b[K     |██████████▊                     | 5.1 MB 6.2 MB\/s eta 0:00:02\r\u001b[K     |██████████▉                     | 5.1 MB 6.2 MB\/s eta 0:00:02\r\u001b[K     |██████████▉                     | 5.1 MB 6.2 MB\/s eta 0:00:02\r\u001b[K     |██████████▉                     | 5.1 MB 6.2 MB\/s eta 0:00:02\r\u001b[K     |██████████▉                     | 5.1 MB 6.2 MB\/s eta 0:00:02\r\u001b[K     |██████████▉                     | 5.1 MB 6.2 MB\/s eta 0:00:02\r\u001b[K     |███████████                     | 5.1 MB 6.2 MB\/s eta 0:00:02\r\u001b[K     |███████████                     | 5.2 MB 6.2 MB\/s eta 0:00:02\r\u001b[K     |███████████                     | 5.2 MB 6.2 MB\/s eta 0:00:02\r\u001b[K     |███████████                     | 5.2 MB 6.2 MB\/s eta 0:00:02\r\u001b[K     |███████████                     | 5.2 MB 6.2 MB\/s eta 0:00:02\r\u001b[K     |███████████                     | 5.2 MB 6.2 MB\/s eta 0:00:02\r\u001b[K     |███████████                     | 5.2 MB 6.2 MB\/s eta 0:00:02\r\u001b[K     |███████████                     | 5.2 MB 6.2 MB\/s eta 0:00:02\r\u001b[K     |███████████                     | 5.2 MB 6.2 MB\/s eta 0:00:02\r\u001b[K     |███████████                     | 5.2 MB 6.2 MB\/s eta 0:00:02\r\u001b[K     |███████████▏                    | 5.2 MB 6.2 MB\/s eta 0:00:02\r\u001b[K     |███████████▏                    | 5.3 MB 6.2 MB\/s eta 0:00:02\r\u001b[K     |███████████▏                    | 5.3 MB 6.2 MB\/s eta 0:00:02\r\u001b[K     |███████████▏                    | 5.3 MB 6.2 MB\/s eta 0:00:02\r\u001b[K     |███████████▏                    | 5.3 MB 6.2 MB\/s eta 0:00:02\r\u001b[K     |███████████▎                    | 5.3 MB 6.2 MB\/s eta 0:00:02\r\u001b[K     |███████████▎                    | 5.3 MB 6.2 MB\/s eta 0:00:02\r\u001b[K     |███████████▎                    | 5.3 MB 6.2 MB\/s eta 0:00:02\r\u001b[K     |███████████▎                    | 5.3 MB 6.2 MB\/s eta 0:00:02\r\u001b[K     |███████████▎                    | 5.3 MB 6.2 MB\/s eta 0:00:02\r\u001b[K     |███████████▎                    | 5.3 MB 6.2 MB\/s eta 0:00:02\r\u001b[K     |███████████▍                    | 5.4 MB 6.2 MB\/s eta 0:00:02\r\u001b[K     |███████████▍                    | 5.4 MB 6.2 MB\/s eta 0:00:02\r\u001b[K     |███████████▍                    | 5.4 MB 6.2 MB\/s eta 0:00:02\r\u001b[K     |███████████▍                    | 5.4 MB 6.2 MB\/s eta 0:00:02\r\u001b[K     |███████████▍                    | 5.4 MB 6.2 MB\/s eta 0:00:02\r\u001b[K     |███████████▌                    | 5.4 MB 6.2 MB\/s eta 0:00:02\r\u001b[K     |███████████▌                    | 5.4 MB 6.2 MB\/s eta 0:00:02\r\u001b[K     |███████████▌                    | 5.4 MB 6.2 MB\/s eta 0:00:02\r\u001b[K     |███████████▌                    | 5.4 MB 6.2 MB\/s eta 0:00:02\r\u001b[K     |███████████▌                    | 5.4 MB 6.2 MB\/s eta 0:00:02\r\u001b[K     |███████████▋                    | 5.5 MB 6.2 MB\/s eta 0:00:02\r\u001b[K     |███████████▋                    | 5.5 MB 6.2 MB\/s eta 0:00:02\r\u001b[K     |███████████▋                    | 5.5 MB 6.2 MB\/s eta 0:00:02\r\u001b[K     |███████████▋                    | 5.5 MB 6.2 MB\/s eta 0:00:02\r\u001b[K     |███████████▋                    | 5.5 MB 6.2 MB\/s eta 0:00:02\r\u001b[K     |███████████▊                    | 5.5 MB 6.2 MB\/s eta 0:00:02\r\u001b[K     |███████████▊                    | 5.5 MB 6.2 MB\/s eta 0:00:02\r\u001b[K     |███████████▊                    | 5.5 MB 6.2 MB\/s eta 0:00:02\r\u001b[K     |███████████▊                    | 5.5 MB 6.2 MB\/s eta 0:00:02\r\u001b[K     |███████████▊                    | 5.6 MB 6.2 MB\/s eta 0:00:02\r\u001b[K     |███████████▉                    | 5.6 MB 6.2 MB\/s eta 0:00:02\r\u001b[K     |███████████▉                    | 5.6 MB 6.2 MB\/s eta 0:00:02\r\u001b[K     |███████████▉                    | 5.6 MB 6.2 MB\/s eta 0:00:02\r\u001b[K     |███████████▉                    | 5.6 MB 6.2 MB\/s eta 0:00:02\r\u001b[K     |███████████▉                    | 5.6 MB 6.2 MB\/s eta 0:00:02\r\u001b[K     |████████████                    | 5.6 MB 6.2 MB\/s eta 0:00:02\r\u001b[K     |████████████                    | 5.6 MB 6.2 MB\/s eta 0:00:02\r\u001b[K     |████████████                    | 5.6 MB 6.2 MB\/s eta 0:00:02\r\u001b[K     |████████████                    | 5.6 MB 6.2 MB\/s eta 0:00:02\r\u001b[K     |████████████                    | 5.7 MB 6.2 MB\/s eta 0:00:02\r\u001b[K     |████████████                    | 5.7 MB 6.2 MB\/s eta 0:00:02\r\u001b[K     |████████████                    | 5.7 MB 6.2 MB\/s eta 0:00:02\r\u001b[K     |████████████                    | 5.7 MB 6.2 MB\/s eta 0:00:02\r\u001b[K     |████████████                    | 5.7 MB 6.2 MB\/s eta 0:00:02\r\u001b[K     |████████████                    | 5.7 MB 6.2 MB\/s eta 0:00:02\r\u001b[K     |████████████▏                   | 5.7 MB 6.2 MB\/s eta 0:00:02\r\u001b[K     |████████████▏                   | 5.7 MB 6.2 MB\/s eta 0:00:02\r\u001b[K     |████████████▏                   | 5.7 MB 6.2 MB\/s eta 0:00:02\r\u001b[K     |████████████▏                   | 5.7 MB 6.2 MB\/s eta 0:00:02\r\u001b[K     |████████████▏                   | 5.8 MB 6.2 MB\/s eta 0:00:02\r\u001b[K     |████████████▏                   | 5.8 MB 6.2 MB\/s eta 0:00:02\r\u001b[K     |████████████▎                   | 5.8 MB 6.2 MB\/s eta 0:00:02\r\u001b[K     |████████████▎                   | 5.8 MB 6.2 MB\/s eta 0:00:02\r\u001b[K     |████████████▎                   | 5.8 MB 6.2 MB\/s eta 0:00:02\r\u001b[K     |████████████▎                   | 5.8 MB 6.2 MB\/s eta 0:00:02\r\u001b[K     |████████████▎                   | 5.8 MB 6.2 MB\/s eta 0:00:02\r\u001b[K     |████████████▍                   | 5.8 MB 6.2 MB\/s eta 0:00:02\r\u001b[K     |████████████▍                   | 5.8 MB 6.2 MB\/s eta 0:00:02\r\u001b[K     |████████████▍                   | 5.8 MB 6.2 MB\/s eta 0:00:02\r\u001b[K     |████████████▍                   | 5.9 MB 6.2 MB\/s eta 0:00:02\r\u001b[K     |████████████▍                   | 5.9 MB 6.2 MB\/s eta 0:00:02\r\u001b[K     |████████████▌                   | 5.9 MB 6.2 MB\/s eta 0:00:02\r\u001b[K     |████████████▌                   | 5.9 MB 6.2 MB\/s eta 0:00:02\r\u001b[K     |████████████▌                   | 5.9 MB 6.2 MB\/s eta 0:00:02\r\u001b[K     |████████████▌                   | 5.9 MB 6.2 MB\/s eta 0:00:02\r\u001b[K     |████████████▌                   | 5.9 MB 6.2 MB\/s eta 0:00:02\r\u001b[K     |████████████▋                   | 5.9 MB 6.2 MB\/s eta 0:00:02\r\u001b[K     |████████████▋                   | 5.9 MB 6.2 MB\/s eta 0:00:02\r\u001b[K     |████████████▋                   | 5.9 MB 6.2 MB\/s eta 0:00:02\r\u001b[K     |████████████▋                   | 6.0 MB 6.2 MB\/s eta 0:00:02\r\u001b[K     |████████████▋                   | 6.0 MB 6.2 MB\/s eta 0:00:02\r\u001b[K     |████████████▊                   | 6.0 MB 6.2 MB\/s eta 0:00:02\r\u001b[K     |████████████▊                   | 6.0 MB 6.2 MB\/s eta 0:00:02\r\u001b[K     |████████████▊                   | 6.0 MB 6.2 MB\/s eta 0:00:02\r\u001b[K     |████████████▊                   | 6.0 MB 6.2 MB\/s eta 0:00:02\r\u001b[K     |████████████▊                   | 6.0 MB 6.2 MB\/s eta 0:00:02\r\u001b[K     |████████████▉                   | 6.0 MB 6.2 MB\/s eta 0:00:02\r\u001b[K     |████████████▉                   | 6.0 MB 6.2 MB\/s eta 0:00:02\r\u001b[K     |████████████▉                   | 6.1 MB 6.2 MB\/s eta 0:00:02\r\u001b[K     |████████████▉                   | 6.1 MB 6.2 MB\/s eta 0:00:02\r\u001b[K     |████████████▉                   | 6.1 MB 6.2 MB\/s eta 0:00:02\r\u001b[K     |█████████████                   | 6.1 MB 6.2 MB\/s eta 0:00:02\r\u001b[K     |█████████████                   | 6.1 MB 6.2 MB\/s eta 0:00:02\r\u001b[K     |█████████████                   | 6.1 MB 6.2 MB\/s eta 0:00:02\r\u001b[K     |█████████████                   | 6.1 MB 6.2 MB\/s eta 0:00:02\r\u001b[K     |█████████████                   | 6.1 MB 6.2 MB\/s eta 0:00:02\r\u001b[K     |█████████████                   | 6.1 MB 6.2 MB\/s eta 0:00:02\r\u001b[K     |█████████████                   | 6.1 MB 6.2 MB\/s eta 0:00:02\r\u001b[K     |█████████████                   | 6.2 MB 6.2 MB\/s eta 0:00:02\r\u001b[K     |█████████████                   | 6.2 MB 6.2 MB\/s eta 0:00:02\r\u001b[K     |█████████████                   | 6.2 MB 6.2 MB\/s eta 0:00:02\r\u001b[K     |█████████████▏                  | 6.2 MB 6.2 MB\/s eta 0:00:02\r\u001b[K     |█████████████▏                  | 6.2 MB 6.2 MB\/s eta 0:00:02\r\u001b[K     |█████████████▏                  | 6.2 MB 6.2 MB\/s eta 0:00:02\r\u001b[K     |█████████████▏                  | 6.2 MB 6.2 MB\/s eta 0:00:02\r\u001b[K     |█████████████▏                  | 6.2 MB 6.2 MB\/s eta 0:00:02\r\u001b[K     |█████████████▏                  | 6.2 MB 6.2 MB\/s eta 0:00:02\r\u001b[K     |█████████████▎                  | 6.2 MB 6.2 MB\/s eta 0:00:02\r\u001b[K     |█████████████▎                  | 6.3 MB 6.2 MB\/s eta 0:00:02\r\u001b[K     |█████████████▎                  | 6.3 MB 6.2 MB\/s eta 0:00:02\r\u001b[K     |█████████████▎                  | 6.3 MB 6.2 MB\/s eta 0:00:02\r\u001b[K     |█████████████▎                  | 6.3 MB 6.2 MB\/s eta 0:00:02\r\u001b[K     |█████████████▍                  | 6.3 MB 6.2 MB\/s eta 0:00:02\r\u001b[K     |█████████████▍                  | 6.3 MB 6.2 MB\/s eta 0:00:02\r\u001b[K     |█████████████▍                  | 6.3 MB 6.2 MB\/s eta 0:00:02\r\u001b[K     |█████████████▍                  | 6.3 MB 6.2 MB\/s eta 0:00:02\r\u001b[K     |█████████████▍                  | 6.3 MB 6.2 MB\/s eta 0:00:02\r\u001b[K     |█████████████▌                  | 6.3 MB 6.2 MB\/s eta 0:00:02\r\u001b[K     |█████████████▌                  | 6.4 MB 6.2 MB\/s eta 0:00:02\r\u001b[K     |█████████████▌                  | 6.4 MB 6.2 MB\/s eta 0:00:02\r\u001b[K     |█████████████▌                  | 6.4 MB 6.2 MB\/s eta 0:00:02\r\u001b[K     |█████████████▌                  | 6.4 MB 6.2 MB\/s eta 0:00:02\r\u001b[K     |█████████████▋                  | 6.4 MB 6.2 MB\/s eta 0:00:02\r\u001b[K     |█████████████▋                  | 6.4 MB 6.2 MB\/s eta 0:00:02\r\u001b[K     |█████████████▋                  | 6.4 MB 6.2 MB\/s eta 0:00:02\r\u001b[K     |█████████████▋                  | 6.4 MB 6.2 MB\/s eta 0:00:02\r\u001b[K     |█████████████▋                  | 6.4 MB 6.2 MB\/s eta 0:00:02\r\u001b[K     |█████████████▊                  | 6.5 MB 6.2 MB\/s eta 0:00:02\r\u001b[K     |█████████████▊                  | 6.5 MB 6.2 MB\/s eta 0:00:02\r\u001b[K     |█████████████▊                  | 6.5 MB 6.2 MB\/s eta 0:00:02\r\u001b[K     |█████████████▊                  | 6.5 MB 6.2 MB\/s eta 0:00:02\r\u001b[K     |█████████████▊                  | 6.5 MB 6.2 MB\/s eta 0:00:02\r\u001b[K     |█████████████▉                  | 6.5 MB 6.2 MB\/s eta 0:00:02\r\u001b[K     |█████████████▉                  | 6.5 MB 6.2 MB\/s eta 0:00:02\r\u001b[K     |█████████████▉                  | 6.5 MB 6.2 MB\/s eta 0:00:02\r\u001b[K     |█████████████▉                  | 6.5 MB 6.2 MB\/s eta 0:00:02\r\u001b[K     |█████████████▉                  | 6.5 MB 6.2 MB\/s eta 0:00:02\r\u001b[K     |██████████████                  | 6.6 MB 6.2 MB\/s eta 0:00:02\r\u001b[K     |██████████████                  | 6.6 MB 6.2 MB\/s eta 0:00:02\r\u001b[K     |██████████████                  | 6.6 MB 6.2 MB\/s eta 0:00:02\r\u001b[K     |██████████████                  | 6.6 MB 6.2 MB\/s eta 0:00:02\r\u001b[K     |██████████████                  | 6.6 MB 6.2 MB\/s eta 0:00:02\r\u001b[K     |██████████████                  | 6.6 MB 6.2 MB\/s eta 0:00:02\r\u001b[K     |██████████████                  | 6.6 MB 6.2 MB\/s eta 0:00:02\r\u001b[K     |██████████████                  | 6.6 MB 6.2 MB\/s eta 0:00:02\r\u001b[K     |██████████████                  | 6.6 MB 6.2 MB\/s eta 0:00:02\r\u001b[K     |██████████████                  | 6.6 MB 6.2 MB\/s eta 0:00:02\r\u001b[K     |██████████████                  | 6.7 MB 6.2 MB\/s eta 0:00:02\r\u001b[K     |██████████████▏                 | 6.7 MB 6.2 MB\/s eta 0:00:02\r\u001b[K     |██████████████▏                 | 6.7 MB 6.2 MB\/s eta 0:00:02\r\u001b[K     |██████████████▏                 | 6.7 MB 6.2 MB\/s eta 0:00:02\r\u001b[K     |██████████████▏                 | 6.7 MB 6.2 MB\/s eta 0:00:02\r\u001b[K     |██████████████▏                 | 6.7 MB 6.2 MB\/s eta 0:00:02\r\u001b[K     |██████████████▎                 | 6.7 MB 6.2 MB\/s eta 0:00:02\r\u001b[K     |██████████████▎                 | 6.7 MB 6.2 MB\/s eta 0:00:02\r\u001b[K     |██████████████▎                 | 6.7 MB 6.2 MB\/s eta 0:00:02\r\u001b[K     |██████████████▎                 | 6.7 MB 6.2 MB\/s eta 0:00:02\r\u001b[K     |██████████████▎                 | 6.8 MB 6.2 MB\/s eta 0:00:02\r\u001b[K     |██████████████▍                 | 6.8 MB 6.2 MB\/s eta 0:00:02\r\u001b[K     |██████████████▍                 | 6.8 MB 6.2 MB\/s eta 0:00:02\r\u001b[K     |██████████████▍                 | 6.8 MB 6.2 MB\/s eta 0:00:02\r\u001b[K     |██████████████▍                 | 6.8 MB 6.2 MB\/s eta 0:00:02\r\u001b[K     |██████████████▍                 | 6.8 MB 6.2 MB\/s eta 0:00:02\r\u001b[K     |██████████████▌                 | 6.8 MB 6.2 MB\/s eta 0:00:02\r\u001b[K     |██████████████▌                 | 6.8 MB 6.2 MB\/s eta 0:00:02\r\u001b[K     |██████████████▌                 | 6.8 MB 6.2 MB\/s eta 0:00:02\r\u001b[K     |██████████████▌                 | 6.9 MB 6.2 MB\/s eta 0:00:02\r\u001b[K     |██████████████▌                 | 6.9 MB 6.2 MB\/s eta 0:00:02\r\u001b[K     |██████████████▋                 | 6.9 MB 6.2 MB\/s eta 0:00:02\r\u001b[K     |██████████████▋                 | 6.9 MB 6.2 MB\/s eta 0:00:02\r\u001b[K     |██████████████▋                 | 6.9 MB 6.2 MB\/s eta 0:00:02\r\u001b[K     |██████████████▋                 | 6.9 MB 6.2 MB\/s eta 0:00:02\r\u001b[K     |██████████████▋                 | 6.9 MB 6.2 MB\/s eta 0:00:02\r\u001b[K     |██████████████▊                 | 6.9 MB 6.2 MB\/s eta 0:00:02\r\u001b[K     |██████████████▊                 | 6.9 MB 6.2 MB\/s eta 0:00:02\r\u001b[K     |██████████████▊                 | 6.9 MB 6.2 MB\/s eta 0:00:02\r\u001b[K     |██████████████▊                 | 7.0 MB 6.2 MB\/s eta 0:00:02\r\u001b[K     |██████████████▊                 | 7.0 MB 6.2 MB\/s eta 0:00:02\r\u001b[K     |██████████████▉                 | 7.0 MB 6.2 MB\/s eta 0:00:02\r\u001b[K     |██████████████▉                 | 7.0 MB 6.2 MB\/s eta 0:00:02\r\u001b[K     |██████████████▉                 | 7.0 MB 6.2 MB\/s eta 0:00:02\r\u001b[K     |██████████████▉                 | 7.0 MB 6.2 MB\/s eta 0:00:02\r\u001b[K     |██████████████▉                 | 7.0 MB 6.2 MB\/s eta 0:00:02\r\u001b[K     |███████████████                 | 7.0 MB 6.2 MB\/s eta 0:00:02\r\u001b[K     |███████████████                 | 7.0 MB 6.2 MB\/s eta 0:00:02\r\u001b[K     |███████████████                 | 7.0 MB 6.2 MB\/s eta 0:00:02\r\u001b[K     |███████████████                 | 7.1 MB 6.2 MB\/s eta 0:00:02\r\u001b[K     |███████████████                 | 7.1 MB 6.2 MB\/s eta 0:00:02\r\u001b[K     |███████████████                 | 7.1 MB 6.2 MB\/s eta 0:00:02\r\u001b[K     |███████████████                 | 7.1 MB 6.2 MB\/s eta 0:00:02\r\u001b[K     |███████████████                 | 7.1 MB 6.2 MB\/s eta 0:00:02\r\u001b[K     |███████████████                 | 7.1 MB 6.2 MB\/s eta 0:00:02\r\u001b[K     |███████████████                 | 7.1 MB 6.2 MB\/s eta 0:00:02\r\u001b[K     |███████████████                 | 7.1 MB 6.2 MB\/s eta 0:00:02\r\u001b[K     |███████████████▏                | 7.1 MB 6.2 MB\/s eta 0:00:02\r\u001b[K     |███████████████▏                | 7.1 MB 6.2 MB\/s eta 0:00:02\r\u001b[K     |███████████████▏                | 7.2 MB 6.2 MB\/s eta 0:00:02\r\u001b[K     |███████████████▏                | 7.2 MB 6.2 MB\/s eta 0:00:02\r\u001b[K     |███████████████▏                | 7.2 MB 6.2 MB\/s eta 0:00:02\r\u001b[K     |███████████████▎                | 7.2 MB 6.2 MB\/s eta 0:00:02\r\u001b[K     |███████████████▎                | 7.2 MB 6.2 MB\/s eta 0:00:02\r\u001b[K     |███████████████▎                | 7.2 MB 6.2 MB\/s eta 0:00:02\r\u001b[K     |███████████████▎                | 7.2 MB 6.2 MB\/s eta 0:00:02\r\u001b[K     |███████████████▎                | 7.2 MB 6.2 MB\/s eta 0:00:02\r\u001b[K     |███████████████▍                | 7.2 MB 6.2 MB\/s eta 0:00:02\r\u001b[K     |███████████████▍                | 7.2 MB 6.2 MB\/s eta 0:00:02\r\u001b[K     |███████████████▍                | 7.3 MB 6.2 MB\/s eta 0:00:02\r\u001b[K     |███████████████▍                | 7.3 MB 6.2 MB\/s eta 0:00:02\r\u001b[K     |███████████████▍                | 7.3 MB 6.2 MB\/s eta 0:00:02\r\u001b[K     |███████████████▌                | 7.3 MB 6.2 MB\/s eta 0:00:02\r\u001b[K     |███████████████▌                | 7.3 MB 6.2 MB\/s eta 0:00:02\r\u001b[K     |███████████████▌                | 7.3 MB 6.2 MB\/s eta 0:00:02\r\u001b[K     |███████████████▌                | 7.3 MB 6.2 MB\/s eta 0:00:02\r\u001b[K     |███████████████▌                | 7.3 MB 6.2 MB\/s eta 0:00:02\r\u001b[K     |███████████████▋                | 7.3 MB 6.2 MB\/s eta 0:00:02\r\u001b[K     |███████████████▋                | 7.4 MB 6.2 MB\/s eta 0:00:02\r\u001b[K     |███████████████▋                | 7.4 MB 6.2 MB\/s eta 0:00:02\r\u001b[K     |███████████████▋                | 7.4 MB 6.2 MB\/s eta 0:00:02\r\u001b[K     |███████████████▋                | 7.4 MB 6.2 MB\/s eta 0:00:02\r\u001b[K     |███████████████▊                | 7.4 MB 6.2 MB\/s eta 0:00:02\r\u001b[K     |███████████████▊                | 7.4 MB 6.2 MB\/s eta 0:00:02\r\u001b[K     |███████████████▊                | 7.4 MB 6.2 MB\/s eta 0:00:02\r\u001b[K     |███████████████▊                | 7.4 MB 6.2 MB\/s eta 0:00:02\r\u001b[K     |███████████████▊                | 7.4 MB 6.2 MB\/s eta 0:00:02\r\u001b[K     |███████████████▉                | 7.4 MB 6.2 MB\/s eta 0:00:02\r\u001b[K     |███████████████▉                | 7.5 MB 6.2 MB\/s eta 0:00:02\r\u001b[K     |███████████████▉                | 7.5 MB 6.2 MB\/s eta 0:00:02\r\u001b[K     |███████████████▉                | 7.5 MB 6.2 MB\/s eta 0:00:02\r\u001b[K     |███████████████▉                | 7.5 MB 6.2 MB\/s eta 0:00:02\r\u001b[K     |████████████████                | 7.5 MB 6.2 MB\/s eta 0:00:02\r\u001b[K     |████████████████                | 7.5 MB 6.2 MB\/s eta 0:00:02\r\u001b[K     |████████████████                | 7.5 MB 6.2 MB\/s eta 0:00:02\r\u001b[K     |████████████████                | 7.5 MB 6.2 MB\/s eta 0:00:02\r\u001b[K     |████████████████                | 7.5 MB 6.2 MB\/s eta 0:00:02\r\u001b[K     |████████████████                | 7.5 MB 6.2 MB\/s eta 0:00:02\r\u001b[K     |████████████████                | 7.6 MB 6.2 MB\/s eta 0:00:02\r\u001b[K     |████████████████                | 7.6 MB 6.2 MB\/s eta 0:00:02\r\u001b[K     |████████████████                | 7.6 MB 6.2 MB\/s eta 0:00:02\r\u001b[K     |████████████████                | 7.6 MB 6.2 MB\/s eta 0:00:02\r\u001b[K     |████████████████                | 7.6 MB 6.2 MB\/s eta 0:00:02\r\u001b[K     |████████████████▏               | 7.6 MB 6.2 MB\/s eta 0:00:02\r\u001b[K     |████████████████▏               | 7.6 MB 6.2 MB\/s eta 0:00:02\r\u001b[K     |████████████████▏               | 7.6 MB 6.2 MB\/s eta 0:00:02\r\u001b[K     |████████████████▏               | 7.6 MB 6.2 MB\/s eta 0:00:02\r\u001b[K     |████████████████▏               | 7.6 MB 6.2 MB\/s eta 0:00:02\r\u001b[K     |████████████████▎               | 7.7 MB 6.2 MB\/s eta 0:00:02\r\u001b[K     |████████████████▎               | 7.7 MB 6.2 MB\/s eta 0:00:02\r\u001b[K     |████████████████▎               | 7.7 MB 6.2 MB\/s eta 0:00:02\r\u001b[K     |████████████████▎               | 7.7 MB 6.2 MB\/s eta 0:00:02\r\u001b[K     |████████████████▎               | 7.7 MB 6.2 MB\/s eta 0:00:02\r\u001b[K     |████████████████▍               | 7.7 MB 6.2 MB\/s eta 0:00:02\r\u001b[K     |████████████████▍               | 7.7 MB 6.2 MB\/s eta 0:00:02\r\u001b[K     |████████████████▍               | 7.7 MB 6.2 MB\/s eta 0:00:02\r\u001b[K     |████████████████▍               | 7.7 MB 6.2 MB\/s eta 0:00:02\r\u001b[K     |████████████████▍               | 7.8 MB 6.2 MB\/s eta 0:00:02\r\u001b[K     |████████████████▌               | 7.8 MB 6.2 MB\/s eta 0:00:02\r\u001b[K     |████████████████▌               | 7.8 MB 6.2 MB\/s eta 0:00:02\r\u001b[K     |████████████████▌               | 7.8 MB 6.2 MB\/s eta 0:00:02\r\u001b[K     |████████████████▌               | 7.8 MB 6.2 MB\/s eta 0:00:02\r\u001b[K     |████████████████▌               | 7.8 MB 6.2 MB\/s eta 0:00:02\r\u001b[K     |████████████████▋               | 7.8 MB 6.2 MB\/s eta 0:00:02\r\u001b[K     |████████████████▋               | 7.8 MB 6.2 MB\/s eta 0:00:02\r\u001b[K     |████████████████▋               | 7.8 MB 6.2 MB\/s eta 0:00:02\r\u001b[K     |████████████████▋               | 7.8 MB 6.2 MB\/s eta 0:00:02\r\u001b[K     |████████████████▋               | 7.9 MB 6.2 MB\/s eta 0:00:02\r\u001b[K     |████████████████▊               | 7.9 MB 6.2 MB\/s eta 0:00:02\r\u001b[K     |████████████████▊               | 7.9 MB 6.2 MB\/s eta 0:00:02\r\u001b[K     |████████████████▊               | 7.9 MB 6.2 MB\/s eta 0:00:02\r\u001b[K     |████████████████▊               | 7.9 MB 6.2 MB\/s eta 0:00:02\r\u001b[K     |████████████████▊               | 7.9 MB 6.2 MB\/s eta 0:00:02\r\u001b[K     |████████████████▉               | 7.9 MB 6.2 MB\/s eta 0:00:02\r\u001b[K     |████████████████▉               | 7.9 MB 6.2 MB\/s eta 0:00:02\r\u001b[K     |████████████████▉               | 7.9 MB 6.2 MB\/s eta 0:00:02\r\u001b[K     |████████████████▉               | 7.9 MB 6.2 MB\/s eta 0:00:02\r\u001b[K     |████████████████▉               | 8.0 MB 6.2 MB\/s eta 0:00:02\r\u001b[K     |█████████████████               | 8.0 MB 6.2 MB\/s eta 0:00:02\r\u001b[K     |█████████████████               | 8.0 MB 6.2 MB\/s eta 0:00:02\r\u001b[K     |█████████████████               | 8.0 MB 6.2 MB\/s eta 0:00:02\r\u001b[K     |█████████████████               | 8.0 MB 6.2 MB\/s eta 0:00:02\r\u001b[K     |█████████████████               | 8.0 MB 6.2 MB\/s eta 0:00:02\r\u001b[K     |█████████████████               | 8.0 MB 6.2 MB\/s eta 0:00:02\r\u001b[K     |█████████████████               | 8.0 MB 6.2 MB\/s eta 0:00:02\r\u001b[K     |█████████████████               | 8.0 MB 6.2 MB\/s eta 0:00:02\r\u001b[K     |█████████████████               | 8.0 MB 6.2 MB\/s eta 0:00:02\r\u001b[K     |█████████████████               | 8.1 MB 6.2 MB\/s eta 0:00:02\r\u001b[K     |█████████████████               | 8.1 MB 6.2 MB\/s eta 0:00:02\r\u001b[K     |█████████████████▏              | 8.1 MB 6.2 MB\/s eta 0:00:02\r\u001b[K     |█████████████████▏              | 8.1 MB 6.2 MB\/s eta 0:00:02\r\u001b[K     |█████████████████▏              | 8.1 MB 6.2 MB\/s eta 0:00:02\r\u001b[K     |█████████████████▏              | 8.1 MB 6.2 MB\/s eta 0:00:02\r\u001b[K     |█████████████████▏              | 8.1 MB 6.2 MB\/s eta 0:00:02\r\u001b[K     |█████████████████▎              | 8.1 MB 6.2 MB\/s eta 0:00:02\r\u001b[K     |█████████████████▎              | 8.1 MB 6.2 MB\/s eta 0:00:02\r\u001b[K     |█████████████████▎              | 8.2 MB 6.2 MB\/s eta 0:00:02\r\u001b[K     |█████████████████▎              | 8.2 MB 6.2 MB\/s eta 0:00:02\r\u001b[K     |█████████████████▎              | 8.2 MB 6.2 MB\/s eta 0:00:02\r\u001b[K     |█████████████████▍              | 8.2 MB 6.2 MB\/s eta 0:00:02\r\u001b[K     |█████████████████▍              | 8.2 MB 6.2 MB\/s eta 0:00:02\r\u001b[K     |█████████████████▍              | 8.2 MB 6.2 MB\/s eta 0:00:02\r\u001b[K     |█████████████████▍              | 8.2 MB 6.2 MB\/s eta 0:00:02\r\u001b[K     |█████████████████▍              | 8.2 MB 6.2 MB\/s eta 0:00:02\r\u001b[K     |█████████████████▌              | 8.2 MB 6.2 MB\/s eta 0:00:02\r\u001b[K     |█████████████████▌              | 8.2 MB 6.2 MB\/s eta 0:00:02\r\u001b[K     |█████████████████▌              | 8.3 MB 6.2 MB\/s eta 0:00:02\r\u001b[K     |█████████████████▌              | 8.3 MB 6.2 MB\/s eta 0:00:02\r\u001b[K     |█████████████████▌              | 8.3 MB 6.2 MB\/s eta 0:00:02\r\u001b[K     |█████████████████▋              | 8.3 MB 6.2 MB\/s eta 0:00:02\r\u001b[K     |█████████████████▋              | 8.3 MB 6.2 MB\/s eta 0:00:02\r\u001b[K     |█████████████████▋              | 8.3 MB 6.2 MB\/s eta 0:00:02\r\u001b[K     |█████████████████▋              | 8.3 MB 6.2 MB\/s eta 0:00:02\r\u001b[K     |█████████████████▋              | 8.3 MB 6.2 MB\/s eta 0:00:02\r\u001b[K     |█████████████████▊              | 8.3 MB 6.2 MB\/s eta 0:00:02\r\u001b[K     |█████████████████▊              | 8.3 MB 6.2 MB\/s eta 0:00:02\r\u001b[K     |█████████████████▊              | 8.4 MB 6.2 MB\/s eta 0:00:02\r\u001b[K     |█████████████████▊              | 8.4 MB 6.2 MB\/s eta 0:00:02\r\u001b[K     |█████████████████▊              | 8.4 MB 6.2 MB\/s eta 0:00:02\r\u001b[K     |█████████████████▉              | 8.4 MB 6.2 MB\/s eta 0:00:02\r\u001b[K     |█████████████████▉              | 8.4 MB 6.2 MB\/s eta 0:00:02\r\u001b[K     |█████████████████▉              | 8.4 MB 6.2 MB\/s eta 0:00:02\r\u001b[K     |█████████████████▉              | 8.4 MB 6.2 MB\/s eta 0:00:02\r\u001b[K     |█████████████████▉              | 8.4 MB 6.2 MB\/s eta 0:00:02\r\u001b[K     |█████████████████▉              | 8.4 MB 6.2 MB\/s eta 0:00:02\r\u001b[K     |██████████████████              | 8.4 MB 6.2 MB\/s eta 0:00:02\r\u001b[K     |██████████████████              | 8.5 MB 6.2 MB\/s eta 0:00:02\r\u001b[K     |██████████████████              | 8.5 MB 6.2 MB\/s eta 0:00:02\r\u001b[K     |██████████████████              | 8.5 MB 6.2 MB\/s eta 0:00:02\r\u001b[K     |██████████████████              | 8.5 MB 6.2 MB\/s eta 0:00:02\r\u001b[K     |██████████████████              | 8.5 MB 6.2 MB\/s eta 0:00:02\r\u001b[K     |██████████████████              | 8.5 MB 6.2 MB\/s eta 0:00:02\r\u001b[K     |██████████████████              | 8.5 MB 6.2 MB\/s eta 0:00:02\r\u001b[K     |██████████████████              | 8.5 MB 6.2 MB\/s eta 0:00:02\r\u001b[K     |██████████████████              | 8.5 MB 6.2 MB\/s eta 0:00:02\r\u001b[K     |██████████████████▏             | 8.6 MB 6.2 MB\/s eta 0:00:02\r\u001b[K     |██████████████████▏             | 8.6 MB 6.2 MB\/s eta 0:00:02\r\u001b[K     |██████████████████▏             | 8.6 MB 6.2 MB\/s eta 0:00:02\r\u001b[K     |██████████████████▏             | 8.6 MB 6.2 MB\/s eta 0:00:02\r\u001b[K     |██████████████████▏             | 8.6 MB 6.2 MB\/s eta 0:00:02\r\u001b[K     |██████████████████▎             | 8.6 MB 6.2 MB\/s eta 0:00:02\r\u001b[K     |██████████████████▎             | 8.6 MB 6.2 MB\/s eta 0:00:02\r\u001b[K     |██████████████████▎             | 8.6 MB 6.2 MB\/s eta 0:00:02\r\u001b[K     |██████████████████▎             | 8.6 MB 6.2 MB\/s eta 0:00:02\r\u001b[K     |██████████████████▎             | 8.6 MB 6.2 MB\/s eta 0:00:02\r\u001b[K     |██████████████████▍             | 8.7 MB 6.2 MB\/s eta 0:00:02\r\u001b[K     |██████████████████▍             | 8.7 MB 6.2 MB\/s eta 0:00:02\r\u001b[K     |██████████████████▍             | 8.7 MB 6.2 MB\/s eta 0:00:02\r\u001b[K     |██████████████████▍             | 8.7 MB 6.2 MB\/s eta 0:00:02\r\u001b[K     |██████████████████▍             | 8.7 MB 6.2 MB\/s eta 0:00:02\r\u001b[K     |██████████████████▌             | 8.7 MB 6.2 MB\/s eta 0:00:02\r\u001b[K     |██████████████████▌             | 8.7 MB 6.2 MB\/s eta 0:00:02\r\u001b[K     |██████████████████▌             | 8.7 MB 6.2 MB\/s eta 0:00:02\r\u001b[K     |██████████████████▌             | 8.7 MB 6.2 MB\/s eta 0:00:02\r\u001b[K     |██████████████████▌             | 8.7 MB 6.2 MB\/s eta 0:00:02\r\u001b[K     |██████████████████▋             | 8.8 MB 6.2 MB\/s eta 0:00:02\r\u001b[K     |██████████████████▋             | 8.8 MB 6.2 MB\/s eta 0:00:02\r\u001b[K     |██████████████████▋             | 8.8 MB 6.2 MB\/s eta 0:00:02\r\u001b[K     |██████████████████▋             | 8.8 MB 6.2 MB\/s eta 0:00:02\r\u001b[K     |██████████████████▋             | 8.8 MB 6.2 MB\/s eta 0:00:02\r\u001b[K     |██████████████████▊             | 8.8 MB 6.2 MB\/s eta 0:00:02\r\u001b[K     |██████████████████▊             | 8.8 MB 6.2 MB\/s eta 0:00:02\r\u001b[K     |██████████████████▊             | 8.8 MB 6.2 MB\/s eta 0:00:02\r\u001b[K     |██████████████████▊             | 8.8 MB 6.2 MB\/s eta 0:00:02\r\u001b[K     |██████████████████▊             | 8.8 MB 6.2 MB\/s eta 0:00:02\r\u001b[K     |██████████████████▉             | 8.9 MB 6.2 MB\/s eta 0:00:01\r\u001b[K     |██████████████████▉             | 8.9 MB 6.2 MB\/s eta 0:00:01\r\u001b[K     |██████████████████▉             | 8.9 MB 6.2 MB\/s eta 0:00:01\r\u001b[K     |██████████████████▉             | 8.9 MB 6.2 MB\/s eta 0:00:01\r\u001b[K     |██████████████████▉             | 8.9 MB 6.2 MB\/s eta 0:00:01\r\u001b[K     |██████████████████▉             | 8.9 MB 6.2 MB\/s eta 0:00:01\r\u001b[K     |███████████████████             | 8.9 MB 6.2 MB\/s eta 0:00:01\r\u001b[K     |███████████████████             | 8.9 MB 6.2 MB\/s eta 0:00:01\r\u001b[K     |███████████████████             | 8.9 MB 6.2 MB\/s eta 0:00:01\r\u001b[K     |███████████████████             | 8.9 MB 6.2 MB\/s eta 0:00:01\r\u001b[K     |███████████████████             | 9.0 MB 6.2 MB\/s eta 0:00:01\r\u001b[K     |███████████████████             | 9.0 MB 6.2 MB\/s eta 0:00:01\r\u001b[K     |███████████████████             | 9.0 MB 6.2 MB\/s eta 0:00:01\r\u001b[K     |███████████████████             | 9.0 MB 6.2 MB\/s eta 0:00:01\r\u001b[K     |███████████████████             | 9.0 MB 6.2 MB\/s eta 0:00:01\r\u001b[K     |███████████████████             | 9.0 MB 6.2 MB\/s eta 0:00:01\r\u001b[K     |███████████████████▏            | 9.0 MB 6.2 MB\/s eta 0:00:01\r\u001b[K     |███████████████████▏            | 9.0 MB 6.2 MB\/s eta 0:00:01\r\u001b[K     |███████████████████▏            | 9.0 MB 6.2 MB\/s eta 0:00:01\r\u001b[K     |███████████████████▏            | 9.1 MB 6.2 MB\/s eta 0:00:01\r\u001b[K     |███████████████████▏            | 9.1 MB 6.2 MB\/s eta 0:00:01\r\u001b[K     |███████████████████▎            | 9.1 MB 6.2 MB\/s eta 0:00:01\r\u001b[K     |███████████████████▎            | 9.1 MB 6.2 MB\/s eta 0:00:01\r\u001b[K     |███████████████████▎            | 9.1 MB 6.2 MB\/s eta 0:00:01\r\u001b[K     |███████████████████▎            | 9.1 MB 6.2 MB\/s eta 0:00:01\r\u001b[K     |███████████████████▎            | 9.1 MB 6.2 MB\/s eta 0:00:01\r\u001b[K     |███████████████████▍            | 9.1 MB 6.2 MB\/s eta 0:00:01\r\u001b[K     |███████████████████▍            | 9.1 MB 6.2 MB\/s eta 0:00:01\r\u001b[K     |███████████████████▍            | 9.1 MB 6.2 MB\/s eta 0:00:01\r\u001b[K     |███████████████████▍            | 9.2 MB 6.2 MB\/s eta 0:00:01\r\u001b[K     |███████████████████▍            | 9.2 MB 6.2 MB\/s eta 0:00:01\r\u001b[K     |███████████████████▌            | 9.2 MB 6.2 MB\/s eta 0:00:01\r\u001b[K     |███████████████████▌            | 9.2 MB 6.2 MB\/s eta 0:00:01\r\u001b[K     |███████████████████▌            | 9.2 MB 6.2 MB\/s eta 0:00:01\r\u001b[K     |███████████████████▌            | 9.2 MB 6.2 MB\/s eta 0:00:01\r\u001b[K     |███████████████████▌            | 9.2 MB 6.2 MB\/s eta 0:00:01\r\u001b[K     |███████████████████▋            | 9.2 MB 6.2 MB\/s eta 0:00:01\r\u001b[K     |███████████████████▋            | 9.2 MB 6.2 MB\/s eta 0:00:01\r\u001b[K     |███████████████████▋            | 9.2 MB 6.2 MB\/s eta 0:00:01\r\u001b[K     |███████████████████▋            | 9.3 MB 6.2 MB\/s eta 0:00:01\r\u001b[K     |███████████████████▋            | 9.3 MB 6.2 MB\/s eta 0:00:01\r\u001b[K     |███████████████████▊            | 9.3 MB 6.2 MB\/s eta 0:00:01\r\u001b[K     |███████████████████▊            | 9.3 MB 6.2 MB\/s eta 0:00:01\r\u001b[K     |███████████████████▊            | 9.3 MB 6.2 MB\/s eta 0:00:01\r\u001b[K     |███████████████████▊            | 9.3 MB 6.2 MB\/s eta 0:00:01\r\u001b[K     |███████████████████▊            | 9.3 MB 6.2 MB\/s eta 0:00:01\r\u001b[K     |███████████████████▊            | 9.3 MB 6.2 MB\/s eta 0:00:01\r\u001b[K     |███████████████████▉            | 9.3 MB 6.2 MB\/s eta 0:00:01\r\u001b[K     |███████████████████▉            | 9.3 MB 6.2 MB\/s eta 0:00:01\r\u001b[K     |███████████████████▉            | 9.4 MB 6.2 MB\/s eta 0:00:01\r\u001b[K     |███████████████████▉            | 9.4 MB 6.2 MB\/s eta 0:00:01\r\u001b[K     |███████████████████▉            | 9.4 MB 6.2 MB\/s eta 0:00:01\r\u001b[K     |████████████████████            | 9.4 MB 6.2 MB\/s eta 0:00:01\r\u001b[K     |████████████████████            | 9.4 MB 6.2 MB\/s eta 0:00:01\r\u001b[K     |████████████████████            | 9.4 MB 6.2 MB\/s eta 0:00:01\r\u001b[K     |████████████████████            | 9.4 MB 6.2 MB\/s eta 0:00:01\r\u001b[K     |████████████████████            | 9.4 MB 6.2 MB\/s eta 0:00:01\r\u001b[K     |████████████████████            | 9.4 MB 6.2 MB\/s eta 0:00:01\r\u001b[K     |████████████████████            | 9.5 MB 6.2 MB\/s eta 0:00:01\r\u001b[K     |████████████████████            | 9.5 MB 6.2 MB\/s eta 0:00:01\r\u001b[K     |████████████████████            | 9.5 MB 6.2 MB\/s eta 0:00:01\r\u001b[K     |████████████████████            | 9.5 MB 6.2 MB\/s eta 0:00:01\r\u001b[K     |████████████████████▏           | 9.5 MB 6.2 MB\/s eta 0:00:01\r\u001b[K     |████████████████████▏           | 9.5 MB 6.2 MB\/s eta 0:00:01\r\u001b[K     |████████████████████▏           | 9.5 MB 6.2 MB\/s eta 0:00:01\r\u001b[K     |████████████████████▏           | 9.5 MB 6.2 MB\/s eta 0:00:01\r\u001b[K     |████████████████████▏           | 9.5 MB 6.2 MB\/s eta 0:00:01\r\u001b[K     |████████████████████▎           | 9.5 MB 6.2 MB\/s eta 0:00:01\r\u001b[K     |████████████████████▎           | 9.6 MB 6.2 MB\/s eta 0:00:01\r\u001b[K     |████████████████████▎           | 9.6 MB 6.2 MB\/s eta 0:00:01\r\u001b[K     |████████████████████▎           | 9.6 MB 6.2 MB\/s eta 0:00:01\r\u001b[K     |████████████████████▎           | 9.6 MB 6.2 MB\/s eta 0:00:01\r\u001b[K     |████████████████████▍           | 9.6 MB 6.2 MB\/s eta 0:00:01\r\u001b[K     |████████████████████▍           | 9.6 MB 6.2 MB\/s eta 0:00:01\r\u001b[K     |████████████████████▍           | 9.6 MB 6.2 MB\/s eta 0:00:01\r\u001b[K     |████████████████████▍           | 9.6 MB 6.2 MB\/s eta 0:00:01\r\u001b[K     |████████████████████▍           | 9.6 MB 6.2 MB\/s eta 0:00:01\r\u001b[K     |████████████████████▌           | 9.6 MB 6.2 MB\/s eta 0:00:01\r\u001b[K     |████████████████████▌           | 9.7 MB 6.2 MB\/s eta 0:00:01\r\u001b[K     |████████████████████▌           | 9.7 MB 6.2 MB\/s eta 0:00:01\r\u001b[K     |████████████████████▌           | 9.7 MB 6.2 MB\/s eta 0:00:01\r\u001b[K     |████████████████████▌           | 9.7 MB 6.2 MB\/s eta 0:00:01\r\u001b[K     |████████████████████▋           | 9.7 MB 6.2 MB\/s eta 0:00:01\r\u001b[K     |████████████████████▋           | 9.7 MB 6.2 MB\/s eta 0:00:01\r\u001b[K     |████████████████████▋           | 9.7 MB 6.2 MB\/s eta 0:00:01\r\u001b[K     |████████████████████▋           | 9.7 MB 6.2 MB\/s eta 0:00:01\r\u001b[K     |████████████████████▋           | 9.7 MB 6.2 MB\/s eta 0:00:01\r\u001b[K     |████████████████████▋           | 9.7 MB 6.2 MB\/s eta 0:00:01\r\u001b[K     |████████████████████▊           | 9.8 MB 6.2 MB\/s eta 0:00:01\r\u001b[K     |████████████████████▊           | 9.8 MB 6.2 MB\/s eta 0:00:01\r\u001b[K     |████████████████████▊           | 9.8 MB 6.2 MB\/s eta 0:00:01\r\u001b[K     |████████████████████▊           | 9.8 MB 6.2 MB\/s eta 0:00:01\r\u001b[K     |████████████████████▊           | 9.8 MB 6.2 MB\/s eta 0:00:01\r\u001b[K     |████████████████████▉           | 9.8 MB 6.2 MB\/s eta 0:00:01\r\u001b[K     |████████████████████▉           | 9.8 MB 6.2 MB\/s eta 0:00:01\r\u001b[K     |████████████████████▉           | 9.8 MB 6.2 MB\/s eta 0:00:01\r\u001b[K     |████████████████████▉           | 9.8 MB 6.2 MB\/s eta 0:00:01\r\u001b[K     |████████████████████▉           | 9.9 MB 6.2 MB\/s eta 0:00:01\r\u001b[K     |█████████████████████           | 9.9 MB 6.2 MB\/s eta 0:00:01\r\u001b[K     |█████████████████████           | 9.9 MB 6.2 MB\/s eta 0:00:01\r\u001b[K     |█████████████████████           | 9.9 MB 6.2 MB\/s eta 0:00:01\r\u001b[K     |█████████████████████           | 9.9 MB 6.2 MB\/s eta 0:00:01\r\u001b[K     |█████████████████████           | 9.9 MB 6.2 MB\/s eta 0:00:01\r\u001b[K     |█████████████████████           | 9.9 MB 6.2 MB\/s eta 0:00:01\r\u001b[K     |█████████████████████           | 9.9 MB 6.2 MB\/s eta 0:00:01\r\u001b[K     |█████████████████████           | 9.9 MB 6.2 MB\/s eta 0:00:01\r\u001b[K     |█████████████████████           | 9.9 MB 6.2 MB\/s eta 0:00:01\r\u001b[K     |█████████████████████           | 10.0 MB 6.2 MB\/s eta 0:00:01\r\u001b[K     |█████████████████████▏          | 10.0 MB 6.2 MB\/s eta 0:00:01\r\u001b[K     |█████████████████████▏          | 10.0 MB 6.2 MB\/s eta 0:00:01\r\u001b[K     |█████████████████████▏          | 10.0 MB 6.2 MB\/s eta 0:00:01\r\u001b[K     |█████████████████████▏          | 10.0 MB 6.2 MB\/s eta 0:00:01\r\u001b[K     |█████████████████████▏          | 10.0 MB 6.2 MB\/s eta 0:00:01\r\u001b[K     |█████████████████████▎          | 10.0 MB 6.2 MB\/s eta 0:00:01\r\u001b[K     |█████████████████████▎          | 10.0 MB 6.2 MB\/s eta 0:00:01\r\u001b[K     |█████████████████████▎          | 10.0 MB 6.2 MB\/s eta 0:00:01\r\u001b[K     |█████████████████████▎          | 10.0 MB 6.2 MB\/s eta 0:00:01\r\u001b[K     |█████████████████████▎          | 10.1 MB 6.2 MB\/s eta 0:00:01\r\u001b[K     |█████████████████████▍          | 10.1 MB 6.2 MB\/s eta 0:00:01\r\u001b[K     |█████████████████████▍          | 10.1 MB 6.2 MB\/s eta 0:00:01\r\u001b[K     |█████████████████████▍          | 10.1 MB 6.2 MB\/s eta 0:00:01\r\u001b[K     |█████████████████████▍          | 10.1 MB 6.2 MB\/s eta 0:00:01\r\u001b[K     |█████████████████████▍          | 10.1 MB 6.2 MB\/s eta 0:00:01\r\u001b[K     |█████████████████████▌          | 10.1 MB 6.2 MB\/s eta 0:00:01\r\u001b[K     |█████████████████████▌          | 10.1 MB 6.2 MB\/s eta 0:00:01\r\u001b[K     |█████████████████████▌          | 10.1 MB 6.2 MB\/s eta 0:00:01\r\u001b[K     |█████████████████████▌          | 10.1 MB 6.2 MB\/s eta 0:00:01\r\u001b[K     |█████████████████████▌          | 10.2 MB 6.2 MB\/s eta 0:00:01\r\u001b[K     |█████████████████████▋          | 10.2 MB 6.2 MB\/s eta 0:00:01\r\u001b[K     |█████████████████████▋          | 10.2 MB 6.2 MB\/s eta 0:00:01\r\u001b[K     |█████████████████████▋          | 10.2 MB 6.2 MB\/s eta 0:00:01\r\u001b[K     |█████████████████████▋          | 10.2 MB 6.2 MB\/s eta 0:00:01\r\u001b[K     |█████████████████████▋          | 10.2 MB 6.2 MB\/s eta 0:00:01\r\u001b[K     |█████████████████████▋          | 10.2 MB 6.2 MB\/s eta 0:00:01\r\u001b[K     |█████████████████████▊          | 10.2 MB 6.2 MB\/s eta 0:00:01\r\u001b[K     |█████████████████████▊          | 10.2 MB 6.2 MB\/s eta 0:00:01\r\u001b[K     |█████████████████████▊          | 10.3 MB 6.2 MB\/s eta 0:00:01\r\u001b[K     |█████████████████████▊          | 10.3 MB 6.2 MB\/s eta 0:00:01\r\u001b[K     |█████████████████████▊          | 10.3 MB 6.2 MB\/s eta 0:00:01\r\u001b[K     |█████████████████████▉          | 10.3 MB 6.2 MB\/s eta 0:00:01\r\u001b[K     |█████████████████████▉          | 10.3 MB 6.2 MB\/s eta 0:00:01\r\u001b[K     |█████████████████████▉          | 10.3 MB 6.2 MB\/s eta 0:00:01\r\u001b[K     |█████████████████████▉          | 10.3 MB 6.2 MB\/s eta 0:00:01\r\u001b[K     |█████████████████████▉          | 10.3 MB 6.2 MB\/s eta 0:00:01\r\u001b[K     |██████████████████████          | 10.3 MB 6.2 MB\/s eta 0:00:01\r\u001b[K     |██████████████████████          | 10.3 MB 6.2 MB\/s eta 0:00:01\r\u001b[K     |██████████████████████          | 10.4 MB 6.2 MB\/s eta 0:00:01\r\u001b[K     |██████████████████████          | 10.4 MB 6.2 MB\/s eta 0:00:01\r\u001b[K     |██████████████████████          | 10.4 MB 6.2 MB\/s eta 0:00:01\r\u001b[K     |██████████████████████          | 10.4 MB 6.2 MB\/s eta 0:00:01\r\u001b[K     |██████████████████████          | 10.4 MB 6.2 MB\/s eta 0:00:01\r\u001b[K     |██████████████████████          | 10.4 MB 6.2 MB\/s eta 0:00:01\r\u001b[K     |██████████████████████          | 10.4 MB 6.2 MB\/s eta 0:00:01\r\u001b[K     |██████████████████████          | 10.4 MB 6.2 MB\/s eta 0:00:01\r\u001b[K     |██████████████████████▏         | 10.4 MB 6.2 MB\/s eta 0:00:01\r\u001b[K     |██████████████████████▏         | 10.4 MB 6.2 MB\/s eta 0:00:01\r\u001b[K     |██████████████████████▏         | 10.5 MB 6.2 MB\/s eta 0:00:01\r\u001b[K     |██████████████████████▏         | 10.5 MB 6.2 MB\/s eta 0:00:01\r\u001b[K     |██████████████████████▏         | 10.5 MB 6.2 MB\/s eta 0:00:01\r\u001b[K     |██████████████████████▎         | 10.5 MB 6.2 MB\/s eta 0:00:01\r\u001b[K     |██████████████████████▎         | 10.5 MB 6.2 MB\/s eta 0:00:01\r\u001b[K     |██████████████████████▎         | 10.5 MB 6.2 MB\/s eta 0:00:01\r\u001b[K     |██████████████████████▎         | 10.5 MB 6.2 MB\/s eta 0:00:01\r\u001b[K     |██████████████████████▎         | 10.5 MB 6.2 MB\/s eta 0:00:01\r\u001b[K     |██████████████████████▍         | 10.5 MB 6.2 MB\/s eta 0:00:01\r\u001b[K     |██████████████████████▍         | 10.5 MB 6.2 MB\/s eta 0:00:01\r\u001b[K     |██████████████████████▍         | 10.6 MB 6.2 MB\/s eta 0:00:01\r\u001b[K     |██████████████████████▍         | 10.6 MB 6.2 MB\/s eta 0:00:01\r\u001b[K     |██████████████████████▍         | 10.6 MB 6.2 MB\/s eta 0:00:01\r\u001b[K     |██████████████████████▌         | 10.6 MB 6.2 MB\/s eta 0:00:01\r\u001b[K     |██████████████████████▌         | 10.6 MB 6.2 MB\/s eta 0:00:01\r\u001b[K     |██████████████████████▌         | 10.6 MB 6.2 MB\/s eta 0:00:01\r\u001b[K     |██████████████████████▌         | 10.6 MB 6.2 MB\/s eta 0:00:01\r\u001b[K     |██████████████████████▌         | 10.6 MB 6.2 MB\/s eta 0:00:01\r\u001b[K     |██████████████████████▌         | 10.6 MB 6.2 MB\/s eta 0:00:01\r\u001b[K     |██████████████████████▋         | 10.6 MB 6.2 MB\/s eta 0:00:01\r\u001b[K     |██████████████████████▋         | 10.7 MB 6.2 MB\/s eta 0:00:01\r\u001b[K     |██████████████████████▋         | 10.7 MB 6.2 MB\/s eta 0:00:01\r\u001b[K     |██████████████████████▋         | 10.7 MB 6.2 MB\/s eta 0:00:01\r\u001b[K     |██████████████████████▋         | 10.7 MB 6.2 MB\/s eta 0:00:01\r\u001b[K     |██████████████████████▊         | 10.7 MB 6.2 MB\/s eta 0:00:01\r\u001b[K     |██████████████████████▊         | 10.7 MB 6.2 MB\/s eta 0:00:01\r\u001b[K     |██████████████████████▊         | 10.7 MB 6.2 MB\/s eta 0:00:01\r\u001b[K     |██████████████████████▊         | 10.7 MB 6.2 MB\/s eta 0:00:01\r\u001b[K     |██████████████████████▊         | 10.7 MB 6.2 MB\/s eta 0:00:01\r\u001b[K     |██████████████████████▉         | 10.8 MB 6.2 MB\/s eta 0:00:01\r\u001b[K     |██████████████████████▉         | 10.8 MB 6.2 MB\/s eta 0:00:01\r\u001b[K     |██████████████████████▉         | 10.8 MB 6.2 MB\/s eta 0:00:01\r\u001b[K     |██████████████████████▉         | 10.8 MB 6.2 MB\/s eta 0:00:01\r\u001b[K     |██████████████████████▉         | 10.8 MB 6.2 MB\/s eta 0:00:01\r\u001b[K     |███████████████████████         | 10.8 MB 6.2 MB\/s eta 0:00:01\r\u001b[K     |███████████████████████         | 10.8 MB 6.2 MB\/s eta 0:00:01\r\u001b[K     |███████████████████████         | 10.8 MB 6.2 MB\/s eta 0:00:01\r\u001b[K     |███████████████████████         | 10.8 MB 6.2 MB\/s eta 0:00:01\r\u001b[K     |███████████████████████         | 10.8 MB 6.2 MB\/s eta 0:00:01\r\u001b[K     |███████████████████████         | 10.9 MB 6.2 MB\/s eta 0:00:01\r\u001b[K     |███████████████████████         | 10.9 MB 6.2 MB\/s eta 0:00:01\r\u001b[K     |███████████████████████         | 10.9 MB 6.2 MB\/s eta 0:00:01\r\u001b[K     |███████████████████████         | 10.9 MB 6.2 MB\/s eta 0:00:01\r\u001b[K     |███████████████████████         | 10.9 MB 6.2 MB\/s eta 0:00:01\r\u001b[K     |███████████████████████▏        | 10.9 MB 6.2 MB\/s eta 0:00:01\r\u001b[K     |███████████████████████▏        | 10.9 MB 6.2 MB\/s eta 0:00:01\r\u001b[K     |███████████████████████▏        | 10.9 MB 6.2 MB\/s eta 0:00:01\r\u001b[K     |███████████████████████▏        | 10.9 MB 6.2 MB\/s eta 0:00:01\r\u001b[K     |███████████████████████▏        | 10.9 MB 6.2 MB\/s eta 0:00:01\r\u001b[K     |███████████████████████▎        | 11.0 MB 6.2 MB\/s eta 0:00:01\r\u001b[K     |███████████████████████▎        | 11.0 MB 6.2 MB\/s eta 0:00:01\r\u001b[K     |███████████████████████▎        | 11.0 MB 6.2 MB\/s eta 0:00:01\r\u001b[K     |███████████████████████▎        | 11.0 MB 6.2 MB\/s eta 0:00:01\r\u001b[K     |███████████████████████▎        | 11.0 MB 6.2 MB\/s eta 0:00:01\r\u001b[K     |███████████████████████▍        | 11.0 MB 6.2 MB\/s eta 0:00:01\r\u001b[K     |███████████████████████▍        | 11.0 MB 6.2 MB\/s eta 0:00:01\r\u001b[K     |███████████████████████▍        | 11.0 MB 6.2 MB\/s eta 0:00:01\r\u001b[K     |███████████████████████▍        | 11.0 MB 6.2 MB\/s eta 0:00:01\r\u001b[K     |███████████████████████▍        | 11.0 MB 6.2 MB\/s eta 0:00:01\r\u001b[K     |███████████████████████▌        | 11.1 MB 6.2 MB\/s eta 0:00:01\r\u001b[K     |███████████████████████▌        | 11.1 MB 6.2 MB\/s eta 0:00:01\r\u001b[K     |███████████████████████▌        | 11.1 MB 6.2 MB\/s eta 0:00:01\r\u001b[K     |███████████████████████▌        | 11.1 MB 6.2 MB\/s eta 0:00:01\r\u001b[K     |███████████████████████▌        | 11.1 MB 6.2 MB\/s eta 0:00:01\r\u001b[K     |███████████████████████▌        | 11.1 MB 6.2 MB\/s eta 0:00:01\r\u001b[K     |███████████████████████▋        | 11.1 MB 6.2 MB\/s eta 0:00:01\r\u001b[K     |███████████████████████▋        | 11.1 MB 6.2 MB\/s eta 0:00:01\r\u001b[K     |███████████████████████▋        | 11.1 MB 6.2 MB\/s eta 0:00:01\r\u001b[K     |███████████████████████▋        | 11.2 MB 6.2 MB\/s eta 0:00:01\r\u001b[K     |███████████████████████▋        | 11.2 MB 6.2 MB\/s eta 0:00:01\r\u001b[K     |███████████████████████▊        | 11.2 MB 6.2 MB\/s eta 0:00:01\r\u001b[K     |███████████████████████▊        | 11.2 MB 6.2 MB\/s eta 0:00:01\r\u001b[K     |███████████████████████▊        | 11.2 MB 6.2 MB\/s eta 0:00:01\r\u001b[K     |███████████████████████▊        | 11.2 MB 6.2 MB\/s eta 0:00:01\r\u001b[K     |███████████████████████▊        | 11.2 MB 6.2 MB\/s eta 0:00:01\r\u001b[K     |███████████████████████▉        | 11.2 MB 6.2 MB\/s eta 0:00:01\r\u001b[K     |███████████████████████▉        | 11.2 MB 6.2 MB\/s eta 0:00:01\r\u001b[K     |███████████████████████▉        | 11.2 MB 6.2 MB\/s eta 0:00:01\r\u001b[K     |███████████████████████▉        | 11.3 MB 6.2 MB\/s eta 0:00:01\r\u001b[K     |███████████████████████▉        | 11.3 MB 6.2 MB\/s eta 0:00:01\r\u001b[K     |████████████████████████        | 11.3 MB 6.2 MB\/s eta 0:00:01\r\u001b[K     |████████████████████████        | 11.3 MB 6.2 MB\/s eta 0:00:01\r\u001b[K     |████████████████████████        | 11.3 MB 6.2 MB\/s eta 0:00:01\r\u001b[K     |████████████████████████        | 11.3 MB 6.2 MB\/s eta 0:00:01\r\u001b[K     |████████████████████████        | 11.3 MB 6.2 MB\/s eta 0:00:01\r\u001b[K     |████████████████████████        | 11.3 MB 6.2 MB\/s eta 0:00:01\r\u001b[K     |████████████████████████        | 11.3 MB 6.2 MB\/s eta 0:00:01\r\u001b[K     |████████████████████████        | 11.3 MB 6.2 MB\/s eta 0:00:01\r\u001b[K     |████████████████████████        | 11.4 MB 6.2 MB\/s eta 0:00:01\r\u001b[K     |████████████████████████        | 11.4 MB 6.2 MB\/s eta 0:00:01\r\u001b[K     |████████████████████████▏       | 11.4 MB 6.2 MB\/s eta 0:00:01\r\u001b[K     |████████████████████████▏       | 11.4 MB 6.2 MB\/s eta 0:00:01\r\u001b[K     |████████████████████████▏       | 11.4 MB 6.2 MB\/s eta 0:00:01\r\u001b[K     |████████████████████████▏       | 11.4 MB 6.2 MB\/s eta 0:00:01\r\u001b[K     |████████████████████████▏       | 11.4 MB 6.2 MB\/s eta 0:00:01\r\u001b[K     |████████████████████████▎       | 11.4 MB 6.2 MB\/s eta 0:00:01\r\u001b[K     |████████████████████████▎       | 11.4 MB 6.2 MB\/s eta 0:00:01\r\u001b[K     |████████████████████████▎       | 11.4 MB 6.2 MB\/s eta 0:00:01\r\u001b[K     |████████████████████████▎       | 11.5 MB 6.2 MB\/s eta 0:00:01\r\u001b[K     |████████████████████████▎       | 11.5 MB 6.2 MB\/s eta 0:00:01\r\u001b[K     |████████████████████████▍       | 11.5 MB 6.2 MB\/s eta 0:00:01\r\u001b[K     |████████████████████████▍       | 11.5 MB 6.2 MB\/s eta 0:00:01\r\u001b[K     |████████████████████████▍       | 11.5 MB 6.2 MB\/s eta 0:00:01\r\u001b[K     |████████████████████████▍       | 11.5 MB 6.2 MB\/s eta 0:00:01\r\u001b[K     |████████████████████████▍       | 11.5 MB 6.2 MB\/s eta 0:00:01\r\u001b[K     |████████████████████████▍       | 11.5 MB 6.2 MB\/s eta 0:00:01\r\u001b[K     |████████████████████████▌       | 11.5 MB 6.2 MB\/s eta 0:00:01\r\u001b[K     |████████████████████████▌       | 11.6 MB 6.2 MB\/s eta 0:00:01\r\u001b[K     |████████████████████████▌       | 11.6 MB 6.2 MB\/s eta 0:00:01\r\u001b[K     |████████████████████████▌       | 11.6 MB 6.2 MB\/s eta 0:00:01\r\u001b[K     |████████████████████████▌       | 11.6 MB 6.2 MB\/s eta 0:00:01\r\u001b[K     |████████████████████████▋       | 11.6 MB 6.2 MB\/s eta 0:00:01\r\u001b[K     |████████████████████████▋       | 11.6 MB 6.2 MB\/s eta 0:00:01\r\u001b[K     |████████████████████████▋       | 11.6 MB 6.2 MB\/s eta 0:00:01\r\u001b[K     |████████████████████████▋       | 11.6 MB 6.2 MB\/s eta 0:00:01\r\u001b[K     |████████████████████████▋       | 11.6 MB 6.2 MB\/s eta 0:00:01\r\u001b[K     |████████████████████████▊       | 11.6 MB 6.2 MB\/s eta 0:00:01\r\u001b[K     |████████████████████████▊       | 11.7 MB 6.2 MB\/s eta 0:00:01\r\u001b[K     |████████████████████████▊       | 11.7 MB 6.2 MB\/s eta 0:00:01\r\u001b[K     |████████████████████████▊       | 11.7 MB 6.2 MB\/s eta 0:00:01\r\u001b[K     |████████████████████████▊       | 11.7 MB 6.2 MB\/s eta 0:00:01\r\u001b[K     |████████████████████████▉       | 11.7 MB 6.2 MB\/s eta 0:00:01\r\u001b[K     |████████████████████████▉       | 11.7 MB 6.2 MB\/s eta 0:00:01\r\u001b[K     |████████████████████████▉       | 11.7 MB 6.2 MB\/s eta 0:00:01\r\u001b[K     |████████████████████████▉       | 11.7 MB 6.2 MB\/s eta 0:00:01\r\u001b[K     |████████████████████████▉       | 11.7 MB 6.2 MB\/s eta 0:00:01\r\u001b[K     |█████████████████████████       | 11.7 MB 6.2 MB\/s eta 0:00:01\r\u001b[K     |█████████████████████████       | 11.8 MB 6.2 MB\/s eta 0:00:01\r\u001b[K     |█████████████████████████       | 11.8 MB 6.2 MB\/s eta 0:00:01\r\u001b[K     |█████████████████████████       | 11.8 MB 6.2 MB\/s eta 0:00:01\r\u001b[K     |█████████████████████████       | 11.8 MB 6.2 MB\/s eta 0:00:01\r\u001b[K     |█████████████████████████       | 11.8 MB 6.2 MB\/s eta 0:00:01\r\u001b[K     |█████████████████████████       | 11.8 MB 6.2 MB\/s eta 0:00:01\r\u001b[K     |█████████████████████████       | 11.8 MB 6.2 MB\/s eta 0:00:01\r\u001b[K     |█████████████████████████       | 11.8 MB 6.2 MB\/s eta 0:00:01\r\u001b[K     |█████████████████████████       | 11.8 MB 6.2 MB\/s eta 0:00:01\r\u001b[K     |█████████████████████████▏      | 11.8 MB 6.2 MB\/s eta 0:00:01\r\u001b[K     |█████████████████████████▏      | 11.9 MB 6.2 MB\/s eta 0:00:01\r\u001b[K     |█████████████████████████▏      | 11.9 MB 6.2 MB\/s eta 0:00:01\r\u001b[K     |█████████████████████████▏      | 11.9 MB 6.2 MB\/s eta 0:00:01\r\u001b[K     |█████████████████████████▏      | 11.9 MB 6.2 MB\/s eta 0:00:01\r\u001b[K     |█████████████████████████▎      | 11.9 MB 6.2 MB\/s eta 0:00:01\r\u001b[K     |█████████████████████████▎      | 11.9 MB 6.2 MB\/s eta 0:00:01\r\u001b[K     |█████████████████████████▎      | 11.9 MB 6.2 MB\/s eta 0:00:01\r\u001b[K     |█████████████████████████▎      | 11.9 MB 6.2 MB\/s eta 0:00:01\r\u001b[K     |█████████████████████████▎      | 11.9 MB 6.2 MB\/s eta 0:00:01\r\u001b[K     |█████████████████████████▍      | 12.0 MB 6.2 MB\/s eta 0:00:01\r\u001b[K     |█████████████████████████▍      | 12.0 MB 6.2 MB\/s eta 0:00:01\r\u001b[K     |█████████████████████████▍      | 12.0 MB 6.2 MB\/s eta 0:00:01\r\u001b[K     |█████████████████████████▍      | 12.0 MB 6.2 MB\/s eta 0:00:01\r\u001b[K     |█████████████████████████▍      | 12.0 MB 6.2 MB\/s eta 0:00:01\r\u001b[K     |█████████████████████████▍      | 12.0 MB 6.2 MB\/s eta 0:00:01\r\u001b[K     |█████████████████████████▌      | 12.0 MB 6.2 MB\/s eta 0:00:01\r\u001b[K     |█████████████████████████▌      | 12.0 MB 6.2 MB\/s eta 0:00:01\r\u001b[K     |█████████████████████████▌      | 12.0 MB 6.2 MB\/s eta 0:00:01\r\u001b[K     |█████████████████████████▌      | 12.0 MB 6.2 MB\/s eta 0:00:01\r\u001b[K     |█████████████████████████▌      | 12.1 MB 6.2 MB\/s eta 0:00:01\r\u001b[K     |█████████████████████████▋      | 12.1 MB 6.2 MB\/s eta 0:00:01\r\u001b[K     |█████████████████████████▋      | 12.1 MB 6.2 MB\/s eta 0:00:01\r\u001b[K     |█████████████████████████▋      | 12.1 MB 6.2 MB\/s eta 0:00:01\r\u001b[K     |█████████████████████████▋      | 12.1 MB 6.2 MB\/s eta 0:00:01\r\u001b[K     |█████████████████████████▋      | 12.1 MB 6.2 MB\/s eta 0:00:01\r\u001b[K     |█████████████████████████▊      | 12.1 MB 6.2 MB\/s eta 0:00:01\r\u001b[K     |█████████████████████████▊      | 12.1 MB 6.2 MB\/s eta 0:00:01\r\u001b[K     |█████████████████████████▊      | 12.1 MB 6.2 MB\/s eta 0:00:01\r\u001b[K     |█████████████████████████▊      | 12.1 MB 6.2 MB\/s eta 0:00:01\r\u001b[K     |█████████████████████████▊      | 12.2 MB 6.2 MB\/s eta 0:00:01\r\u001b[K     |█████████████████████████▉      | 12.2 MB 6.2 MB\/s eta 0:00:01\r\u001b[K     |█████████████████████████▉      | 12.2 MB 6.2 MB\/s eta 0:00:01\r\u001b[K     |█████████████████████████▉      | 12.2 MB 6.2 MB\/s eta 0:00:01\r\u001b[K     |█████████████████████████▉      | 12.2 MB 6.2 MB\/s eta 0:00:01\r\u001b[K     |█████████████████████████▉      | 12.2 MB 6.2 MB\/s eta 0:00:01\r\u001b[K     |██████████████████████████      | 12.2 MB 6.2 MB\/s eta 0:00:01\r\u001b[K     |██████████████████████████      | 12.2 MB 6.2 MB\/s eta 0:00:01\r\u001b[K     |██████████████████████████      | 12.2 MB 6.2 MB\/s eta 0:00:01\r\u001b[K     |██████████████████████████      | 12.2 MB 6.2 MB\/s eta 0:00:01\r\u001b[K     |██████████████████████████      | 12.3 MB 6.2 MB\/s eta 0:00:01\r\u001b[K     |██████████████████████████      | 12.3 MB 6.2 MB\/s eta 0:00:01\r\u001b[K     |██████████████████████████      | 12.3 MB 6.2 MB\/s eta 0:00:01\r\u001b[K     |██████████████████████████      | 12.3 MB 6.2 MB\/s eta 0:00:01\r\u001b[K     |██████████████████████████      | 12.3 MB 6.2 MB\/s eta 0:00:01\r\u001b[K     |██████████████████████████      | 12.3 MB 6.2 MB\/s eta 0:00:01\r\u001b[K     |██████████████████████████▏     | 12.3 MB 6.2 MB\/s eta 0:00:01\r\u001b[K     |██████████████████████████▏     | 12.3 MB 6.2 MB\/s eta 0:00:01\r\u001b[K     |██████████████████████████▏     | 12.3 MB 6.2 MB\/s eta 0:00:01\r\u001b[K     |██████████████████████████▏     | 12.3 MB 6.2 MB\/s eta 0:00:01\r\u001b[K     |██████████████████████████▏     | 12.4 MB 6.2 MB\/s eta 0:00:01\r\u001b[K     |██████████████████████████▎     | 12.4 MB 6.2 MB\/s eta 0:00:01\r\u001b[K     |██████████████████████████▎     | 12.4 MB 6.2 MB\/s eta 0:00:01\r\u001b[K     |██████████████████████████▎     | 12.4 MB 6.2 MB\/s eta 0:00:01\r\u001b[K     |██████████████████████████▎     | 12.4 MB 6.2 MB\/s eta 0:00:01\r\u001b[K     |██████████████████████████▎     | 12.4 MB 6.2 MB\/s eta 0:00:01\r\u001b[K     |██████████████████████████▎     | 12.4 MB 6.2 MB\/s eta 0:00:01\r\u001b[K     |██████████████████████████▍     | 12.4 MB 6.2 MB\/s eta 0:00:01\r\u001b[K     |██████████████████████████▍     | 12.4 MB 6.2 MB\/s eta 0:00:01\r\u001b[K     |██████████████████████████▍     | 12.5 MB 6.2 MB\/s eta 0:00:01\r\u001b[K     |██████████████████████████▍     | 12.5 MB 6.2 MB\/s eta 0:00:01\r\u001b[K     |██████████████████████████▍     | 12.5 MB 6.2 MB\/s eta 0:00:01\r\u001b[K     |██████████████████████████▌     | 12.5 MB 6.2 MB\/s eta 0:00:01\r\u001b[K     |██████████████████████████▌     | 12.5 MB 6.2 MB\/s eta 0:00:01\r\u001b[K     |██████████████████████████▌     | 12.5 MB 6.2 MB\/s eta 0:00:01\r\u001b[K     |██████████████████████████▌     | 12.5 MB 6.2 MB\/s eta 0:00:01\r\u001b[K     |██████████████████████████▌     | 12.5 MB 6.2 MB\/s eta 0:00:01\r\u001b[K     |██████████████████████████▋     | 12.5 MB 6.2 MB\/s eta 0:00:01\r\u001b[K     |██████████████████████████▋     | 12.5 MB 6.2 MB\/s eta 0:00:01\r\u001b[K     |██████████████████████████▋     | 12.6 MB 6.2 MB\/s eta 0:00:01\r\u001b[K     |██████████████████████████▋     | 12.6 MB 6.2 MB\/s eta 0:00:01\r\u001b[K     |██████████████████████████▋     | 12.6 MB 6.2 MB\/s eta 0:00:01\r\u001b[K     |██████████████████████████▊     | 12.6 MB 6.2 MB\/s eta 0:00:01\r\u001b[K     |██████████████████████████▊     | 12.6 MB 6.2 MB\/s eta 0:00:01\r\u001b[K     |██████████████████████████▊     | 12.6 MB 6.2 MB\/s eta 0:00:01\r\u001b[K     |██████████████████████████▊     | 12.6 MB 6.2 MB\/s eta 0:00:01\r\u001b[K     |██████████████████████████▊     | 12.6 MB 6.2 MB\/s eta 0:00:01\r\u001b[K     |██████████████████████████▉     | 12.6 MB 6.2 MB\/s eta 0:00:01\r\u001b[K     |██████████████████████████▉     | 12.6 MB 6.2 MB\/s eta 0:00:01\r\u001b[K     |██████████████████████████▉     | 12.7 MB 6.2 MB\/s eta 0:00:01\r\u001b[K     |██████████████████████████▉     | 12.7 MB 6.2 MB\/s eta 0:00:01\r\u001b[K     |██████████████████████████▉     | 12.7 MB 6.2 MB\/s eta 0:00:01\r\u001b[K     |███████████████████████████     | 12.7 MB 6.2 MB\/s eta 0:00:01\r\u001b[K     |███████████████████████████     | 12.7 MB 6.2 MB\/s eta 0:00:01\r\u001b[K     |███████████████████████████     | 12.7 MB 6.2 MB\/s eta 0:00:01\r\u001b[K     |███████████████████████████     | 12.7 MB 6.2 MB\/s eta 0:00:01\r\u001b[K     |███████████████████████████     | 12.7 MB 6.2 MB\/s eta 0:00:01\r\u001b[K     |███████████████████████████     | 12.7 MB 6.2 MB\/s eta 0:00:01\r\u001b[K     |███████████████████████████     | 12.7 MB 6.2 MB\/s eta 0:00:01\r\u001b[K     |███████████████████████████     | 12.8 MB 6.2 MB\/s eta 0:00:01\r\u001b[K     |███████████████████████████     | 12.8 MB 6.2 MB\/s eta 0:00:01\r\u001b[K     |███████████████████████████     | 12.8 MB 6.2 MB\/s eta 0:00:01\r\u001b[K     |███████████████████████████▏    | 12.8 MB 6.2 MB\/s eta 0:00:01\r\u001b[K     |███████████████████████████▏    | 12.8 MB 6.2 MB\/s eta 0:00:01\r\u001b[K     |███████████████████████████▏    | 12.8 MB 6.2 MB\/s eta 0:00:01\r\u001b[K     |███████████████████████████▏    | 12.8 MB 6.2 MB\/s eta 0:00:01\r\u001b[K     |███████████████████████████▏    | 12.8 MB 6.2 MB\/s eta 0:00:01\r\u001b[K     |███████████████████████████▎    | 12.8 MB 6.2 MB\/s eta 0:00:01\r\u001b[K     |███████████████████████████▎    | 12.9 MB 6.2 MB\/s eta 0:00:01\r\u001b[K     |███████████████████████████▎    | 12.9 MB 6.2 MB\/s eta 0:00:01\r\u001b[K     |███████████████████████████▎    | 12.9 MB 6.2 MB\/s eta 0:00:01\r\u001b[K     |███████████████████████████▎    | 12.9 MB 6.2 MB\/s eta 0:00:01\r\u001b[K     |███████████████████████████▎    | 12.9 MB 6.2 MB\/s eta 0:00:01\r\u001b[K     |███████████████████████████▍    | 12.9 MB 6.2 MB\/s eta 0:00:01\r\u001b[K     |███████████████████████████▍    | 12.9 MB 6.2 MB\/s eta 0:00:01\r\u001b[K     |███████████████████████████▍    | 12.9 MB 6.2 MB\/s eta 0:00:01\r\u001b[K     |███████████████████████████▍    | 12.9 MB 6.2 MB\/s eta 0:00:01\r\u001b[K     |███████████████████████████▍    | 12.9 MB 6.2 MB\/s eta 0:00:01\r\u001b[K     |███████████████████████████▌    | 13.0 MB 6.2 MB\/s eta 0:00:01\r\u001b[K     |███████████████████████████▌    | 13.0 MB 6.2 MB\/s eta 0:00:01\r\u001b[K     |███████████████████████████▌    | 13.0 MB 6.2 MB\/s eta 0:00:01\r\u001b[K     |███████████████████████████▌    | 13.0 MB 6.2 MB\/s eta 0:00:01\r\u001b[K     |███████████████████████████▌    | 13.0 MB 6.2 MB\/s eta 0:00:01\r\u001b[K     |███████████████████████████▋    | 13.0 MB 6.2 MB\/s eta 0:00:01\r\u001b[K     |███████████████████████████▋    | 13.0 MB 6.2 MB\/s eta 0:00:01\r\u001b[K     |███████████████████████████▋    | 13.0 MB 6.2 MB\/s eta 0:00:01\r\u001b[K     |███████████████████████████▋    | 13.0 MB 6.2 MB\/s eta 0:00:01\r\u001b[K     |███████████████████████████▋    | 13.0 MB 6.2 MB\/s eta 0:00:01\r\u001b[K     |███████████████████████████▊    | 13.1 MB 6.2 MB\/s eta 0:00:01\r\u001b[K     |███████████████████████████▊    | 13.1 MB 6.2 MB\/s eta 0:00:01\r\u001b[K     |███████████████████████████▊    | 13.1 MB 6.2 MB\/s eta 0:00:01\r\u001b[K     |███████████████████████████▊    | 13.1 MB 6.2 MB\/s eta 0:00:01\r\u001b[K     |███████████████████████████▊    | 13.1 MB 6.2 MB\/s eta 0:00:01\r\u001b[K     |███████████████████████████▉    | 13.1 MB 6.2 MB\/s eta 0:00:01\r\u001b[K     |███████████████████████████▉    | 13.1 MB 6.2 MB\/s eta 0:00:01\r\u001b[K     |███████████████████████████▉    | 13.1 MB 6.2 MB\/s eta 0:00:01\r\u001b[K     |███████████████████████████▉    | 13.1 MB 6.2 MB\/s eta 0:00:01\r\u001b[K     |███████████████████████████▉    | 13.1 MB 6.2 MB\/s eta 0:00:01\r\u001b[K     |████████████████████████████    | 13.2 MB 6.2 MB\/s eta 0:00:01\r\u001b[K     |████████████████████████████    | 13.2 MB 6.2 MB\/s eta 0:00:01\r\u001b[K     |████████████████████████████    | 13.2 MB 6.2 MB\/s eta 0:00:01\r\u001b[K     |████████████████████████████    | 13.2 MB 6.2 MB\/s eta 0:00:01\r\u001b[K     |████████████████████████████    | 13.2 MB 6.2 MB\/s eta 0:00:01\r\u001b[K     |████████████████████████████    | 13.2 MB 6.2 MB\/s eta 0:00:01\r\u001b[K     |████████████████████████████    | 13.2 MB 6.2 MB\/s eta 0:00:01\r\u001b[K     |████████████████████████████    | 13.2 MB 6.2 MB\/s eta 0:00:01\r\u001b[K     |████████████████████████████    | 13.2 MB 6.2 MB\/s eta 0:00:01\r\u001b[K     |████████████████████████████    | 13.3 MB 6.2 MB\/s eta 0:00:01\r\u001b[K     |████████████████████████████▏   | 13.3 MB 6.2 MB\/s eta 0:00:01\r\u001b[K     |████████████████████████████▏   | 13.3 MB 6.2 MB\/s eta 0:00:01\r\u001b[K     |████████████████████████████▏   | 13.3 MB 6.2 MB\/s eta 0:00:01\r\u001b[K     |████████████████████████████▏   | 13.3 MB 6.2 MB\/s eta 0:00:01\r\u001b[K     |████████████████████████████▏   | 13.3 MB 6.2 MB\/s eta 0:00:01\r\u001b[K     |████████████████████████████▏   | 13.3 MB 6.2 MB\/s eta 0:00:01\r\u001b[K     |████████████████████████████▎   | 13.3 MB 6.2 MB\/s eta 0:00:01\r\u001b[K     |████████████████████████████▎   | 13.3 MB 6.2 MB\/s eta 0:00:01\r\u001b[K     |████████████████████████████▎   | 13.3 MB 6.2 MB\/s eta 0:00:01\r\u001b[K     |████████████████████████████▎   | 13.4 MB 6.2 MB\/s eta 0:00:01\r\u001b[K     |████████████████████████████▎   | 13.4 MB 6.2 MB\/s eta 0:00:01\r\u001b[K     |████████████████████████████▍   | 13.4 MB 6.2 MB\/s eta 0:00:01\r\u001b[K     |████████████████████████████▍   | 13.4 MB 6.2 MB\/s eta 0:00:01\r\u001b[K     |████████████████████████████▍   | 13.4 MB 6.2 MB\/s eta 0:00:01\r\u001b[K     |████████████████████████████▍   | 13.4 MB 6.2 MB\/s eta 0:00:01\r\u001b[K     |████████████████████████████▍   | 13.4 MB 6.2 MB\/s eta 0:00:01\r\u001b[K     |████████████████████████████▌   | 13.4 MB 6.2 MB\/s eta 0:00:01\r\u001b[K     |████████████████████████████▌   | 13.4 MB 6.2 MB\/s eta 0:00:01\r\u001b[K     |████████████████████████████▌   | 13.4 MB 6.2 MB\/s eta 0:00:01\r\u001b[K     |████████████████████████████▌   | 13.5 MB 6.2 MB\/s eta 0:00:01\r\u001b[K     |████████████████████████████▌   | 13.5 MB 6.2 MB\/s eta 0:00:01\r\u001b[K     |████████████████████████████▋   | 13.5 MB 6.2 MB\/s eta 0:00:01\r\u001b[K     |████████████████████████████▋   | 13.5 MB 6.2 MB\/s eta 0:00:01\r\u001b[K     |████████████████████████████▋   | 13.5 MB 6.2 MB\/s eta 0:00:01\r\u001b[K     |████████████████████████████▋   | 13.5 MB 6.2 MB\/s eta 0:00:01\r\u001b[K     |████████████████████████████▋   | 13.5 MB 6.2 MB\/s eta 0:00:01\r\u001b[K     |████████████████████████████▊   | 13.5 MB 6.2 MB\/s eta 0:00:01\r\u001b[K     |████████████████████████████▊   | 13.5 MB 6.2 MB\/s eta 0:00:01\r\u001b[K     |████████████████████████████▊   | 13.5 MB 6.2 MB\/s eta 0:00:01\r\u001b[K     |████████████████████████████▊   | 13.6 MB 6.2 MB\/s eta 0:00:01\r\u001b[K     |████████████████████████████▊   | 13.6 MB 6.2 MB\/s eta 0:00:01\r\u001b[K     |████████████████████████████▉   | 13.6 MB 6.2 MB\/s eta 0:00:01\r\u001b[K     |████████████████████████████▉   | 13.6 MB 6.2 MB\/s eta 0:00:01\r\u001b[K     |████████████████████████████▉   | 13.6 MB 6.2 MB\/s eta 0:00:01\r\u001b[K     |████████████████████████████▉   | 13.6 MB 6.2 MB\/s eta 0:00:01\r\u001b[K     |████████████████████████████▉   | 13.6 MB 6.2 MB\/s eta 0:00:01\r\u001b[K     |█████████████████████████████   | 13.6 MB 6.2 MB\/s eta 0:00:01\r\u001b[K     |█████████████████████████████   | 13.6 MB 6.2 MB\/s eta 0:00:01\r\u001b[K     |█████████████████████████████   | 13.6 MB 6.2 MB\/s eta 0:00:01\r\u001b[K     |█████████████████████████████   | 13.7 MB 6.2 MB\/s eta 0:00:01\r\u001b[K     |█████████████████████████████   | 13.7 MB 6.2 MB\/s eta 0:00:01\r\u001b[K     |█████████████████████████████   | 13.7 MB 6.2 MB\/s eta 0:00:01\r\u001b[K     |█████████████████████████████   | 13.7 MB 6.2 MB\/s eta 0:00:01\r\u001b[K     |█████████████████████████████   | 13.7 MB 6.2 MB\/s eta 0:00:01\r\u001b[K     |█████████████████████████████   | 13.7 MB 6.2 MB\/s eta 0:00:01\r\u001b[K     |█████████████████████████████   | 13.7 MB 6.2 MB\/s eta 0:00:01\r\u001b[K     |█████████████████████████████▏  | 13.7 MB 6.2 MB\/s eta 0:00:01\r\u001b[K     |█████████████████████████████▏  | 13.7 MB 6.2 MB\/s eta 0:00:01\r\u001b[K     |█████████████████████████████▏  | 13.8 MB 6.2 MB\/s eta 0:00:01\r\u001b[K     |█████████████████████████████▏  | 13.8 MB 6.2 MB\/s eta 0:00:01\r\u001b[K     |█████████████████████████████▏  | 13.8 MB 6.2 MB\/s eta 0:00:01\r\u001b[K     |█████████████████████████████▏  | 13.8 MB 6.2 MB\/s eta 0:00:01\r\u001b[K     |█████████████████████████████▎  | 13.8 MB 6.2 MB\/s eta 0:00:01\r\u001b[K     |█████████████████████████████▎  | 13.8 MB 6.2 MB\/s eta 0:00:01\r\u001b[K     |█████████████████████████████▎  | 13.8 MB 6.2 MB\/s eta 0:00:01\r\u001b[K     |█████████████████████████████▎  | 13.8 MB 6.2 MB\/s eta 0:00:01\r\u001b[K     |█████████████████████████████▎  | 13.8 MB 6.2 MB\/s eta 0:00:01\r\u001b[K     |█████████████████████████████▍  | 13.8 MB 6.2 MB\/s eta 0:00:01\r\u001b[K     |█████████████████████████████▍  | 13.9 MB 6.2 MB\/s eta 0:00:01\r\u001b[K     |█████████████████████████████▍  | 13.9 MB 6.2 MB\/s eta 0:00:01\r\u001b[K     |█████████████████████████████▍  | 13.9 MB 6.2 MB\/s eta 0:00:01\r\u001b[K     |█████████████████████████████▍  | 13.9 MB 6.2 MB\/s eta 0:00:01\r\u001b[K     |█████████████████████████████▌  | 13.9 MB 6.2 MB\/s eta 0:00:01\r\u001b[K     |█████████████████████████████▌  | 13.9 MB 6.2 MB\/s eta 0:00:01\r\u001b[K     |█████████████████████████████▌  | 13.9 MB 6.2 MB\/s eta 0:00:01\r\u001b[K     |█████████████████████████████▌  | 13.9 MB 6.2 MB\/s eta 0:00:01\r\u001b[K     |█████████████████████████████▌  | 13.9 MB 6.2 MB\/s eta 0:00:01\r\u001b[K     |█████████████████████████████▋  | 13.9 MB 6.2 MB\/s eta 0:00:01\r\u001b[K     |█████████████████████████████▋  | 14.0 MB 6.2 MB\/s eta 0:00:01\r\u001b[K     |█████████████████████████████▋  | 14.0 MB 6.2 MB\/s eta 0:00:01\r\u001b[K     |█████████████████████████████▋  | 14.0 MB 6.2 MB\/s eta 0:00:01\r\u001b[K     |█████████████████████████████▋  | 14.0 MB 6.2 MB\/s eta 0:00:01\r\u001b[K     |█████████████████████████████▊  | 14.0 MB 6.2 MB\/s eta 0:00:01\r\u001b[K     |█████████████████████████████▊  | 14.0 MB 6.2 MB\/s eta 0:00:01\r\u001b[K     |█████████████████████████████▊  | 14.0 MB 6.2 MB\/s eta 0:00:01\r\u001b[K     |█████████████████████████████▊  | 14.0 MB 6.2 MB\/s eta 0:00:01\r\u001b[K     |█████████████████████████████▊  | 14.0 MB 6.2 MB\/s eta 0:00:01\r\u001b[K     |█████████████████████████████▉  | 14.0 MB 6.2 MB\/s eta 0:00:01\r\u001b[K     |█████████████████████████████▉  | 14.1 MB 6.2 MB\/s eta 0:00:01\r\u001b[K     |█████████████████████████████▉  | 14.1 MB 6.2 MB\/s eta 0:00:01\r\u001b[K     |█████████████████████████████▉  | 14.1 MB 6.2 MB\/s eta 0:00:01\r\u001b[K     |█████████████████████████████▉  | 14.1 MB 6.2 MB\/s eta 0:00:01\r\u001b[K     |██████████████████████████████  | 14.1 MB 6.2 MB\/s eta 0:00:01\r\u001b[K     |██████████████████████████████  | 14.1 MB 6.2 MB\/s eta 0:00:01\r\u001b[K     |██████████████████████████████  | 14.1 MB 6.2 MB\/s eta 0:00:01\r\u001b[K     |██████████████████████████████  | 14.1 MB 6.2 MB\/s eta 0:00:01\r\u001b[K     |██████████████████████████████  | 14.1 MB 6.2 MB\/s eta 0:00:01\r\u001b[K     |██████████████████████████████  | 14.2 MB 6.2 MB\/s eta 0:00:01\r\u001b[K     |██████████████████████████████  | 14.2 MB 6.2 MB\/s eta 0:00:01\r\u001b[K     |██████████████████████████████  | 14.2 MB 6.2 MB\/s eta 0:00:01\r\u001b[K     |██████████████████████████████  | 14.2 MB 6.2 MB\/s eta 0:00:01\r\u001b[K     |██████████████████████████████  | 14.2 MB 6.2 MB\/s eta 0:00:01\r\u001b[K     |██████████████████████████████  | 14.2 MB 6.2 MB\/s eta 0:00:01\r\u001b[K     |██████████████████████████████▏ | 14.2 MB 6.2 MB\/s eta 0:00:01\r\u001b[K     |██████████████████████████████▏ | 14.2 MB 6.2 MB\/s eta 0:00:01\r\u001b[K     |██████████████████████████████▏ | 14.2 MB 6.2 MB\/s eta 0:00:01\r\u001b[K     |██████████████████████████████▏ | 14.2 MB 6.2 MB\/s eta 0:00:01\r\u001b[K     |██████████████████████████████▏ | 14.3 MB 6.2 MB\/s eta 0:00:01\r\u001b[K     |██████████████████████████████▎ | 14.3 MB 6.2 MB\/s eta 0:00:01\r\u001b[K     |██████████████████████████████▎ | 14.3 MB 6.2 MB\/s eta 0:00:01\r\u001b[K     |██████████████████████████████▎ | 14.3 MB 6.2 MB\/s eta 0:00:01\r\u001b[K     |██████████████████████████████▎ | 14.3 MB 6.2 MB\/s eta 0:00:01\r\u001b[K     |██████████████████████████████▎ | 14.3 MB 6.2 MB\/s eta 0:00:01\r\u001b[K     |██████████████████████████████▍ | 14.3 MB 6.2 MB\/s eta 0:00:01\r\u001b[K     |██████████████████████████████▍ | 14.3 MB 6.2 MB\/s eta 0:00:01\r\u001b[K     |██████████████████████████████▍ | 14.3 MB 6.2 MB\/s eta 0:00:01\r\u001b[K     |██████████████████████████████▍ | 14.3 MB 6.2 MB\/s eta 0:00:01\r\u001b[K     |██████████████████████████████▍ | 14.4 MB 6.2 MB\/s eta 0:00:01\r\u001b[K     |██████████████████████████████▌ | 14.4 MB 6.2 MB\/s eta 0:00:01\r\u001b[K     |██████████████████████████████▌ | 14.4 MB 6.2 MB\/s eta 0:00:01\r\u001b[K     |██████████████████████████████▌ | 14.4 MB 6.2 MB\/s eta 0:00:01\r\u001b[K     |██████████████████████████████▌ | 14.4 MB 6.2 MB\/s eta 0:00:01\r\u001b[K     |██████████████████████████████▌ | 14.4 MB 6.2 MB\/s eta 0:00:01\r\u001b[K     |██████████████████████████████▋ | 14.4 MB 6.2 MB\/s eta 0:00:01\r\u001b[K     |██████████████████████████████▋ | 14.4 MB 6.2 MB\/s eta 0:00:01\r\u001b[K     |██████████████████████████████▋ | 14.4 MB 6.2 MB\/s eta 0:00:01\r\u001b[K     |██████████████████████████████▋ | 14.4 MB 6.2 MB\/s eta 0:00:01\r\u001b[K     |██████████████████████████████▋ | 14.5 MB 6.2 MB\/s eta 0:00:01\r\u001b[K     |██████████████████████████████▊ | 14.5 MB 6.2 MB\/s eta 0:00:01\r\u001b[K     |██████████████████████████████▊ | 14.5 MB 6.2 MB\/s eta 0:00:01\r\u001b[K     |██████████████████████████████▊ | 14.5 MB 6.2 MB\/s eta 0:00:01\r\u001b[K     |██████████████████████████████▊ | 14.5 MB 6.2 MB\/s eta 0:00:01\r\u001b[K     |██████████████████████████████▊ | 14.5 MB 6.2 MB\/s eta 0:00:01\r\u001b[K     |██████████████████████████████▉ | 14.5 MB 6.2 MB\/s eta 0:00:01\r\u001b[K     |██████████████████████████████▉ | 14.5 MB 6.2 MB\/s eta 0:00:01\r\u001b[K     |██████████████████████████████▉ | 14.5 MB 6.2 MB\/s eta 0:00:01\r\u001b[K     |██████████████████████████████▉ | 14.6 MB 6.2 MB\/s eta 0:00:01\r\u001b[K     |██████████████████████████████▉ | 14.6 MB 6.2 MB\/s eta 0:00:01\r\u001b[K     |███████████████████████████████ | 14.6 MB 6.2 MB\/s eta 0:00:01\r\u001b[K     |███████████████████████████████ | 14.6 MB 6.2 MB\/s eta 0:00:01\r\u001b[K     |███████████████████████████████ | 14.6 MB 6.2 MB\/s eta 0:00:01\r\u001b[K     |███████████████████████████████ | 14.6 MB 6.2 MB\/s eta 0:00:01\r\u001b[K     |███████████████████████████████ | 14.6 MB 6.2 MB\/s eta 0:00:01\r\u001b[K     |███████████████████████████████ | 14.6 MB 6.2 MB\/s eta 0:00:01\r\u001b[K     |███████████████████████████████ | 14.6 MB 6.2 MB\/s eta 0:00:01\r\u001b[K     |███████████████████████████████ | 14.6 MB 6.2 MB\/s eta 0:00:01\r\u001b[K     |███████████████████████████████ | 14.7 MB 6.2 MB\/s eta 0:00:01\r\u001b[K     |███████████████████████████████ | 14.7 MB 6.2 MB\/s eta 0:00:01\r\u001b[K     |███████████████████████████████ | 14.7 MB 6.2 MB\/s eta 0:00:01\r\u001b[K     |███████████████████████████████▏| 14.7 MB 6.2 MB\/s eta 0:00:01\r\u001b[K     |███████████████████████████████▏| 14.7 MB 6.2 MB\/s eta 0:00:01\r\u001b[K     |███████████████████████████████▏| 14.7 MB 6.2 MB\/s eta 0:00:01\r\u001b[K     |███████████████████████████████▏| 14.7 MB 6.2 MB\/s eta 0:00:01\r\u001b[K     |███████████████████████████████▏| 14.7 MB 6.2 MB\/s eta 0:00:01\r\u001b[K     |███████████████████████████████▎| 14.7 MB 6.2 MB\/s eta 0:00:01\r\u001b[K     |███████████████████████████████▎| 14.7 MB 6.2 MB\/s eta 0:00:01\r\u001b[K     |███████████████████████████████▎| 14.8 MB 6.2 MB\/s eta 0:00:01\r\u001b[K     |███████████████████████████████▎| 14.8 MB 6.2 MB\/s eta 0:00:01\r\u001b[K     |███████████████████████████████▎| 14.8 MB 6.2 MB\/s eta 0:00:01\r\u001b[K     |███████████████████████████████▍| 14.8 MB 6.2 MB\/s eta 0:00:01\r\u001b[K     |███████████████████████████████▍| 14.8 MB 6.2 MB\/s eta 0:00:01\r\u001b[K     |███████████████████████████████▍| 14.8 MB 6.2 MB\/s eta 0:00:01\r\u001b[K     |███████████████████████████████▍| 14.8 MB 6.2 MB\/s eta 0:00:01\r\u001b[K     |███████████████████████████████▍| 14.8 MB 6.2 MB\/s eta 0:00:01\r\u001b[K     |███████████████████████████████▌| 14.8 MB 6.2 MB\/s eta 0:00:01\r\u001b[K     |███████████████████████████████▌| 14.8 MB 6.2 MB\/s eta 0:00:01\r\u001b[K     |███████████████████████████████▌| 14.9 MB 6.2 MB\/s eta 0:00:01\r\u001b[K     |███████████████████████████████▌| 14.9 MB 6.2 MB\/s eta 0:00:01\r\u001b[K     |███████████████████████████████▌| 14.9 MB 6.2 MB\/s eta 0:00:01\r\u001b[K     |███████████████████████████████▋| 14.9 MB 6.2 MB\/s eta 0:00:01\r\u001b[K     |███████████████████████████████▋| 14.9 MB 6.2 MB\/s eta 0:00:01\r\u001b[K     |███████████████████████████████▋| 14.9 MB 6.2 MB\/s eta 0:00:01\r\u001b[K     |███████████████████████████████▋| 14.9 MB 6.2 MB\/s eta 0:00:01\r\u001b[K     |███████████████████████████████▋| 14.9 MB 6.2 MB\/s eta 0:00:01\r\u001b[K     |███████████████████████████████▊| 14.9 MB 6.2 MB\/s eta 0:00:01\r\u001b[K     |███████████████████████████████▊| 15.0 MB 6.2 MB\/s eta 0:00:01\r\u001b[K     |███████████████████████████████▊| 15.0 MB 6.2 MB\/s eta 0:00:01\r\u001b[K     |███████████████████████████████▊| 15.0 MB 6.2 MB\/s eta 0:00:01\r\u001b[K     |███████████████████████████████▊| 15.0 MB 6.2 MB\/s eta 0:00:01\r\u001b[K     |███████████████████████████████▉| 15.0 MB 6.2 MB\/s eta 0:00:01\r\u001b[K     |███████████████████████████████▉| 15.0 MB 6.2 MB\/s eta 0:00:01\r\u001b[K     |███████████████████████████████▉| 15.0 MB 6.2 MB\/s eta 0:00:01\r\u001b[K     |███████████████████████████████▉| 15.0 MB 6.2 MB\/s eta 0:00:01\r\u001b[K     |███████████████████████████████▉| 15.0 MB 6.2 MB\/s eta 0:00:01\r\u001b[K     |████████████████████████████████| 15.0 MB 6.2 MB\/s eta 0:00:01\r\u001b[K     |████████████████████████████████| 15.1 MB 6.2 MB\/s eta 0:00:01\r\u001b[K     |████████████████████████████████| 15.1 MB 6.2 MB\/s eta 0:00:01\r\u001b[K     |████████████████████████████████| 15.1 MB 6.2 MB\/s eta 0:00:01\r\u001b[K     |████████████████████████████████| 15.1 MB 6.2 MB\/s eta 0:00:01\r\u001b[K     |████████████████████████████████| 15.1 MB 6.2 MB\/s eta 0:00:01\r\u001b[K     |████████████████████████████████| 15.1 MB 6.2 MB\/s \r\n",
            "\u001b[?25hRequirement already satisfied: scipy>=1.3.2 in \/opt\/anaconda3\/envs\/datalore-user\/lib\/python3.7\/site-packages (from sweetviz) (1.5.2)\r\n",
            "Requirement already satisfied: numpy>=1.16.0 in \/opt\/anaconda3\/envs\/datalore-user\/lib\/python3.7\/site-packages (from sweetviz) (1.19.2)\r\n",
            "Requirement already satisfied: pandas!=1.0.0,!=1.0.1,!=1.0.2,>=0.25.3 in \/opt\/anaconda3\/envs\/datalore-user\/lib\/python3.7\/site-packages (from sweetviz) (1.1.3)\r\n",
            "Collecting importlib-resources>=1.2.0\r\n",
            "  Downloading importlib_resources-3.2.1-py2.py3-none-any.whl (26 kB)\r\n",
            "Requirement already satisfied: jinja2>=2.11.1 in \/opt\/anaconda3\/envs\/datalore-user\/lib\/python3.7\/site-packages (from sweetviz) (2.11.2)\r\n",
            "Requirement already satisfied: matplotlib>=3.1.3 in \/opt\/anaconda3\/envs\/datalore-user\/lib\/python3.7\/site-packages (from sweetviz) (3.3.2)\r\n",
            "Requirement already satisfied: tqdm>=4.43.0 in \/opt\/anaconda3\/envs\/datalore-user\/lib\/python3.7\/site-packages (from sweetviz) (4.50.2)\r\n",
            "Requirement already satisfied: python-dateutil>=2.7.3 in \/opt\/anaconda3\/envs\/datalore-user\/lib\/python3.7\/site-packages (from pandas!=1.0.0,!=1.0.1,!=1.0.2,>=0.25.3->sweetviz) (2.8.1)\r\n",
            "Requirement already satisfied: pytz>=2017.2 in \/opt\/anaconda3\/envs\/datalore-user\/lib\/python3.7\/site-packages (from pandas!=1.0.0,!=1.0.1,!=1.0.2,>=0.25.3->sweetviz) (2020.1)\r\n",
            "Requirement already satisfied: zipp>=0.4; python_version < \"3.8\" in \/opt\/anaconda3\/envs\/datalore-user\/lib\/python3.7\/site-packages (from importlib-resources>=1.2.0->sweetviz) (3.3.1)\r\n",
            "Requirement already satisfied: MarkupSafe>=0.23 in \/opt\/anaconda3\/envs\/datalore-user\/lib\/python3.7\/site-packages (from jinja2>=2.11.1->sweetviz) (1.1.1)\r\n",
            "Requirement already satisfied: kiwisolver>=1.0.1 in \/opt\/anaconda3\/envs\/datalore-user\/lib\/python3.7\/site-packages (from matplotlib>=3.1.3->sweetviz) (1.2.0)\r\n",
            "Requirement already satisfied: pyparsing!=2.0.4,!=2.1.2,!=2.1.6,>=2.0.3 in \/opt\/anaconda3\/envs\/datalore-user\/lib\/python3.7\/site-packages (from matplotlib>=3.1.3->sweetviz) (2.4.7)\r\n",
            "Requirement already satisfied: cycler>=0.10 in \/opt\/anaconda3\/envs\/datalore-user\/lib\/python3.7\/site-packages (from matplotlib>=3.1.3->sweetviz) (0.10.0)\r\n",
            "Requirement already satisfied: pillow>=6.2.0 in \/opt\/anaconda3\/envs\/datalore-user\/lib\/python3.7\/site-packages (from matplotlib>=3.1.3->sweetviz) (8.0.0)\r\n",
            "Requirement already satisfied: certifi>=2020.06.20 in \/opt\/anaconda3\/envs\/datalore-user\/lib\/python3.7\/site-packages (from matplotlib>=3.1.3->sweetviz) (2020.6.20)\r\n",
            "Requirement already satisfied: six>=1.5 in \/opt\/anaconda3\/envs\/datalore-user\/lib\/python3.7\/site-packages (from python-dateutil>=2.7.3->pandas!=1.0.0,!=1.0.1,!=1.0.2,>=0.25.3->sweetviz) (1.15.0)\r\n",
            "Installing collected packages: importlib-resources, sweetviz\r\n",
            "Successfully installed importlib-resources-3.2.1 sweetviz-1.1.1\r\n",
            "Note: you may need to restart the kernel to use updated packages.\n"
          ],
          "output_type":"stream"
        }
      ],
      "metadata":{
        
      }
    },
    {
      "cell_type":"code",
      "source":[
        "import sweetviz as sv\n",
        "\n",
        "my_report = sv.analyze(df_cities_disc)\n",
        "my_report.show_html()"
      ],
      "execution_count":11,
      "outputs":[
        {
          "name":"stdout",
          "text":[
            "\n",
            "\n",
            "\n",
            "Report SWEETVIZ_REPORT.html was generated! NOTEBOOK\/COLAB USERS: the web browser MAY not pop up, regardless, the report IS saved in your notebook\/colab files.\n"
          ],
          "output_type":"stream"
        },
        {
          "data":{
            "application\/vnd.jupyter.widget-view+json":{
              "version_major":2,
              "version_minor":0,
              "model_id":"a5d56c6fe86b456bbec46341ba4323ca"
            }
          },
          "metadata":{
            
          },
          "output_type":"display_data"
        }
      ],
      "metadata":{
        
      }
    },
    {
      "cell_type":"code",
      "source":[
        "import seaborn as sns\n",
        "\n",
        "sns.countplot(x=\"YearReportedtoCDP\", data=df_cities_disc);\n",
        "ax.tit"
      ],
      "execution_count":17,
      "outputs":[
        {
          "data":{
            "text\/plain":[
              "<AxesSubplot:xlabel='YearReportedtoCDP', ylabel='count'>"
            ],
            "image\/png":"[encoded data removed]"
          },
          "metadata":{
            "image\/png":{
              "width":0,
              "height":0
            }
          },
          "output_type":"display_data"
        }
      ],
      "metadata":{
        
      }
    },
    {
      "cell_type":"code",
      "source":[
        
      ],
      "execution_count":null,
      "outputs":[
        
      ],
      "metadata":{
        
      }
    },
    {
      "cell_type":"markdown",
      "source":[
        "**Notes** \n",
        "\n",
        "1. Missing values in city column --> can we rebuild this from organization column? \n",
        "2. Frequency of participation across the 3 years from organization column might be interesting\n",
        "3. No missings from country column\n",
        "4. Countries and CDP region to be ploted\n",
        "5. Population column is very messy and not usable in its current form --> search for external sources"
      ],
      "metadata":{
        
      }
    },
    {
      "cell_type":"code",
      "source":[
        "df_cities_disc.groupby(by=[\"City\", \"YearReportedtoCDP\"])[\"Population\"]"
      ],
      "execution_count":0,
      "outputs":[
        {
          "data":{
            "text\/plain":[
              "7.0"
            ]
          },
          "metadata":{
            
          },
          "output_type":"display_data"
        }
      ],
      "metadata":{
        
      }
    },
    {
      "cell_type":"code",
      "source":[
        "# Example fixed multi'dim response structure\n",
        "df_cities_resp.query('QuestionNumber == \"4.6b\"')"
      ],
      "execution_count":0,
      "outputs":[
        
      ],
      "metadata":{
        
      }
    },
    {
      "cell_type":"code",
      "source":[
        "# variable multiple response structure\n",
        "df_cities_resp.query('QuestionNumber == \"2.1\"')"
      ],
      "execution_count":0,
      "outputs":[
        
      ],
      "metadata":{
        
      }
    },
    {
      "cell_type":"code",
      "source":[
        "df_cities_resp.value_counts('Questionnaire')"
      ],
      "execution_count":0,
      "outputs":[
        
      ],
      "metadata":{
        
      }
    },
    {
      "cell_type":"code",
      "source":[
        "df_cities_resp.query('QuestionNumber == \"14.4\" & Questionnaire == \"Cities 2020\"')"
      ],
      "execution_count":0,
      "outputs":[
        
      ],
      "metadata":{
        
      }
    },
    {
      "cell_type":"code",
      "source":[
        "# add all cities Water Security disclosers to a dateframe\n",
        "df_corp_disc = get_data(\n",
        "    path='data\/Corporations\/Disclosing',\n",
        "    filename_start='20'\n",
        "    )"
      ],
      "execution_count":0,
      "outputs":[
        
      ],
      "metadata":{
        
      }
    },
    {
      "cell_type":"code",
      "source":[
        "# add all climate change cities responses to a dateframe\n",
        "df_corp_resp = get_data(\n",
        "    path='data\/Corporations\/Responses',\n",
        "    filename_start='20'\n",
        "    )"
      ],
      "execution_count":0,
      "outputs":[
        
      ],
      "metadata":{
        
      }
    },
    {
      "cell_type":"code",
      "source":[
        "def question_to_col(data, QuestionNumber, ColumnNumber):\n",
        "    small_df = pd.DataFrame(columns=[QuestionNumber])\n",
        "    small_df[QuestionNumber] = data['ResponseAnswer'].loc[(data['QuestionNumber'] == QuestionNumber) & (data['ColumnNumber'] == int(ColumnNumber))]\n",
        "    return small_df"
      ],
      "execution_count":0,
      "outputs":[
        
      ],
      "metadata":{
        
      }
    },
    {
      "cell_type":"code",
      "source":[
        "question_to_col(data=df_cities_resp, QuestionNumber='2.1', ColumnNumber='1')"
      ],
      "execution_count":0,
      "outputs":[
        
      ],
      "metadata":{
        
      }
    }
  ],
  "metadata":{
    "widgets":{
      "application\/vnd.jupyter.widget-state+json":{
        "version_major":2,
        "version_minor":0,
        "state":{
          "f2355c9855674b19a4a9d7223800014f":{
            "model_name":"LayoutModel",
            "model_module":"@jupyter-widgets\/base",
            "model_module_version":"1.2.0",
            "state":{
              "_model_module":"@jupyter-widgets\/base",
              "_model_module_version":"1.2.0",
              "_model_name":"LayoutModel",
              "_view_count":null,
              "_view_module":"@jupyter-widgets\/base",
              "_view_module_version":"1.2.0",
              "_view_name":"LayoutView",
              "align_content":null,
              "align_items":null,
              "align_self":null,
              "border":null,
              "bottom":null,
              "display":null,
              "flex":"2",
              "flex_flow":null,
              "grid_area":null,
              "grid_auto_columns":null,
              "grid_auto_flow":null,
              "grid_auto_rows":null,
              "grid_column":null,
              "grid_gap":null,
              "grid_row":null,
              "grid_template_areas":null,
              "grid_template_columns":null,
              "grid_template_rows":null,
              "height":null,
              "justify_content":null,
              "justify_items":null,
              "left":null,
              "margin":null,
              "max_height":null,
              "max_width":null,
              "min_height":null,
              "min_width":null,
              "object_fit":null,
              "object_position":null,
              "order":null,
              "overflow":null,
              "overflow_x":null,
              "overflow_y":null,
              "padding":null,
              "right":null,
              "top":null,
              "visibility":null,
              "width":null
            }
          },
          "24e7b5954944452996b56440daa82f57":{
            "model_name":"ProgressStyleModel",
            "model_module":"@jupyter-widgets\/controls",
            "model_module_version":"1.5.0",
            "state":{
              "_model_module":"@jupyter-widgets\/controls",
              "_model_module_version":"1.5.0",
              "_model_name":"ProgressStyleModel",
              "_view_count":null,
              "_view_module":"@jupyter-widgets\/base",
              "_view_module_version":"1.2.0",
              "_view_name":"StyleView",
              "bar_color":null,
              "description_width":""
            }
          },
          "e92b3cef8e554c0c865b27c42d83bdc4":{
            "model_name":"FloatProgressModel",
            "model_module":"@jupyter-widgets\/controls",
            "model_module_version":"1.5.0",
            "state":{
              "_dom_classes":[
                
              ],
              "_model_module":"@jupyter-widgets\/controls",
              "_model_module_version":"1.5.0",
              "_model_name":"FloatProgressModel",
              "_view_count":null,
              "_view_module":"@jupyter-widgets\/controls",
              "_view_module_version":"1.5.0",
              "_view_name":"ProgressView",
              "bar_style":"success",
              "description":"",
              "description_tooltip":null,
              "layout":"IPY_MODEL_f2355c9855674b19a4a9d7223800014f",
              "max":13,
              "min":0,
              "orientation":"horizontal",
              "style":"IPY_MODEL_24e7b5954944452996b56440daa82f57",
              "value":13
            }
          },
          "4ec16b02658543dca96f5b7cca176937":{
            "model_name":"LayoutModel",
            "model_module":"@jupyter-widgets\/base",
            "model_module_version":"1.2.0",
            "state":{
              "_model_module":"@jupyter-widgets\/base",
              "_model_module_version":"1.2.0",
              "_model_name":"LayoutModel",
              "_view_count":null,
              "_view_module":"@jupyter-widgets\/base",
              "_view_module_version":"1.2.0",
              "_view_name":"LayoutView",
              "align_content":null,
              "align_items":null,
              "align_self":null,
              "border":null,
              "bottom":null,
              "display":null,
              "flex":null,
              "flex_flow":null,
              "grid_area":null,
              "grid_auto_columns":null,
              "grid_auto_flow":null,
              "grid_auto_rows":null,
              "grid_column":null,
              "grid_gap":null,
              "grid_row":null,
              "grid_template_areas":null,
              "grid_template_columns":null,
              "grid_template_rows":null,
              "height":null,
              "justify_content":null,
              "justify_items":null,
              "left":null,
              "margin":null,
              "max_height":null,
              "max_width":null,
              "min_height":null,
              "min_width":null,
              "object_fit":null,
              "object_position":null,
              "order":null,
              "overflow":null,
              "overflow_x":null,
              "overflow_y":null,
              "padding":null,
              "right":null,
              "top":null,
              "visibility":null,
              "width":null
            }
          },
          "c7f43d429016442e969414381d74ac55":{
            "model_name":"DescriptionStyleModel",
            "model_module":"@jupyter-widgets\/controls",
            "model_module_version":"1.5.0",
            "state":{
              "_model_module":"@jupyter-widgets\/controls",
              "_model_module_version":"1.5.0",
              "_model_name":"DescriptionStyleModel",
              "_view_count":null,
              "_view_module":"@jupyter-widgets\/base",
              "_view_module_version":"1.2.0",
              "_view_name":"StyleView",
              "description_width":""
            }
          },
          "715c8b2656ea45baa4251823cdc7cf25":{
            "model_name":"HTMLModel",
            "model_module":"@jupyter-widgets\/controls",
            "model_module_version":"1.5.0",
            "state":{
              "_dom_classes":[
                
              ],
              "_model_module":"@jupyter-widgets\/controls",
              "_model_module_version":"1.5.0",
              "_model_name":"HTMLModel",
              "_view_count":null,
              "_view_module":"@jupyter-widgets\/controls",
              "_view_module_version":"1.5.0",
              "_view_name":"HTMLView",
              "description":"",
              "description_tooltip":null,
              "layout":"IPY_MODEL_4ec16b02658543dca96f5b7cca176937",
              "placeholder":"​",
              "style":"IPY_MODEL_c7f43d429016442e969414381d74ac55",
              "value":":PAIRWISE DONE:                    ",
              "disabled":false
            }
          },
          "97df385c594d4bc3a3c639bd9e9f9f00":{
            "model_name":"LayoutModel",
            "model_module":"@jupyter-widgets\/base",
            "model_module_version":"1.2.0",
            "state":{
              "_model_module":"@jupyter-widgets\/base",
              "_model_module_version":"1.2.0",
              "_model_name":"LayoutModel",
              "_view_count":null,
              "_view_module":"@jupyter-widgets\/base",
              "_view_module_version":"1.2.0",
              "_view_name":"LayoutView",
              "align_content":null,
              "align_items":null,
              "align_self":null,
              "border":null,
              "bottom":null,
              "display":null,
              "flex":null,
              "flex_flow":null,
              "grid_area":null,
              "grid_auto_columns":null,
              "grid_auto_flow":null,
              "grid_auto_rows":null,
              "grid_column":null,
              "grid_gap":null,
              "grid_row":null,
              "grid_template_areas":null,
              "grid_template_columns":null,
              "grid_template_rows":null,
              "height":null,
              "justify_content":null,
              "justify_items":null,
              "left":null,
              "margin":null,
              "max_height":null,
              "max_width":null,
              "min_height":null,
              "min_width":null,
              "object_fit":null,
              "object_position":null,
              "order":null,
              "overflow":null,
              "overflow_x":null,
              "overflow_y":null,
              "padding":null,
              "right":null,
              "top":null,
              "visibility":null,
              "width":null
            }
          },
          "c6267f876e774c7fa417ab7e65fcb655":{
            "model_name":"DescriptionStyleModel",
            "model_module":"@jupyter-widgets\/controls",
            "model_module_version":"1.5.0",
            "state":{
              "_model_module":"@jupyter-widgets\/controls",
              "_model_module_version":"1.5.0",
              "_model_name":"DescriptionStyleModel",
              "_view_count":null,
              "_view_module":"@jupyter-widgets\/base",
              "_view_module_version":"1.2.0",
              "_view_name":"StyleView",
              "description_width":""
            }
          },
          "0aad2183bc4a432480f7e61cce9e9070":{
            "model_name":"HTMLModel",
            "model_module":"@jupyter-widgets\/controls",
            "model_module_version":"1.5.0",
            "state":{
              "_dom_classes":[
                
              ],
              "_model_module":"@jupyter-widgets\/controls",
              "_model_module_version":"1.5.0",
              "_model_name":"HTMLModel",
              "_view_count":null,
              "_view_module":"@jupyter-widgets\/controls",
              "_view_module_version":"1.5.0",
              "_view_name":"HTMLView",
              "description":"",
              "description_tooltip":null,
              "layout":"IPY_MODEL_97df385c594d4bc3a3c639bd9e9f9f00",
              "placeholder":"​",
              "style":"IPY_MODEL_c6267f876e774c7fa417ab7e65fcb655",
              "value":" [100%]   00:00  -&gt; (00:00 left)",
              "disabled":false
            }
          },
          "74d55e03256f4669993c01e68ff0c70e":{
            "model_name":"LayoutModel",
            "model_module":"@jupyter-widgets\/base",
            "model_module_version":"1.2.0",
            "state":{
              "_model_module":"@jupyter-widgets\/base",
              "_model_module_version":"1.2.0",
              "_model_name":"LayoutModel",
              "_view_count":null,
              "_view_module":"@jupyter-widgets\/base",
              "_view_module_version":"1.2.0",
              "_view_name":"LayoutView",
              "align_content":null,
              "align_items":null,
              "align_self":null,
              "border":null,
              "bottom":null,
              "display":"inline-flex",
              "flex":null,
              "flex_flow":"row wrap",
              "grid_area":null,
              "grid_auto_columns":null,
              "grid_auto_flow":null,
              "grid_auto_rows":null,
              "grid_column":null,
              "grid_gap":null,
              "grid_row":null,
              "grid_template_areas":null,
              "grid_template_columns":null,
              "grid_template_rows":null,
              "height":null,
              "justify_content":null,
              "justify_items":null,
              "left":null,
              "margin":null,
              "max_height":null,
              "max_width":null,
              "min_height":null,
              "min_width":null,
              "object_fit":null,
              "object_position":null,
              "order":null,
              "overflow":null,
              "overflow_x":null,
              "overflow_y":null,
              "padding":null,
              "right":null,
              "top":null,
              "visibility":null,
              "width":"90px"
            }
          },
          "970649355fdd4745bd6c88d9be6ce6b0":{
            "model_name":"HBoxModel",
            "model_module":"@jupyter-widgets\/controls",
            "model_module_version":"1.5.0",
            "state":{
              "_dom_classes":[
                
              ],
              "_model_module":"@jupyter-widgets\/controls",
              "_model_module_version":"1.5.0",
              "_model_name":"HBoxModel",
              "_view_count":null,
              "_view_module":"@jupyter-widgets\/controls",
              "_view_module_version":"1.5.0",
              "_view_name":"HBoxView",
              "box_style":"",
              "children":[
                "IPY_MODEL_715c8b2656ea45baa4251823cdc7cf25",
                "IPY_MODEL_e92b3cef8e554c0c865b27c42d83bdc4",
                "IPY_MODEL_0aad2183bc4a432480f7e61cce9e9070"
              ],
              "layout":"IPY_MODEL_74d55e03256f4669993c01e68ff0c70e"
            }
          },
          "40952207034c43d2a5eef49b75d4d84c":{
            "model_name":"LayoutModel",
            "model_module":"@jupyter-widgets\/base",
            "model_module_version":"1.2.0",
            "state":{
              "_model_module":"@jupyter-widgets\/base",
              "_model_module_version":"1.2.0",
              "_model_name":"LayoutModel",
              "_view_count":null,
              "_view_module":"@jupyter-widgets\/base",
              "_view_module_version":"1.2.0",
              "_view_name":"LayoutView",
              "align_content":null,
              "align_items":null,
              "align_self":null,
              "border":null,
              "bottom":null,
              "display":null,
              "flex":"2",
              "flex_flow":null,
              "grid_area":null,
              "grid_auto_columns":null,
              "grid_auto_flow":null,
              "grid_auto_rows":null,
              "grid_column":null,
              "grid_gap":null,
              "grid_row":null,
              "grid_template_areas":null,
              "grid_template_columns":null,
              "grid_template_rows":null,
              "height":null,
              "justify_content":null,
              "justify_items":null,
              "left":null,
              "margin":null,
              "max_height":null,
              "max_width":null,
              "min_height":null,
              "min_width":null,
              "object_fit":null,
              "object_position":null,
              "order":null,
              "overflow":null,
              "overflow_x":null,
              "overflow_y":null,
              "padding":null,
              "right":null,
              "top":null,
              "visibility":null,
              "width":null
            }
          },
          "dfd38a15d3ba4cebbd5d6cb0be55c664":{
            "model_name":"ProgressStyleModel",
            "model_module":"@jupyter-widgets\/controls",
            "model_module_version":"1.5.0",
            "state":{
              "_model_module":"@jupyter-widgets\/controls",
              "_model_module_version":"1.5.0",
              "_model_name":"ProgressStyleModel",
              "_view_count":null,
              "_view_module":"@jupyter-widgets\/base",
              "_view_module_version":"1.2.0",
              "_view_name":"StyleView",
              "bar_color":null,
              "description_width":""
            }
          },
          "4a76efb60a944b589b59092629876290":{
            "model_name":"FloatProgressModel",
            "model_module":"@jupyter-widgets\/controls",
            "model_module_version":"1.5.0",
            "state":{
              "_dom_classes":[
                
              ],
              "_model_module":"@jupyter-widgets\/controls",
              "_model_module_version":"1.5.0",
              "_model_name":"FloatProgressModel",
              "_view_count":null,
              "_view_module":"@jupyter-widgets\/controls",
              "_view_module_version":"1.5.0",
              "_view_name":"ProgressView",
              "bar_style":"success",
              "description":"",
              "description_tooltip":null,
              "layout":"IPY_MODEL_40952207034c43d2a5eef49b75d4d84c",
              "max":1,
              "min":0,
              "orientation":"horizontal",
              "style":"IPY_MODEL_dfd38a15d3ba4cebbd5d6cb0be55c664",
              "value":1
            }
          },
          "4e013398caff4b25bd38ac3283ccd95c":{
            "model_name":"LayoutModel",
            "model_module":"@jupyter-widgets\/base",
            "model_module_version":"1.2.0",
            "state":{
              "_model_module":"@jupyter-widgets\/base",
              "_model_module_version":"1.2.0",
              "_model_name":"LayoutModel",
              "_view_count":null,
              "_view_module":"@jupyter-widgets\/base",
              "_view_module_version":"1.2.0",
              "_view_name":"LayoutView",
              "align_content":null,
              "align_items":null,
              "align_self":null,
              "border":null,
              "bottom":null,
              "display":null,
              "flex":null,
              "flex_flow":null,
              "grid_area":null,
              "grid_auto_columns":null,
              "grid_auto_flow":null,
              "grid_auto_rows":null,
              "grid_column":null,
              "grid_gap":null,
              "grid_row":null,
              "grid_template_areas":null,
              "grid_template_columns":null,
              "grid_template_rows":null,
              "height":null,
              "justify_content":null,
              "justify_items":null,
              "left":null,
              "margin":null,
              "max_height":null,
              "max_width":null,
              "min_height":null,
              "min_width":null,
              "object_fit":null,
              "object_position":null,
              "order":null,
              "overflow":null,
              "overflow_x":null,
              "overflow_y":null,
              "padding":null,
              "right":null,
              "top":null,
              "visibility":null,
              "width":null
            }
          },
          "4d7a536143bc4e47b228a0a63bb0f702":{
            "model_name":"DescriptionStyleModel",
            "model_module":"@jupyter-widgets\/controls",
            "model_module_version":"1.5.0",
            "state":{
              "_model_module":"@jupyter-widgets\/controls",
              "_model_module_version":"1.5.0",
              "_model_name":"DescriptionStyleModel",
              "_view_count":null,
              "_view_module":"@jupyter-widgets\/base",
              "_view_module_version":"1.2.0",
              "_view_name":"StyleView",
              "description_width":""
            }
          },
          "39848d5b2f1c4483966d58a497d5ca05":{
            "model_name":"HTMLModel",
            "model_module":"@jupyter-widgets\/controls",
            "model_module_version":"1.5.0",
            "state":{
              "_dom_classes":[
                
              ],
              "_model_module":"@jupyter-widgets\/controls",
              "_model_module_version":"1.5.0",
              "_model_name":"HTMLModel",
              "_view_count":null,
              "_view_module":"@jupyter-widgets\/controls",
              "_view_module_version":"1.5.0",
              "_view_name":"HTMLView",
              "description":"",
              "description_tooltip":null,
              "layout":"IPY_MODEL_4e013398caff4b25bd38ac3283ccd95c",
              "placeholder":"​",
              "style":"IPY_MODEL_4d7a536143bc4e47b228a0a63bb0f702",
              "value":":ASSOCIATIONS GRAPH DONE:          ",
              "disabled":false
            }
          },
          "31e8cd7eeafb46b0ae0bc12964ad86a5":{
            "model_name":"LayoutModel",
            "model_module":"@jupyter-widgets\/base",
            "model_module_version":"1.2.0",
            "state":{
              "_model_module":"@jupyter-widgets\/base",
              "_model_module_version":"1.2.0",
              "_model_name":"LayoutModel",
              "_view_count":null,
              "_view_module":"@jupyter-widgets\/base",
              "_view_module_version":"1.2.0",
              "_view_name":"LayoutView",
              "align_content":null,
              "align_items":null,
              "align_self":null,
              "border":null,
              "bottom":null,
              "display":null,
              "flex":null,
              "flex_flow":null,
              "grid_area":null,
              "grid_auto_columns":null,
              "grid_auto_flow":null,
              "grid_auto_rows":null,
              "grid_column":null,
              "grid_gap":null,
              "grid_row":null,
              "grid_template_areas":null,
              "grid_template_columns":null,
              "grid_template_rows":null,
              "height":null,
              "justify_content":null,
              "justify_items":null,
              "left":null,
              "margin":null,
              "max_height":null,
              "max_width":null,
              "min_height":null,
              "min_width":null,
              "object_fit":null,
              "object_position":null,
              "order":null,
              "overflow":null,
              "overflow_x":null,
              "overflow_y":null,
              "padding":null,
              "right":null,
              "top":null,
              "visibility":null,
              "width":null
            }
          },
          "387a356bccf34c4db547de117b68efc6":{
            "model_name":"DescriptionStyleModel",
            "model_module":"@jupyter-widgets\/controls",
            "model_module_version":"1.5.0",
            "state":{
              "_model_module":"@jupyter-widgets\/controls",
              "_model_module_version":"1.5.0",
              "_model_name":"DescriptionStyleModel",
              "_view_count":null,
              "_view_module":"@jupyter-widgets\/base",
              "_view_module_version":"1.2.0",
              "_view_name":"StyleView",
              "description_width":""
            }
          },
          "22342aec3c02433b9427bd55d9a99dfa":{
            "model_name":"HTMLModel",
            "model_module":"@jupyter-widgets\/controls",
            "model_module_version":"1.5.0",
            "state":{
              "_dom_classes":[
                
              ],
              "_model_module":"@jupyter-widgets\/controls",
              "_model_module_version":"1.5.0",
              "_model_name":"HTMLModel",
              "_view_count":null,
              "_view_module":"@jupyter-widgets\/controls",
              "_view_module_version":"1.5.0",
              "_view_name":"HTMLView",
              "description":"",
              "description_tooltip":null,
              "layout":"IPY_MODEL_31e8cd7eeafb46b0ae0bc12964ad86a5",
              "placeholder":"​",
              "style":"IPY_MODEL_387a356bccf34c4db547de117b68efc6",
              "value":" [100%]   00:00",
              "disabled":false
            }
          },
          "067722330f51486a8bb92cddd3098f66":{
            "model_name":"LayoutModel",
            "model_module":"@jupyter-widgets\/base",
            "model_module_version":"1.2.0",
            "state":{
              "_model_module":"@jupyter-widgets\/base",
              "_model_module_version":"1.2.0",
              "_model_name":"LayoutModel",
              "_view_count":null,
              "_view_module":"@jupyter-widgets\/base",
              "_view_module_version":"1.2.0",
              "_view_name":"LayoutView",
              "align_content":null,
              "align_items":null,
              "align_self":null,
              "border":null,
              "bottom":null,
              "display":"inline-flex",
              "flex":null,
              "flex_flow":"row wrap",
              "grid_area":null,
              "grid_auto_columns":null,
              "grid_auto_flow":null,
              "grid_auto_rows":null,
              "grid_column":null,
              "grid_gap":null,
              "grid_row":null,
              "grid_template_areas":null,
              "grid_template_columns":null,
              "grid_template_rows":null,
              "height":null,
              "justify_content":null,
              "justify_items":null,
              "left":null,
              "margin":null,
              "max_height":null,
              "max_width":null,
              "min_height":null,
              "min_width":null,
              "object_fit":null,
              "object_position":null,
              "order":null,
              "overflow":null,
              "overflow_x":null,
              "overflow_y":null,
              "padding":null,
              "right":null,
              "top":null,
              "visibility":null,
              "width":"73px"
            }
          },
          "a5d56c6fe86b456bbec46341ba4323ca":{
            "model_name":"HBoxModel",
            "model_module":"@jupyter-widgets\/controls",
            "model_module_version":"1.5.0",
            "state":{
              "_dom_classes":[
                
              ],
              "_model_module":"@jupyter-widgets\/controls",
              "_model_module_version":"1.5.0",
              "_model_name":"HBoxModel",
              "_view_count":null,
              "_view_module":"@jupyter-widgets\/controls",
              "_view_module_version":"1.5.0",
              "_view_name":"HBoxView",
              "box_style":"",
              "children":[
                "IPY_MODEL_39848d5b2f1c4483966d58a497d5ca05",
                "IPY_MODEL_4a76efb60a944b589b59092629876290",
                "IPY_MODEL_22342aec3c02433b9427bd55d9a99dfa"
              ],
              "layout":"IPY_MODEL_067722330f51486a8bb92cddd3098f66"
            }
          },
          "144400169d404aec872a84c5d306ccd6":{
            "model_name":"LayoutModel",
            "model_module":"@jupyter-widgets\/base",
            "model_module_version":"1.2.0",
            "state":{
              "_model_module":"@jupyter-widgets\/base",
              "_model_module_version":"1.2.0",
              "_model_name":"LayoutModel",
              "_view_count":null,
              "_view_module":"@jupyter-widgets\/base",
              "_view_module_version":"1.2.0",
              "_view_name":"LayoutView",
              "align_content":null,
              "align_items":null,
              "align_self":null,
              "border":null,
              "bottom":null,
              "display":null,
              "flex":"2",
              "flex_flow":null,
              "grid_area":null,
              "grid_auto_columns":null,
              "grid_auto_flow":null,
              "grid_auto_rows":null,
              "grid_column":null,
              "grid_gap":null,
              "grid_row":null,
              "grid_template_areas":null,
              "grid_template_columns":null,
              "grid_template_rows":null,
              "height":null,
              "justify_content":null,
              "justify_items":null,
              "left":null,
              "margin":null,
              "max_height":null,
              "max_width":null,
              "min_height":null,
              "min_width":null,
              "object_fit":null,
              "object_position":null,
              "order":null,
              "overflow":null,
              "overflow_x":null,
              "overflow_y":null,
              "padding":null,
              "right":null,
              "top":null,
              "visibility":null,
              "width":null
            }
          },
          "8658df1d97174573a72b8099d34e3f39":{
            "model_name":"ProgressStyleModel",
            "model_module":"@jupyter-widgets\/controls",
            "model_module_version":"1.5.0",
            "state":{
              "_model_module":"@jupyter-widgets\/controls",
              "_model_module_version":"1.5.0",
              "_model_name":"ProgressStyleModel",
              "_view_count":null,
              "_view_module":"@jupyter-widgets\/base",
              "_view_module_version":"1.2.0",
              "_view_name":"StyleView",
              "bar_color":null,
              "description_width":""
            }
          },
          "f852f55f6c3e4f24b4a21a01d33c53f6":{
            "model_name":"FloatProgressModel",
            "model_module":"@jupyter-widgets\/controls",
            "model_module_version":"1.5.0",
            "state":{
              "_dom_classes":[
                
              ],
              "_model_module":"@jupyter-widgets\/controls",
              "_model_module_version":"1.5.0",
              "_model_name":"FloatProgressModel",
              "_view_count":null,
              "_view_module":"@jupyter-widgets\/controls",
              "_view_module_version":"1.5.0",
              "_view_name":"ProgressView",
              "bar_style":"success",
              "description":"",
              "description_tooltip":null,
              "layout":"IPY_MODEL_144400169d404aec872a84c5d306ccd6",
              "max":14,
              "min":0,
              "orientation":"horizontal",
              "style":"IPY_MODEL_8658df1d97174573a72b8099d34e3f39",
              "value":14
            }
          },
          "1853efd4195843ed881c157d5b9662b6":{
            "model_name":"LayoutModel",
            "model_module":"@jupyter-widgets\/base",
            "model_module_version":"1.2.0",
            "state":{
              "_model_module":"@jupyter-widgets\/base",
              "_model_module_version":"1.2.0",
              "_model_name":"LayoutModel",
              "_view_count":null,
              "_view_module":"@jupyter-widgets\/base",
              "_view_module_version":"1.2.0",
              "_view_name":"LayoutView",
              "align_content":null,
              "align_items":null,
              "align_self":null,
              "border":null,
              "bottom":null,
              "display":null,
              "flex":null,
              "flex_flow":null,
              "grid_area":null,
              "grid_auto_columns":null,
              "grid_auto_flow":null,
              "grid_auto_rows":null,
              "grid_column":null,
              "grid_gap":null,
              "grid_row":null,
              "grid_template_areas":null,
              "grid_template_columns":null,
              "grid_template_rows":null,
              "height":null,
              "justify_content":null,
              "justify_items":null,
              "left":null,
              "margin":null,
              "max_height":null,
              "max_width":null,
              "min_height":null,
              "min_width":null,
              "object_fit":null,
              "object_position":null,
              "order":null,
              "overflow":null,
              "overflow_x":null,
              "overflow_y":null,
              "padding":null,
              "right":null,
              "top":null,
              "visibility":null,
              "width":null
            }
          },
          "13e5bc45836d4b41833518e472afe857":{
            "model_name":"DescriptionStyleModel",
            "model_module":"@jupyter-widgets\/controls",
            "model_module_version":"1.5.0",
            "state":{
              "_model_module":"@jupyter-widgets\/controls",
              "_model_module_version":"1.5.0",
              "_model_name":"DescriptionStyleModel",
              "_view_count":null,
              "_view_module":"@jupyter-widgets\/base",
              "_view_module_version":"1.2.0",
              "_view_name":"StyleView",
              "description_width":""
            }
          },
          "3b4702b7f0244669b39ef368a6cdecdc":{
            "model_name":"HTMLModel",
            "model_module":"@jupyter-widgets\/controls",
            "model_module_version":"1.5.0",
            "state":{
              "_dom_classes":[
                
              ],
              "_model_module":"@jupyter-widgets\/controls",
              "_model_module_version":"1.5.0",
              "_model_name":"HTMLModel",
              "_view_count":null,
              "_view_module":"@jupyter-widgets\/controls",
              "_view_module_version":"1.5.0",
              "_view_name":"HTMLView",
              "description":"",
              "description_tooltip":null,
              "layout":"IPY_MODEL_1853efd4195843ed881c157d5b9662b6",
              "placeholder":"​",
              "style":"IPY_MODEL_13e5bc45836d4b41833518e472afe857",
              "value":":FEATURES DONE:                    ",
              "disabled":false
            }
          },
          "a13c381ec28c4587a0520eafcb6ce5c6":{
            "model_name":"LayoutModel",
            "model_module":"@jupyter-widgets\/base",
            "model_module_version":"1.2.0",
            "state":{
              "_model_module":"@jupyter-widgets\/base",
              "_model_module_version":"1.2.0",
              "_model_name":"LayoutModel",
              "_view_count":null,
              "_view_module":"@jupyter-widgets\/base",
              "_view_module_version":"1.2.0",
              "_view_name":"LayoutView",
              "align_content":null,
              "align_items":null,
              "align_self":null,
              "border":null,
              "bottom":null,
              "display":null,
              "flex":null,
              "flex_flow":null,
              "grid_area":null,
              "grid_auto_columns":null,
              "grid_auto_flow":null,
              "grid_auto_rows":null,
              "grid_column":null,
              "grid_gap":null,
              "grid_row":null,
              "grid_template_areas":null,
              "grid_template_columns":null,
              "grid_template_rows":null,
              "height":null,
              "justify_content":null,
              "justify_items":null,
              "left":null,
              "margin":null,
              "max_height":null,
              "max_width":null,
              "min_height":null,
              "min_width":null,
              "object_fit":null,
              "object_position":null,
              "order":null,
              "overflow":null,
              "overflow_x":null,
              "overflow_y":null,
              "padding":null,
              "right":null,
              "top":null,
              "visibility":null,
              "width":null
            }
          },
          "2eaa471ac9644922bf9eb46e508bc235":{
            "model_name":"DescriptionStyleModel",
            "model_module":"@jupyter-widgets\/controls",
            "model_module_version":"1.5.0",
            "state":{
              "_model_module":"@jupyter-widgets\/controls",
              "_model_module_version":"1.5.0",
              "_model_name":"DescriptionStyleModel",
              "_view_count":null,
              "_view_module":"@jupyter-widgets\/base",
              "_view_module_version":"1.2.0",
              "_view_name":"StyleView",
              "description_width":""
            }
          },
          "0f7386715b1748559651197085e7a73d":{
            "model_name":"HTMLModel",
            "model_module":"@jupyter-widgets\/controls",
            "model_module_version":"1.5.0",
            "state":{
              "_dom_classes":[
                
              ],
              "_model_module":"@jupyter-widgets\/controls",
              "_model_module_version":"1.5.0",
              "_model_name":"HTMLModel",
              "_view_count":null,
              "_view_module":"@jupyter-widgets\/controls",
              "_view_module_version":"1.5.0",
              "_view_name":"HTMLView",
              "description":"",
              "description_tooltip":null,
              "layout":"IPY_MODEL_a13c381ec28c4587a0520eafcb6ce5c6",
              "placeholder":"​",
              "style":"IPY_MODEL_2eaa471ac9644922bf9eb46e508bc235",
              "value":" [100%]   17:34  -&gt; (00:00 left)",
              "disabled":false
            }
          },
          "633d0a47f69141c2bc2841d64224a737":{
            "model_name":"LayoutModel",
            "model_module":"@jupyter-widgets\/base",
            "model_module_version":"1.2.0",
            "state":{
              "_model_module":"@jupyter-widgets\/base",
              "_model_module_version":"1.2.0",
              "_model_name":"LayoutModel",
              "_view_count":null,
              "_view_module":"@jupyter-widgets\/base",
              "_view_module_version":"1.2.0",
              "_view_name":"LayoutView",
              "align_content":null,
              "align_items":null,
              "align_self":null,
              "border":null,
              "bottom":null,
              "display":"inline-flex",
              "flex":null,
              "flex_flow":"row wrap",
              "grid_area":null,
              "grid_auto_columns":null,
              "grid_auto_flow":null,
              "grid_auto_rows":null,
              "grid_column":null,
              "grid_gap":null,
              "grid_row":null,
              "grid_template_areas":null,
              "grid_template_columns":null,
              "grid_template_rows":null,
              "height":null,
              "justify_content":null,
              "justify_items":null,
              "left":null,
              "margin":null,
              "max_height":null,
              "max_width":null,
              "min_height":null,
              "min_width":null,
              "object_fit":null,
              "object_position":null,
              "order":null,
              "overflow":null,
              "overflow_x":null,
              "overflow_y":null,
              "padding":null,
              "right":null,
              "top":null,
              "visibility":null,
              "width":"90px"
            }
          },
          "eafb5cf513af4c4581e3b4475a76ee4e":{
            "model_name":"HBoxModel",
            "model_module":"@jupyter-widgets\/controls",
            "model_module_version":"1.5.0",
            "state":{
              "_dom_classes":[
                
              ],
              "_model_module":"@jupyter-widgets\/controls",
              "_model_module_version":"1.5.0",
              "_model_name":"HBoxModel",
              "_view_count":null,
              "_view_module":"@jupyter-widgets\/controls",
              "_view_module_version":"1.5.0",
              "_view_name":"HBoxView",
              "box_style":"",
              "children":[
                "IPY_MODEL_3b4702b7f0244669b39ef368a6cdecdc",
                "IPY_MODEL_f852f55f6c3e4f24b4a21a01d33c53f6",
                "IPY_MODEL_0f7386715b1748559651197085e7a73d"
              ],
              "layout":"IPY_MODEL_633d0a47f69141c2bc2841d64224a737"
            }
          }
        }
      }
    }
  },
  "nbformat":4,
  "nbformat_minor":0
}